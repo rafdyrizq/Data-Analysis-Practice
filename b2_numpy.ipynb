{
 "metadata": {
  "language_info": {
   "codemirror_mode": {
    "name": "ipython",
    "version": 3
   },
   "file_extension": ".py",
   "mimetype": "text/x-python",
   "name": "python",
   "nbconvert_exporter": "python",
   "pygments_lexer": "ipython3",
   "version": "3.7.6-final"
  },
  "orig_nbformat": 2,
  "kernelspec": {
   "name": "python3",
   "display_name": "Python 3"
  }
 },
 "nbformat": 4,
 "nbformat_minor": 2,
 "cells": [
  {
   "source": [
    "# NUMPY"
   ],
   "cell_type": "markdown",
   "metadata": {}
  },
  {
   "cell_type": "code",
   "execution_count": 218,
   "metadata": {},
   "outputs": [],
   "source": [
    "# import library numpy\n",
    "import numpy as np"
   ]
  },
  {
   "cell_type": "code",
   "execution_count": 219,
   "metadata": {},
   "outputs": [
    {
     "output_type": "execute_result",
     "data": {
      "text/plain": [
       "array([1, 2, 3])"
      ]
     },
     "metadata": {},
     "execution_count": 219
    }
   ],
   "source": [
    "# array 1 dimensi\n",
    "mylist = [1,2,3]\n",
    "np.array(mylist)"
   ]
  },
  {
   "cell_type": "code",
   "execution_count": 220,
   "metadata": {},
   "outputs": [
    {
     "output_type": "execute_result",
     "data": {
      "text/plain": [
       "numpy.ndarray"
      ]
     },
     "metadata": {},
     "execution_count": 220
    }
   ],
   "source": [
    "# cek data type\n",
    "type(np.array(mylist))"
   ]
  },
  {
   "cell_type": "code",
   "execution_count": 221,
   "metadata": {},
   "outputs": [
    {
     "output_type": "execute_result",
     "data": {
      "text/plain": [
       "array([[1, 2, 3],\n",
       "       [4, 5, 6],\n",
       "       [7, 8, 9]])"
      ]
     },
     "metadata": {},
     "execution_count": 221
    }
   ],
   "source": [
    "# array 2 dimensi\n",
    "mymatrix = [[1,2,3],[4,5,6],[7,8,9]]\n",
    "np.array(mymatrix)"
   ]
  },
  {
   "cell_type": "code",
   "execution_count": 222,
   "metadata": {},
   "outputs": [
    {
     "output_type": "execute_result",
     "data": {
      "text/plain": [
       "array([[[1, 2],\n",
       "        [3, 4]],\n",
       "\n",
       "       [[5, 6],\n",
       "        [7, 8]]])"
      ]
     },
     "metadata": {},
     "execution_count": 222
    }
   ],
   "source": [
    "# array 3 dimensi\n",
    "my3dlist = [ [ [1,2],[3,4] ],\n",
    "             [ [5,6],[7,8] ] ]\n",
    "np.array(my3dlist)"
   ]
  },
  {
   "cell_type": "code",
   "execution_count": 223,
   "metadata": {},
   "outputs": [
    {
     "output_type": "execute_result",
     "data": {
      "text/plain": [
       "array([0, 1, 2, 3, 4, 5, 6, 7, 8, 9])"
      ]
     },
     "metadata": {},
     "execution_count": 223
    }
   ],
   "source": [
    "x = np.arange(0,10)\n",
    "x"
   ]
  },
  {
   "cell_type": "code",
   "execution_count": 224,
   "metadata": {},
   "outputs": [
    {
     "output_type": "execute_result",
     "data": {
      "text/plain": [
       "array([0, 2, 4, 6, 8])"
      ]
     },
     "metadata": {},
     "execution_count": 224
    }
   ],
   "source": [
    "y = np.arange(0,10,2) # start, stop, step\n",
    "y"
   ]
  },
  {
   "cell_type": "code",
   "execution_count": 225,
   "metadata": {},
   "outputs": [
    {
     "output_type": "execute_result",
     "data": {
      "text/plain": [
       "numpy.ndarray"
      ]
     },
     "metadata": {},
     "execution_count": 225
    }
   ],
   "source": [
    "type(x)"
   ]
  },
  {
   "cell_type": "code",
   "execution_count": 226,
   "metadata": {},
   "outputs": [
    {
     "output_type": "execute_result",
     "data": {
      "text/plain": [
       "numpy.ndarray"
      ]
     },
     "metadata": {},
     "execution_count": 226
    }
   ],
   "source": [
    "type(y)"
   ]
  },
  {
   "cell_type": "code",
   "execution_count": 227,
   "metadata": {},
   "outputs": [],
   "source": [
    "# ## **Mini Activity**\n",
    "\n",
    "# - **Group 1** : \n",
    "# - np.linspace, \n",
    "# - np.zeros, \n",
    "# - arr.shape,\n",
    "# - arr.reshape\n",
    "\n",
    "# - **Group 2**: \n",
    "# - np.ones,  \n",
    "# - np.random.rand, \n",
    "# - np.random.randn, \n",
    "# - np.random.randint\n",
    "\n",
    "\n",
    "# - **Group 3**: \n",
    "# - arr.max, \n",
    "# - arr.argmax, \n",
    "# - arr.min, \n",
    "# - arr.argmin, \n",
    "# - arr.dtype\n",
    "\n",
    "# Cara pemakaian  \n",
    "# Fungsi method  \n",
    "# Aplikasinya apa  \n"
   ]
  },
  {
   "source": [
    "# LINSPACE, ZEROS, ONES, EYE"
   ],
   "cell_type": "markdown",
   "metadata": {}
  },
  {
   "cell_type": "code",
   "execution_count": 228,
   "metadata": {},
   "outputs": [
    {
     "output_type": "execute_result",
     "data": {
      "text/plain": [
       "array([  1. ,  20.8,  40.6,  60.4,  80.2, 100. ])"
      ]
     },
     "metadata": {},
     "execution_count": 228
    }
   ],
   "source": [
    "# membuat array dgn jarak antar elemennya sama\n",
    "# deret bilangan (start, stop, step) \n",
    "np.linspace(1,100,6) "
   ]
  },
  {
   "cell_type": "code",
   "execution_count": 229,
   "metadata": {},
   "outputs": [
    {
     "output_type": "execute_result",
     "data": {
      "text/plain": [
       "array([[1., 0., 0., 0., 0.],\n",
       "       [0., 1., 0., 0., 0.],\n",
       "       [0., 0., 1., 0., 0.],\n",
       "       [0., 0., 0., 1., 0.],\n",
       "       [0., 0., 0., 0., 1.]])"
      ]
     },
     "metadata": {},
     "execution_count": 229
    }
   ],
   "source": [
    "np.eye(5,5) \n",
    "# membentuk angka 1 diagonal diantara angka-angka 0"
   ]
  },
  {
   "cell_type": "code",
   "execution_count": 230,
   "metadata": {},
   "outputs": [
    {
     "output_type": "execute_result",
     "data": {
      "text/plain": [
       "array([0., 0., 0., 0., 0.])"
      ]
     },
     "metadata": {},
     "execution_count": 230
    }
   ],
   "source": [
    "np.zeros(5) \n",
    "# membuat array berisi angka 0, 1 dimensi"
   ]
  },
  {
   "cell_type": "code",
   "execution_count": 231,
   "metadata": {},
   "outputs": [
    {
     "output_type": "execute_result",
     "data": {
      "text/plain": [
       "array([[0., 0.],\n",
       "       [0., 0.],\n",
       "       [0., 0.],\n",
       "       [0., 0.],\n",
       "       [0., 0.]])"
      ]
     },
     "metadata": {},
     "execution_count": 231
    }
   ],
   "source": [
    "np.zeros((5,2)) \n",
    "# membuat array berisi angka 0, \n",
    "# 2 dimensi, ditulis dgn tuple"
   ]
  },
  {
   "cell_type": "code",
   "execution_count": 232,
   "metadata": {},
   "outputs": [
    {
     "output_type": "execute_result",
     "data": {
      "text/plain": [
       "array([[[0., 0.],\n",
       "        [0., 0.]],\n",
       "\n",
       "       [[0., 0.],\n",
       "        [0., 0.]],\n",
       "\n",
       "       [[0., 0.],\n",
       "        [0., 0.]],\n",
       "\n",
       "       [[0., 0.],\n",
       "        [0., 0.]],\n",
       "\n",
       "       [[0., 0.],\n",
       "        [0., 0.]]])"
      ]
     },
     "metadata": {},
     "execution_count": 232
    }
   ],
   "source": [
    "np.zeros((5,2,2)) # 3 dimensi, ditulis dgn tuple"
   ]
  },
  {
   "cell_type": "code",
   "execution_count": 233,
   "metadata": {},
   "outputs": [
    {
     "output_type": "execute_result",
     "data": {
      "text/plain": [
       "array([[0, 0],\n",
       "       [0, 0],\n",
       "       [0, 0],\n",
       "       [0, 0],\n",
       "       [0, 0]])"
      ]
     },
     "metadata": {},
     "execution_count": 233
    }
   ],
   "source": [
    "np.zeros((5,2), dtype=int) \n",
    "# tambah parameter dtype untuk mengubah data typenya"
   ]
  },
  {
   "cell_type": "code",
   "execution_count": 236,
   "metadata": {},
   "outputs": [
    {
     "output_type": "execute_result",
     "data": {
      "text/plain": [
       "array([[1, 1],\n",
       "       [1, 1],\n",
       "       [1, 1],\n",
       "       [1, 1],\n",
       "       [1, 1]])"
      ]
     },
     "metadata": {},
     "execution_count": 236
    }
   ],
   "source": [
    "np.ones((5,2), dtype=int, order='F')\n",
    "# membuat data dummy dgn array berapa dimensi\n",
    "# bisa menentukan data typenya int / float"
   ]
  },
  {
   "source": [
    "# SHAPE & RESHAPE"
   ],
   "cell_type": "markdown",
   "metadata": {}
  },
  {
   "cell_type": "code",
   "execution_count": 249,
   "metadata": {},
   "outputs": [
    {
     "output_type": "stream",
     "name": "stdout",
     "text": [
      "(2, 4)\n"
     ]
    }
   ],
   "source": [
    "arr = np.array([[1,2,8,4],[5,6,7,3]])\n",
    "print(arr.shape)\n",
    "# bentuk dari array, hitung element dari kurung paling dalam"
   ]
  },
  {
   "cell_type": "code",
   "execution_count": 252,
   "metadata": {},
   "outputs": [
    {
     "output_type": "stream",
     "name": "stdout",
     "text": [
      "[[[ 1  2]\n  [ 3  4]\n  [ 5  6]]\n\n [[ 7  8]\n  [ 9 10]\n  [11 12]]]\n(12,)\n"
     ]
    }
   ],
   "source": [
    "arrB = np.array([1,2,3,4,5,6,7,8,9,10,11,12])\n",
    "print(arrB.reshape(2,3,2))\n",
    "# mengubah bentuk/shape\n",
    "# shape baru sesuai dgn jumlah elemen dalam array\n"
   ]
  },
  {
   "source": [
    "# RANDOM"
   ],
   "cell_type": "markdown",
   "metadata": {}
  },
  {
   "cell_type": "code",
   "execution_count": 237,
   "metadata": {},
   "outputs": [
    {
     "output_type": "execute_result",
     "data": {
      "text/plain": [
       "array([[0.94243034, 0.12000618, 0.14825901, 0.57610911],\n",
       "       [0.87140013, 0.84216943, 0.37823434, 0.7932978 ],\n",
       "       [0.0590984 , 0.61162097, 0.851772  , 0.67685612]])"
      ]
     },
     "metadata": {},
     "execution_count": 237
    }
   ],
   "source": [
    "np.random.rand(3,4)\n",
    "# memasukkan angka random antara -1 sampai 1 \n",
    "# bentuknya dimasukkan di parameternya "
   ]
  },
  {
   "cell_type": "code",
   "execution_count": 238,
   "metadata": {},
   "outputs": [
    {
     "output_type": "execute_result",
     "data": {
      "text/plain": [
       "array([[ 1.34950759,  0.65786008, -1.0541541 , -2.73676231],\n",
       "       [-0.24800248, -2.06365311,  1.08072392, -0.55437985],\n",
       "       [ 0.26475159,  0.39927754,  1.01425751,  0.50898157]])"
      ]
     },
     "metadata": {},
     "execution_count": 238
    }
   ],
   "source": [
    "np.random.randn(3,4)\n",
    "# memasukkan angka random antara -1 sampai 1 (mayoritas)\n",
    "# bisa jadi ada angka <-1 atau >1\n",
    "# bentuknya dimasukkan di parameternya "
   ]
  },
  {
   "cell_type": "code",
   "execution_count": 247,
   "metadata": {},
   "outputs": [
    {
     "output_type": "execute_result",
     "data": {
      "text/plain": [
       "array([67, 81, 66, 49, 79])"
      ]
     },
     "metadata": {},
     "execution_count": 247
    }
   ],
   "source": [
    "np.random.randint(0,100, size=5)\n",
    "# memasukkan angka random antara parameter yg dimasukkan sebanyak size"
   ]
  },
  {
   "cell_type": "code",
   "execution_count": 246,
   "metadata": {},
   "outputs": [
    {
     "output_type": "execute_result",
     "data": {
      "text/plain": [
       "array([ 2, 29, 64])"
      ]
     },
     "metadata": {},
     "execution_count": 246
    }
   ],
   "source": [
    "np.random.randint(1,[3,30,100])\n",
    "# memasukkan angka random antara parameter yg dimasukkan\n",
    "# 1-3, 1-30, 1-100"
   ]
  },
  {
   "cell_type": "code",
   "execution_count": null,
   "metadata": {},
   "outputs": [],
   "source": []
  },
  {
   "source": [
    "# MAX ARGMAX MIN ARGMIN DTYPE"
   ],
   "cell_type": "markdown",
   "metadata": {}
  },
  {
   "cell_type": "code",
   "execution_count": 241,
   "metadata": {},
   "outputs": [
    {
     "output_type": "stream",
     "name": "stdout",
     "text": [
      "8\n"
     ]
    }
   ],
   "source": [
    "arr = np.array([[1,2,8,4],[5,6,7,3]])\n",
    "\n",
    "print(arr.max())\n",
    "# nilai max pada array"
   ]
  },
  {
   "cell_type": "code",
   "execution_count": 242,
   "metadata": {},
   "outputs": [
    {
     "output_type": "stream",
     "name": "stdout",
     "text": [
      "2\n[1 1 0 0]\n[2 2]\n"
     ]
    }
   ],
   "source": [
    "print(arr.argmax())\n",
    "# index dari angka tertinggi\n",
    "\n",
    "print(arr.argmax(axis=0)) # index dari angka tertinggi antara 2 elemen\n",
    "print(arr.argmax(axis=1)) # index dari angka tertinggi dalam 1 baris\n"
   ]
  },
  {
   "cell_type": "code",
   "execution_count": 243,
   "metadata": {},
   "outputs": [
    {
     "output_type": "stream",
     "name": "stdout",
     "text": [
      "1\n"
     ]
    }
   ],
   "source": [
    "print(arr.min())\n",
    "# nilai minimum pada array"
   ]
  },
  {
   "cell_type": "code",
   "execution_count": 244,
   "metadata": {},
   "outputs": [
    {
     "output_type": "stream",
     "name": "stdout",
     "text": [
      "0\n[0 0 1 1]\n[0 3]\n"
     ]
    }
   ],
   "source": [
    "print(arr.argmin())\n",
    "print(arr.argmin(axis=0))\n",
    "print(arr.argmin(axis=1))\n",
    "# index dari angka terendah"
   ]
  },
  {
   "cell_type": "code",
   "execution_count": 245,
   "metadata": {},
   "outputs": [
    {
     "output_type": "stream",
     "name": "stdout",
     "text": [
      "int32\n"
     ]
    }
   ],
   "source": [
    "print(arr.dtype)\n"
   ]
  },
  {
   "cell_type": "code",
   "execution_count": 258,
   "metadata": {},
   "outputs": [
    {
     "output_type": "stream",
     "name": "stdout",
     "text": [
      "int64\nfloat64\n"
     ]
    }
   ],
   "source": [
    "z=(np.int64(arr))\n",
    "print(z.dtype)\n",
    "\n",
    "z=(np.float64(arr))\n",
    "print(z.dtype)"
   ]
  },
  {
   "source": [
    "# INDEXING"
   ],
   "cell_type": "markdown",
   "metadata": {}
  },
  {
   "cell_type": "code",
   "execution_count": 261,
   "metadata": {},
   "outputs": [
    {
     "output_type": "execute_result",
     "data": {
      "text/plain": [
       "array([11, 12, 13, 14, 15, 16, 17, 18, 19, 20])"
      ]
     },
     "metadata": {},
     "execution_count": 261
    }
   ],
   "source": [
    "a = np.arange(11,21)\n",
    "a"
   ]
  },
  {
   "cell_type": "code",
   "execution_count": 262,
   "metadata": {},
   "outputs": [
    {
     "output_type": "execute_result",
     "data": {
      "text/plain": [
       "19"
      ]
     },
     "metadata": {},
     "execution_count": 262
    }
   ],
   "source": [
    "a[8]"
   ]
  },
  {
   "cell_type": "code",
   "execution_count": 263,
   "metadata": {},
   "outputs": [
    {
     "output_type": "execute_result",
     "data": {
      "text/plain": [
       "array([11, 13, 15, 17])"
      ]
     },
     "metadata": {},
     "execution_count": 263
    }
   ],
   "source": [
    "a[0:8:2]"
   ]
  },
  {
   "cell_type": "code",
   "execution_count": 264,
   "metadata": {},
   "outputs": [
    {
     "output_type": "execute_result",
     "data": {
      "text/plain": [
       "array([[11, 12, 13, 14, 15],\n",
       "       [16, 17, 18, 19, 20]])"
      ]
     },
     "metadata": {},
     "execution_count": 264
    }
   ],
   "source": [
    "a = a.reshape(2,5)\n",
    "a"
   ]
  },
  {
   "cell_type": "code",
   "execution_count": 265,
   "metadata": {},
   "outputs": [
    {
     "output_type": "execute_result",
     "data": {
      "text/plain": [
       "12"
      ]
     },
     "metadata": {},
     "execution_count": 265
    }
   ],
   "source": [
    "a[0][1]"
   ]
  },
  {
   "source": [
    "#  BROADCASTING "
   ],
   "cell_type": "markdown",
   "metadata": {}
  },
  {
   "cell_type": "code",
   "execution_count": 267,
   "metadata": {},
   "outputs": [
    {
     "output_type": "execute_result",
     "data": {
      "text/plain": [
       "array([11, 12, 13, 14, 15, 16, 17, 18, 19, 20])"
      ]
     },
     "metadata": {},
     "execution_count": 267
    }
   ],
   "source": [
    "a = np.arange(11,21)\n",
    "a"
   ]
  },
  {
   "cell_type": "code",
   "execution_count": 270,
   "metadata": {},
   "outputs": [
    {
     "output_type": "execute_result",
     "data": {
      "text/plain": [
       "array([ 0,  0,  0,  0, 15, 16, 17, 18, 19, 20])"
      ]
     },
     "metadata": {},
     "execution_count": 270
    }
   ],
   "source": [
    "a[0:4] = 0\n",
    "a"
   ]
  },
  {
   "source": [
    "# SLICING "
   ],
   "cell_type": "markdown",
   "metadata": {}
  },
  {
   "cell_type": "code",
   "execution_count": 281,
   "metadata": {},
   "outputs": [
    {
     "output_type": "execute_result",
     "data": {
      "text/plain": [
       "array([ 1, 17, 18, 19])"
      ]
     },
     "metadata": {},
     "execution_count": 281
    }
   ],
   "source": [
    "sliceA = a[5:9]\n",
    "sliceA"
   ]
  },
  {
   "cell_type": "code",
   "execution_count": 282,
   "metadata": {},
   "outputs": [
    {
     "output_type": "execute_result",
     "data": {
      "text/plain": [
       "array([ 0,  0,  0,  0, 15,  1,  1,  1,  1, 20])"
      ]
     },
     "metadata": {},
     "execution_count": 282
    }
   ],
   "source": [
    "sliceA[0:] = 1\n",
    "a \n",
    "# nilai a jadi berubah karena sliceA hanya berupa view dari array a"
   ]
  },
  {
   "source": [
    "# COPY"
   ],
   "cell_type": "markdown",
   "metadata": {}
  },
  {
   "cell_type": "code",
   "execution_count": 284,
   "metadata": {},
   "outputs": [
    {
     "output_type": "execute_result",
     "data": {
      "text/plain": [
       "array([ 1,  1,  1,  1, 20])"
      ]
     },
     "metadata": {},
     "execution_count": 284
    }
   ],
   "source": [
    "c = a[5:10].copy()\n",
    "c"
   ]
  },
  {
   "source": [
    "# INDEXING 2D ARRAY"
   ],
   "cell_type": "markdown",
   "metadata": {}
  },
  {
   "cell_type": "code",
   "execution_count": 285,
   "metadata": {},
   "outputs": [
    {
     "output_type": "execute_result",
     "data": {
      "text/plain": [
       "array([[ 5, 10, 15],\n",
       "       [20, 25, 10],\n",
       "       [15, 35, 25]])"
      ]
     },
     "metadata": {},
     "execution_count": 285
    }
   ],
   "source": [
    "arr2D = np.array(([5,10,15],[20,25,10],[15,35,25]))\n",
    "arr2D"
   ]
  },
  {
   "cell_type": "code",
   "execution_count": 286,
   "metadata": {},
   "outputs": [
    {
     "output_type": "execute_result",
     "data": {
      "text/plain": [
       "array([10, 25, 35])"
      ]
     },
     "metadata": {},
     "execution_count": 286
    }
   ],
   "source": [
    "yo = arr2D[0,1], arr2D[1,1], arr2D[2,1]\n",
    "np.array(yo)"
   ]
  },
  {
   "cell_type": "code",
   "execution_count": 287,
   "metadata": {},
   "outputs": [
    {
     "output_type": "execute_result",
     "data": {
      "text/plain": [
       "array([20, 25, 10])"
      ]
     },
     "metadata": {},
     "execution_count": 287
    }
   ],
   "source": [
    "arr2D[1]"
   ]
  },
  {
   "cell_type": "code",
   "execution_count": 288,
   "metadata": {},
   "outputs": [
    {
     "output_type": "execute_result",
     "data": {
      "text/plain": [
       "15"
      ]
     },
     "metadata": {},
     "execution_count": 288
    }
   ],
   "source": [
    "arr2D[0][2]"
   ]
  },
  {
   "cell_type": "code",
   "execution_count": 289,
   "metadata": {},
   "outputs": [
    {
     "output_type": "execute_result",
     "data": {
      "text/plain": [
       "15"
      ]
     },
     "metadata": {},
     "execution_count": 289
    }
   ],
   "source": [
    "arr2D[0,2]"
   ]
  },
  {
   "source": [
    "# 2D ARRAY SLICING"
   ],
   "cell_type": "markdown",
   "metadata": {}
  },
  {
   "cell_type": "code",
   "execution_count": 291,
   "metadata": {},
   "outputs": [
    {
     "output_type": "execute_result",
     "data": {
      "text/plain": [
       "array([[ 5, 10, 15],\n",
       "       [20, 25, 10],\n",
       "       [15, 35, 25]])"
      ]
     },
     "metadata": {},
     "execution_count": 291
    }
   ],
   "source": [
    "arr2D"
   ]
  },
  {
   "cell_type": "code",
   "execution_count": 293,
   "metadata": {},
   "outputs": [
    {
     "output_type": "execute_result",
     "data": {
      "text/plain": [
       "array([[ 5, 10],\n",
       "       [20, 25],\n",
       "       [15, 35]])"
      ]
     },
     "metadata": {},
     "execution_count": 293
    }
   ],
   "source": [
    "arr2D[:3, :2]\n",
    "# dalam [[]] slicing :3\n",
    "# dalam [] slicing :2"
   ]
  },
  {
   "cell_type": "code",
   "execution_count": 294,
   "metadata": {},
   "outputs": [
    {
     "output_type": "execute_result",
     "data": {
      "text/plain": [
       "array([15, 35, 25])"
      ]
     },
     "metadata": {},
     "execution_count": 294
    }
   ],
   "source": [
    "arr2D[2]"
   ]
  },
  {
   "cell_type": "code",
   "execution_count": 298,
   "metadata": {},
   "outputs": [
    {
     "output_type": "execute_result",
     "data": {
      "text/plain": [
       "array([15, 35, 25])"
      ]
     },
     "metadata": {},
     "execution_count": 298
    }
   ],
   "source": [
    "arr2D[2, :]"
   ]
  },
  {
   "source": [
    "# LENGTH OF ARRAY"
   ],
   "cell_type": "markdown",
   "metadata": {}
  },
  {
   "cell_type": "code",
   "execution_count": 300,
   "metadata": {},
   "outputs": [
    {
     "output_type": "execute_result",
     "data": {
      "text/plain": [
       "array([[0., 0., 0., 0., 0.],\n",
       "       [0., 0., 0., 0., 0.],\n",
       "       [0., 0., 0., 0., 0.],\n",
       "       [0., 0., 0., 0., 0.],\n",
       "       [0., 0., 0., 0., 0.],\n",
       "       [0., 0., 0., 0., 0.],\n",
       "       [0., 0., 0., 0., 0.],\n",
       "       [0., 0., 0., 0., 0.],\n",
       "       [0., 0., 0., 0., 0.],\n",
       "       [0., 0., 0., 0., 0.]])"
      ]
     },
     "metadata": {},
     "execution_count": 300
    }
   ],
   "source": [
    "arr2D = np.zeros((10,5))\n",
    "arr2D"
   ]
  },
  {
   "cell_type": "code",
   "execution_count": 301,
   "metadata": {},
   "outputs": [
    {
     "output_type": "execute_result",
     "data": {
      "text/plain": [
       "10"
      ]
     },
     "metadata": {},
     "execution_count": 301
    }
   ],
   "source": [
    "len(arr2D) \n",
    "# panjang/ banyaknya [],[],[]"
   ]
  },
  {
   "cell_type": "code",
   "execution_count": 302,
   "metadata": {},
   "outputs": [
    {
     "output_type": "execute_result",
     "data": {
      "text/plain": [
       "10"
      ]
     },
     "metadata": {},
     "execution_count": 302
    }
   ],
   "source": [
    "arr_length = arr2D.shape[0]\n",
    "arr_length"
   ]
  },
  {
   "source": [
    "# SELECTION"
   ],
   "cell_type": "markdown",
   "metadata": {}
  },
  {
   "cell_type": "code",
   "execution_count": 303,
   "metadata": {},
   "outputs": [
    {
     "output_type": "execute_result",
     "data": {
      "text/plain": [
       "array([ 5,  6,  7,  8,  9, 10, 11, 12, 13, 14, 15, 16, 17, 18, 19, 20, 21,\n",
       "       22, 23, 24])"
      ]
     },
     "metadata": {},
     "execution_count": 303
    }
   ],
   "source": [
    "gaji = np.arange(5, 25)\n",
    "gaji"
   ]
  },
  {
   "cell_type": "code",
   "execution_count": 304,
   "metadata": {},
   "outputs": [
    {
     "output_type": "execute_result",
     "data": {
      "text/plain": [
       "array([False, False, False, False, False, False,  True,  True,  True,\n",
       "        True,  True,  True,  True,  True,  True,  True,  True,  True,\n",
       "        True,  True])"
      ]
     },
     "metadata": {},
     "execution_count": 304
    }
   ],
   "source": [
    "# selection gaji > 10jt\n",
    "gaji>10"
   ]
  },
  {
   "cell_type": "code",
   "execution_count": 305,
   "metadata": {},
   "outputs": [
    {
     "output_type": "execute_result",
     "data": {
      "text/plain": [
       "array([11, 12, 13, 14, 15, 16, 17, 18, 19, 20, 21, 22, 23, 24])"
      ]
     },
     "metadata": {},
     "execution_count": 305
    }
   ],
   "source": [
    "bool_gaji = gaji>10\n",
    "gaji[bool_gaji]"
   ]
  },
  {
   "cell_type": "code",
   "execution_count": 306,
   "metadata": {},
   "outputs": [
    {
     "output_type": "execute_result",
     "data": {
      "text/plain": [
       "array([11, 12, 13, 14, 15, 16, 17, 18, 19, 20, 21, 22, 23, 24])"
      ]
     },
     "metadata": {},
     "execution_count": 306
    }
   ],
   "source": [
    "gaji[gaji>10]"
   ]
  },
  {
   "source": [
    "# ARITMETHIC"
   ],
   "cell_type": "markdown",
   "metadata": {}
  },
  {
   "cell_type": "code",
   "execution_count": 308,
   "metadata": {},
   "outputs": [
    {
     "output_type": "stream",
     "name": "stdout",
     "text": [
      "[ 5  6  7  8  9 10 11 12 13 14]\n[15 16 17 18 19 20 21 22 23 24]\n"
     ]
    }
   ],
   "source": [
    "x = np.arange(5,15)\n",
    "y = np.arange(15,25)\n",
    "print(x)\n",
    "print(y)"
   ]
  },
  {
   "cell_type": "code",
   "execution_count": 309,
   "metadata": {},
   "outputs": [
    {
     "output_type": "execute_result",
     "data": {
      "text/plain": [
       "array([ 5,  6,  7,  8,  9, 10, 11, 12, 13, 14])"
      ]
     },
     "metadata": {},
     "execution_count": 309
    }
   ],
   "source": [
    "x"
   ]
  },
  {
   "cell_type": "code",
   "execution_count": 310,
   "metadata": {},
   "outputs": [
    {
     "output_type": "execute_result",
     "data": {
      "text/plain": [
       "array([15, 16, 17, 18, 19, 20, 21, 22, 23, 24])"
      ]
     },
     "metadata": {},
     "execution_count": 310
    }
   ],
   "source": [
    "y"
   ]
  },
  {
   "cell_type": "code",
   "execution_count": 311,
   "metadata": {},
   "outputs": [
    {
     "output_type": "execute_result",
     "data": {
      "text/plain": [
       "array([20, 22, 24, 26, 28, 30, 32, 34, 36, 38])"
      ]
     },
     "metadata": {},
     "execution_count": 311
    }
   ],
   "source": [
    "x + y"
   ]
  },
  {
   "cell_type": "code",
   "execution_count": 312,
   "metadata": {},
   "outputs": [
    {
     "output_type": "execute_result",
     "data": {
      "text/plain": [
       "array([-10, -10, -10, -10, -10, -10, -10, -10, -10, -10])"
      ]
     },
     "metadata": {},
     "execution_count": 312
    }
   ],
   "source": [
    "x - y"
   ]
  },
  {
   "cell_type": "code",
   "execution_count": 313,
   "metadata": {},
   "outputs": [
    {
     "output_type": "execute_result",
     "data": {
      "text/plain": [
       "array([3.        , 2.66666667, 2.42857143, 2.25      , 2.11111111,\n",
       "       2.        , 1.90909091, 1.83333333, 1.76923077, 1.71428571])"
      ]
     },
     "metadata": {},
     "execution_count": 313
    }
   ],
   "source": [
    "y/x"
   ]
  },
  {
   "cell_type": "code",
   "execution_count": 314,
   "metadata": {},
   "outputs": [
    {
     "output_type": "execute_result",
     "data": {
      "text/plain": [
       "array([ 75,  96, 119, 144, 171, 200, 231, 264, 299, 336])"
      ]
     },
     "metadata": {},
     "execution_count": 314
    }
   ],
   "source": [
    "x*y"
   ]
  },
  {
   "cell_type": "code",
   "execution_count": 316,
   "metadata": {},
   "outputs": [
    {
     "output_type": "execute_result",
     "data": {
      "text/plain": [
       "array([ 25,  36,  49,  64,  81, 100, 121, 144, 169, 196], dtype=int32)"
      ]
     },
     "metadata": {},
     "execution_count": 316
    }
   ],
   "source": [
    "pangkatDua = x ** 2\n",
    "pangkatDua"
   ]
  },
  {
   "cell_type": "code",
   "execution_count": 317,
   "metadata": {},
   "outputs": [
    {
     "output_type": "execute_result",
     "data": {
      "text/plain": [
       "array([ 5.,  6.,  7.,  8.,  9., 10., 11., 12., 13., 14.])"
      ]
     },
     "metadata": {},
     "execution_count": 317
    }
   ],
   "source": [
    "np.sqrt(pangkatDua)"
   ]
  },
  {
   "cell_type": "code",
   "execution_count": 319,
   "metadata": {},
   "outputs": [
    {
     "output_type": "execute_result",
     "data": {
      "text/plain": [
       "array([1.48413159e+02, 4.03428793e+02, 1.09663316e+03, 2.98095799e+03,\n",
       "       8.10308393e+03, 2.20264658e+04, 5.98741417e+04, 1.62754791e+05,\n",
       "       4.42413392e+05, 1.20260428e+06])"
      ]
     },
     "metadata": {},
     "execution_count": 319
    }
   ],
   "source": [
    "np.exp(x)"
   ]
  },
  {
   "cell_type": "code",
   "execution_count": 320,
   "metadata": {},
   "outputs": [
    {
     "output_type": "execute_result",
     "data": {
      "text/plain": [
       "array([-0.95892427, -0.2794155 ,  0.6569866 ,  0.98935825,  0.41211849,\n",
       "       -0.54402111, -0.99999021, -0.53657292,  0.42016704,  0.99060736])"
      ]
     },
     "metadata": {},
     "execution_count": 320
    }
   ],
   "source": [
    "np.sin(x)"
   ]
  },
  {
   "cell_type": "code",
   "execution_count": 321,
   "metadata": {},
   "outputs": [
    {
     "output_type": "execute_result",
     "data": {
      "text/plain": [
       "array([1.60943791, 1.79175947, 1.94591015, 2.07944154, 2.19722458,\n",
       "       2.30258509, 2.39789527, 2.48490665, 2.56494936, 2.63905733])"
      ]
     },
     "metadata": {},
     "execution_count": 321
    }
   ],
   "source": [
    "np.log(x)"
   ]
  },
  {
   "cell_type": "code",
   "execution_count": 322,
   "metadata": {},
   "outputs": [
    {
     "output_type": "execute_result",
     "data": {
      "text/plain": [
       "array([[ 5,  6,  7,  8,  9],\n",
       "       [10, 11, 12, 13, 14]])"
      ]
     },
     "metadata": {},
     "execution_count": 322
    }
   ],
   "source": [
    "z = x.reshape(2,5)\n",
    "z"
   ]
  },
  {
   "cell_type": "code",
   "execution_count": 323,
   "metadata": {},
   "outputs": [
    {
     "output_type": "execute_result",
     "data": {
      "text/plain": [
       "array([[10, 12, 14, 16, 18],\n",
       "       [20, 22, 24, 26, 28]])"
      ]
     },
     "metadata": {},
     "execution_count": 323
    }
   ],
   "source": [
    "z*2"
   ]
  },
  {
   "cell_type": "code",
   "execution_count": 324,
   "metadata": {},
   "outputs": [
    {
     "output_type": "execute_result",
     "data": {
      "text/plain": [
       "array([1, 2, 3])"
      ]
     },
     "metadata": {},
     "execution_count": 324
    }
   ],
   "source": [
    "a = np.arange(1,4)\n",
    "a"
   ]
  },
  {
   "cell_type": "code",
   "execution_count": 325,
   "metadata": {},
   "outputs": [
    {
     "output_type": "error",
     "ename": "ValueError",
     "evalue": "operands could not be broadcast together with shapes (2,5) (3,) ",
     "traceback": [
      "\u001b[1;31m---------------------------------------------------------------------------\u001b[0m",
      "\u001b[1;31mValueError\u001b[0m                                Traceback (most recent call last)",
      "\u001b[1;32m<ipython-input-325-3c2cf8cd2d1b>\u001b[0m in \u001b[0;36m<module>\u001b[1;34m\u001b[0m\n\u001b[1;32m----> 1\u001b[1;33m \u001b[0mz\u001b[0m\u001b[1;33m*\u001b[0m\u001b[0ma\u001b[0m\u001b[1;33m\u001b[0m\u001b[1;33m\u001b[0m\u001b[0m\n\u001b[0m",
      "\u001b[1;31mValueError\u001b[0m: operands could not be broadcast together with shapes (2,5) (3,) "
     ]
    }
   ],
   "source": [
    "z*a # error karena shapenya ga sama"
   ]
  },
  {
   "cell_type": "code",
   "execution_count": 327,
   "metadata": {},
   "outputs": [
    {
     "output_type": "execute_result",
     "data": {
      "text/plain": [
       "array([2, 3, 4, 5, 6])"
      ]
     },
     "metadata": {},
     "execution_count": 327
    }
   ],
   "source": [
    "b = np.arange(2,7)\n",
    "b"
   ]
  },
  {
   "cell_type": "code",
   "execution_count": 328,
   "metadata": {},
   "outputs": [
    {
     "output_type": "execute_result",
     "data": {
      "text/plain": [
       "array([[10, 18, 28, 40, 54],\n",
       "       [20, 33, 48, 65, 84]])"
      ]
     },
     "metadata": {},
     "execution_count": 328
    }
   ],
   "source": [
    "z*b\n",
    "# setiap row dikali dgn yg berpasangan indexnya"
   ]
  },
  {
   "cell_type": "code",
   "execution_count": 329,
   "metadata": {},
   "outputs": [
    {
     "output_type": "execute_result",
     "data": {
      "text/plain": [
       "array([[1],\n",
       "       [2]])"
      ]
     },
     "metadata": {},
     "execution_count": 329
    }
   ],
   "source": [
    "c = np.array([[1],[2]])\n",
    "c"
   ]
  },
  {
   "cell_type": "code",
   "execution_count": 330,
   "metadata": {},
   "outputs": [
    {
     "output_type": "execute_result",
     "data": {
      "text/plain": [
       "array([[ 5,  6,  7,  8,  9],\n",
       "       [20, 22, 24, 26, 28]])"
      ]
     },
     "metadata": {},
     "execution_count": 330
    }
   ],
   "source": [
    "z*c"
   ]
  },
  {
   "cell_type": "code",
   "execution_count": 333,
   "metadata": {},
   "outputs": [],
   "source": [
    "# untuk melakukan operasi matematika antar array, ukuran array di dimensi yang sama/ salah satunya bernilai 1"
   ]
  },
  {
   "cell_type": "code",
   "execution_count": 334,
   "metadata": {},
   "outputs": [
    {
     "output_type": "execute_result",
     "data": {
      "text/plain": [
       "1935"
      ]
     },
     "metadata": {},
     "execution_count": 334
    }
   ],
   "source": [
    "np.dot(x,y) # perkalian matrix"
   ]
  },
  {
   "cell_type": "code",
   "execution_count": 335,
   "metadata": {},
   "outputs": [
    {
     "output_type": "execute_result",
     "data": {
      "text/plain": [
       "1935"
      ]
     },
     "metadata": {},
     "execution_count": 335
    }
   ],
   "source": [
    "x@y # perkalian matrix"
   ]
  },
  {
   "cell_type": "code",
   "execution_count": null,
   "metadata": {},
   "outputs": [],
   "source": []
  },
  {
   "cell_type": "code",
   "execution_count": null,
   "metadata": {},
   "outputs": [],
   "source": []
  }
 ]
}