{
 "metadata": {
  "language_info": {
   "codemirror_mode": {
    "name": "ipython",
    "version": 3
   },
   "file_extension": ".py",
   "mimetype": "text/x-python",
   "name": "python",
   "nbconvert_exporter": "python",
   "pygments_lexer": "ipython3",
   "version": "3.7.6-final"
  },
  "orig_nbformat": 2,
  "kernelspec": {
   "name": "python3",
   "display_name": "Python 3"
  }
 },
 "nbformat": 4,
 "nbformat_minor": 2,
 "cells": [
  {
   "cell_type": "code",
   "execution_count": 3,
   "metadata": {},
   "outputs": [],
   "source": [
    "import pandas as pd\n",
    "import numpy as np"
   ]
  },
  {
   "cell_type": "code",
   "execution_count": 4,
   "metadata": {},
   "outputs": [
    {
     "output_type": "execute_result",
     "data": {
      "text/plain": [
       "         Maret  April  Mei\n",
       "Jakarta      1      2    3\n",
       "Bandung      4      5    6\n",
       "Bekasi       7      8    9"
      ],
      "text/html": "<div>\n<style scoped>\n    .dataframe tbody tr th:only-of-type {\n        vertical-align: middle;\n    }\n\n    .dataframe tbody tr th {\n        vertical-align: top;\n    }\n\n    .dataframe thead th {\n        text-align: right;\n    }\n</style>\n<table border=\"1\" class=\"dataframe\">\n  <thead>\n    <tr style=\"text-align: right;\">\n      <th></th>\n      <th>Maret</th>\n      <th>April</th>\n      <th>Mei</th>\n    </tr>\n  </thead>\n  <tbody>\n    <tr>\n      <th>Jakarta</th>\n      <td>1</td>\n      <td>2</td>\n      <td>3</td>\n    </tr>\n    <tr>\n      <th>Bandung</th>\n      <td>4</td>\n      <td>5</td>\n      <td>6</td>\n    </tr>\n    <tr>\n      <th>Bekasi</th>\n      <td>7</td>\n      <td>8</td>\n      <td>9</td>\n    </tr>\n  </tbody>\n</table>\n</div>"
     },
     "metadata": {},
     "execution_count": 4
    }
   ],
   "source": [
    "df = pd.DataFrame(np.array([[1,2,3],[4,5,6],[7,8,9]]),\n",
    "                  index = ['Jakarta','Bandung','Bekasi'],\n",
    "                  columns= ['Maret','April','Mei'])\n",
    "\n",
    "df\n",
    "                  "
   ]
  },
  {
   "source": [
    "# Reset & Set Index"
   ],
   "cell_type": "markdown",
   "metadata": {}
  },
  {
   "cell_type": "code",
   "execution_count": 5,
   "metadata": {},
   "outputs": [
    {
     "output_type": "execute_result",
     "data": {
      "text/plain": [
       "     index  Maret  April  Mei\n",
       "0  Jakarta      1      2    3\n",
       "1  Bandung      4      5    6\n",
       "2   Bekasi      7      8    9"
      ],
      "text/html": "<div>\n<style scoped>\n    .dataframe tbody tr th:only-of-type {\n        vertical-align: middle;\n    }\n\n    .dataframe tbody tr th {\n        vertical-align: top;\n    }\n\n    .dataframe thead th {\n        text-align: right;\n    }\n</style>\n<table border=\"1\" class=\"dataframe\">\n  <thead>\n    <tr style=\"text-align: right;\">\n      <th></th>\n      <th>index</th>\n      <th>Maret</th>\n      <th>April</th>\n      <th>Mei</th>\n    </tr>\n  </thead>\n  <tbody>\n    <tr>\n      <th>0</th>\n      <td>Jakarta</td>\n      <td>1</td>\n      <td>2</td>\n      <td>3</td>\n    </tr>\n    <tr>\n      <th>1</th>\n      <td>Bandung</td>\n      <td>4</td>\n      <td>5</td>\n      <td>6</td>\n    </tr>\n    <tr>\n      <th>2</th>\n      <td>Bekasi</td>\n      <td>7</td>\n      <td>8</td>\n      <td>9</td>\n    </tr>\n  </tbody>\n</table>\n</div>"
     },
     "metadata": {},
     "execution_count": 5
    }
   ],
   "source": [
    "df2 = df.reset_index() # mengubah index menjadi kolom \n",
    "df2"
   ]
  },
  {
   "cell_type": "code",
   "execution_count": 6,
   "metadata": {},
   "outputs": [
    {
     "output_type": "execute_result",
     "data": {
      "text/plain": [
       "      kota  Maret  April  Mei\n",
       "0  Jakarta      1      2    3\n",
       "1  Bandung      4      5    6\n",
       "2   Bekasi      7      8    9"
      ],
      "text/html": "<div>\n<style scoped>\n    .dataframe tbody tr th:only-of-type {\n        vertical-align: middle;\n    }\n\n    .dataframe tbody tr th {\n        vertical-align: top;\n    }\n\n    .dataframe thead th {\n        text-align: right;\n    }\n</style>\n<table border=\"1\" class=\"dataframe\">\n  <thead>\n    <tr style=\"text-align: right;\">\n      <th></th>\n      <th>kota</th>\n      <th>Maret</th>\n      <th>April</th>\n      <th>Mei</th>\n    </tr>\n  </thead>\n  <tbody>\n    <tr>\n      <th>0</th>\n      <td>Jakarta</td>\n      <td>1</td>\n      <td>2</td>\n      <td>3</td>\n    </tr>\n    <tr>\n      <th>1</th>\n      <td>Bandung</td>\n      <td>4</td>\n      <td>5</td>\n      <td>6</td>\n    </tr>\n    <tr>\n      <th>2</th>\n      <td>Bekasi</td>\n      <td>7</td>\n      <td>8</td>\n      <td>9</td>\n    </tr>\n  </tbody>\n</table>\n</div>"
     },
     "metadata": {},
     "execution_count": 6
    }
   ],
   "source": [
    "df2.rename(columns={'index':'kota'}) # mengubah nama kolom (sementara)"
   ]
  },
  {
   "cell_type": "code",
   "execution_count": 7,
   "metadata": {},
   "outputs": [
    {
     "output_type": "execute_result",
     "data": {
      "text/plain": [
       "   Maret  April  Mei\n",
       "0      1      2    3\n",
       "1      4      5    6\n",
       "2      7      8    9"
      ],
      "text/html": "<div>\n<style scoped>\n    .dataframe tbody tr th:only-of-type {\n        vertical-align: middle;\n    }\n\n    .dataframe tbody tr th {\n        vertical-align: top;\n    }\n\n    .dataframe thead th {\n        text-align: right;\n    }\n</style>\n<table border=\"1\" class=\"dataframe\">\n  <thead>\n    <tr style=\"text-align: right;\">\n      <th></th>\n      <th>Maret</th>\n      <th>April</th>\n      <th>Mei</th>\n    </tr>\n  </thead>\n  <tbody>\n    <tr>\n      <th>0</th>\n      <td>1</td>\n      <td>2</td>\n      <td>3</td>\n    </tr>\n    <tr>\n      <th>1</th>\n      <td>4</td>\n      <td>5</td>\n      <td>6</td>\n    </tr>\n    <tr>\n      <th>2</th>\n      <td>7</td>\n      <td>8</td>\n      <td>9</td>\n    </tr>\n  </tbody>\n</table>\n</div>"
     },
     "metadata": {},
     "execution_count": 7
    }
   ],
   "source": [
    "df3 = df.reset_index(drop=True) # index lama akan hilang\n",
    "df3"
   ]
  },
  {
   "cell_type": "code",
   "execution_count": 8,
   "metadata": {},
   "outputs": [
    {
     "output_type": "execute_result",
     "data": {
      "text/plain": [
       "['Smartphone', 'Laptop', 'Tablet']"
      ]
     },
     "metadata": {},
     "execution_count": 8
    }
   ],
   "source": [
    "goods ='Smartphone Laptop Tablet'.split()\n",
    "goods"
   ]
  },
  {
   "cell_type": "code",
   "execution_count": 9,
   "metadata": {},
   "outputs": [
    {
     "output_type": "execute_result",
     "data": {
      "text/plain": [
       "   Maret  April  Mei       Items\n",
       "0      1      2    3  Smartphone\n",
       "1      4      5    6      Laptop\n",
       "2      7      8    9      Tablet"
      ],
      "text/html": "<div>\n<style scoped>\n    .dataframe tbody tr th:only-of-type {\n        vertical-align: middle;\n    }\n\n    .dataframe tbody tr th {\n        vertical-align: top;\n    }\n\n    .dataframe thead th {\n        text-align: right;\n    }\n</style>\n<table border=\"1\" class=\"dataframe\">\n  <thead>\n    <tr style=\"text-align: right;\">\n      <th></th>\n      <th>Maret</th>\n      <th>April</th>\n      <th>Mei</th>\n      <th>Items</th>\n    </tr>\n  </thead>\n  <tbody>\n    <tr>\n      <th>0</th>\n      <td>1</td>\n      <td>2</td>\n      <td>3</td>\n      <td>Smartphone</td>\n    </tr>\n    <tr>\n      <th>1</th>\n      <td>4</td>\n      <td>5</td>\n      <td>6</td>\n      <td>Laptop</td>\n    </tr>\n    <tr>\n      <th>2</th>\n      <td>7</td>\n      <td>8</td>\n      <td>9</td>\n      <td>Tablet</td>\n    </tr>\n  </tbody>\n</table>\n</div>"
     },
     "metadata": {},
     "execution_count": 9
    }
   ],
   "source": [
    "df3['Items'] = goods\n",
    "df3"
   ]
  },
  {
   "cell_type": "code",
   "execution_count": 10,
   "metadata": {},
   "outputs": [
    {
     "output_type": "execute_result",
     "data": {
      "text/plain": [
       "            Maret  April  Mei\n",
       "Items                        \n",
       "Smartphone      1      2    3\n",
       "Laptop          4      5    6\n",
       "Tablet          7      8    9"
      ],
      "text/html": "<div>\n<style scoped>\n    .dataframe tbody tr th:only-of-type {\n        vertical-align: middle;\n    }\n\n    .dataframe tbody tr th {\n        vertical-align: top;\n    }\n\n    .dataframe thead th {\n        text-align: right;\n    }\n</style>\n<table border=\"1\" class=\"dataframe\">\n  <thead>\n    <tr style=\"text-align: right;\">\n      <th></th>\n      <th>Maret</th>\n      <th>April</th>\n      <th>Mei</th>\n    </tr>\n    <tr>\n      <th>Items</th>\n      <th></th>\n      <th></th>\n      <th></th>\n    </tr>\n  </thead>\n  <tbody>\n    <tr>\n      <th>Smartphone</th>\n      <td>1</td>\n      <td>2</td>\n      <td>3</td>\n    </tr>\n    <tr>\n      <th>Laptop</th>\n      <td>4</td>\n      <td>5</td>\n      <td>6</td>\n    </tr>\n    <tr>\n      <th>Tablet</th>\n      <td>7</td>\n      <td>8</td>\n      <td>9</td>\n    </tr>\n  </tbody>\n</table>\n</div>"
     },
     "metadata": {},
     "execution_count": 10
    }
   ],
   "source": [
    "df3.set_index('Items') # mengubah suatu kolom menjadi index (sementara)"
   ]
  },
  {
   "cell_type": "code",
   "execution_count": 11,
   "metadata": {},
   "outputs": [
    {
     "output_type": "execute_result",
     "data": {
      "text/plain": [
       "   Maret  April  Mei       Items\n",
       "0      1      2    3  Smartphone\n",
       "1      4      5    6      Laptop\n",
       "2      7      8    9      Tablet"
      ],
      "text/html": "<div>\n<style scoped>\n    .dataframe tbody tr th:only-of-type {\n        vertical-align: middle;\n    }\n\n    .dataframe tbody tr th {\n        vertical-align: top;\n    }\n\n    .dataframe thead th {\n        text-align: right;\n    }\n</style>\n<table border=\"1\" class=\"dataframe\">\n  <thead>\n    <tr style=\"text-align: right;\">\n      <th></th>\n      <th>Maret</th>\n      <th>April</th>\n      <th>Mei</th>\n      <th>Items</th>\n    </tr>\n  </thead>\n  <tbody>\n    <tr>\n      <th>0</th>\n      <td>1</td>\n      <td>2</td>\n      <td>3</td>\n      <td>Smartphone</td>\n    </tr>\n    <tr>\n      <th>1</th>\n      <td>4</td>\n      <td>5</td>\n      <td>6</td>\n      <td>Laptop</td>\n    </tr>\n    <tr>\n      <th>2</th>\n      <td>7</td>\n      <td>8</td>\n      <td>9</td>\n      <td>Tablet</td>\n    </tr>\n  </tbody>\n</table>\n</div>"
     },
     "metadata": {},
     "execution_count": 11
    }
   ],
   "source": [
    "df3 # kalo ga pake inplace, akan balik ke df awal"
   ]
  },
  {
   "cell_type": "code",
   "execution_count": 12,
   "metadata": {},
   "outputs": [
    {
     "output_type": "execute_result",
     "data": {
      "text/plain": [
       "            Maret  April  Mei\n",
       "Items                        \n",
       "Smartphone      1      2    3\n",
       "Laptop          4      5    6\n",
       "Tablet          7      8    9"
      ],
      "text/html": "<div>\n<style scoped>\n    .dataframe tbody tr th:only-of-type {\n        vertical-align: middle;\n    }\n\n    .dataframe tbody tr th {\n        vertical-align: top;\n    }\n\n    .dataframe thead th {\n        text-align: right;\n    }\n</style>\n<table border=\"1\" class=\"dataframe\">\n  <thead>\n    <tr style=\"text-align: right;\">\n      <th></th>\n      <th>Maret</th>\n      <th>April</th>\n      <th>Mei</th>\n    </tr>\n    <tr>\n      <th>Items</th>\n      <th></th>\n      <th></th>\n      <th></th>\n    </tr>\n  </thead>\n  <tbody>\n    <tr>\n      <th>Smartphone</th>\n      <td>1</td>\n      <td>2</td>\n      <td>3</td>\n    </tr>\n    <tr>\n      <th>Laptop</th>\n      <td>4</td>\n      <td>5</td>\n      <td>6</td>\n    </tr>\n    <tr>\n      <th>Tablet</th>\n      <td>7</td>\n      <td>8</td>\n      <td>9</td>\n    </tr>\n  </tbody>\n</table>\n</div>"
     },
     "metadata": {},
     "execution_count": 12
    }
   ],
   "source": [
    "df3.set_index('Items', inplace=True) \n",
    "# inplace untuk mengubah secara permanen\n",
    "df3"
   ]
  },
  {
   "source": [
    "# Multi Index and Index Hierarchy"
   ],
   "cell_type": "markdown",
   "metadata": {}
  },
  {
   "cell_type": "code",
   "execution_count": 13,
   "metadata": {},
   "outputs": [
    {
     "output_type": "execute_result",
     "data": {
      "text/plain": [
       "[('Jabodetabek', 1),\n",
       " ('Jabodetabek', 2),\n",
       " ('Jabodetabek', 3),\n",
       " ('Outside', 1),\n",
       " ('Outside', 2),\n",
       " ('Outside', 3)]"
      ]
     },
     "metadata": {},
     "execution_count": 13
    }
   ],
   "source": [
    "# index level\n",
    "outside = ['Jabodetabek','Jabodetabek','Jabodetabek','Outside','Outside','Outside']\n",
    "inside = [1,2,3,1,2,3]\n",
    "hier_index = list(zip(outside,inside)) # memasangkan outside dan inside\n",
    "\n",
    "hier_index # output berupa tuple"
   ]
  },
  {
   "cell_type": "code",
   "execution_count": 14,
   "metadata": {},
   "outputs": [
    {
     "output_type": "execute_result",
     "data": {
      "text/plain": [
       "MultiIndex([('Jabodetabek', 1),\n",
       "            ('Jabodetabek', 2),\n",
       "            ('Jabodetabek', 3),\n",
       "            (    'Outside', 1),\n",
       "            (    'Outside', 2),\n",
       "            (    'Outside', 3)],\n",
       "           )"
      ]
     },
     "metadata": {},
     "execution_count": 14
    }
   ],
   "source": [
    "hier_index = pd.MultiIndex.from_tuples(hier_index)\n",
    "hier_index\n",
    "# mengubah tuple menjadi MultiIndex"
   ]
  },
  {
   "cell_type": "code",
   "execution_count": 15,
   "metadata": {},
   "outputs": [
    {
     "output_type": "execute_result",
     "data": {
      "text/plain": [
       "               Smartphone  PC\n",
       "Jabodetabek 1           1   7\n",
       "            2          27  12\n",
       "            3          83  56\n",
       "Outside     1          28   3\n",
       "            2          65  25\n",
       "            3          99  61"
      ],
      "text/html": "<div>\n<style scoped>\n    .dataframe tbody tr th:only-of-type {\n        vertical-align: middle;\n    }\n\n    .dataframe tbody tr th {\n        vertical-align: top;\n    }\n\n    .dataframe thead th {\n        text-align: right;\n    }\n</style>\n<table border=\"1\" class=\"dataframe\">\n  <thead>\n    <tr style=\"text-align: right;\">\n      <th></th>\n      <th></th>\n      <th>Smartphone</th>\n      <th>PC</th>\n    </tr>\n  </thead>\n  <tbody>\n    <tr>\n      <th rowspan=\"3\" valign=\"top\">Jabodetabek</th>\n      <th>1</th>\n      <td>1</td>\n      <td>7</td>\n    </tr>\n    <tr>\n      <th>2</th>\n      <td>27</td>\n      <td>12</td>\n    </tr>\n    <tr>\n      <th>3</th>\n      <td>83</td>\n      <td>56</td>\n    </tr>\n    <tr>\n      <th rowspan=\"3\" valign=\"top\">Outside</th>\n      <th>1</th>\n      <td>28</td>\n      <td>3</td>\n    </tr>\n    <tr>\n      <th>2</th>\n      <td>65</td>\n      <td>25</td>\n    </tr>\n    <tr>\n      <th>3</th>\n      <td>99</td>\n      <td>61</td>\n    </tr>\n  </tbody>\n</table>\n</div>"
     },
     "metadata": {},
     "execution_count": 15
    }
   ],
   "source": [
    "df_multi = pd.DataFrame(np.random.randint(1,100,12).reshape(6,2), index=hier_index, columns=['Smartphone','PC'])\n",
    "df_multi"
   ]
  },
  {
   "cell_type": "code",
   "execution_count": 16,
   "metadata": {},
   "outputs": [
    {
     "output_type": "execute_result",
     "data": {
      "text/plain": [
       "   Smartphone  PC\n",
       "1           1   7\n",
       "2          27  12\n",
       "3          83  56"
      ],
      "text/html": "<div>\n<style scoped>\n    .dataframe tbody tr th:only-of-type {\n        vertical-align: middle;\n    }\n\n    .dataframe tbody tr th {\n        vertical-align: top;\n    }\n\n    .dataframe thead th {\n        text-align: right;\n    }\n</style>\n<table border=\"1\" class=\"dataframe\">\n  <thead>\n    <tr style=\"text-align: right;\">\n      <th></th>\n      <th>Smartphone</th>\n      <th>PC</th>\n    </tr>\n  </thead>\n  <tbody>\n    <tr>\n      <th>1</th>\n      <td>1</td>\n      <td>7</td>\n    </tr>\n    <tr>\n      <th>2</th>\n      <td>27</td>\n      <td>12</td>\n    </tr>\n    <tr>\n      <th>3</th>\n      <td>83</td>\n      <td>56</td>\n    </tr>\n  </tbody>\n</table>\n</div>"
     },
     "metadata": {},
     "execution_count": 16
    }
   ],
   "source": [
    "# indexing\n",
    "df_multi.loc['Jabodetabek']"
   ]
  },
  {
   "cell_type": "code",
   "execution_count": 17,
   "metadata": {},
   "outputs": [
    {
     "output_type": "execute_result",
     "data": {
      "text/plain": [
       "Smartphone    1\n",
       "PC            7\n",
       "Name: 1, dtype: int32"
      ]
     },
     "metadata": {},
     "execution_count": 17
    }
   ],
   "source": [
    "# indexing dari multiIndex dgn 2 kali .loc[]\n",
    "df_multi.loc['Jabodetabek'].loc[1]"
   ]
  },
  {
   "cell_type": "code",
   "execution_count": 18,
   "metadata": {},
   "outputs": [
    {
     "output_type": "execute_result",
     "data": {
      "text/plain": [
       "FrozenList([None, None])"
      ]
     },
     "metadata": {},
     "execution_count": 18
    }
   ],
   "source": [
    "df_multi.index.names"
   ]
  },
  {
   "cell_type": "code",
   "execution_count": 19,
   "metadata": {},
   "outputs": [
    {
     "output_type": "execute_result",
     "data": {
      "text/plain": [
       "                    Smartphone  PC\n",
       "Kota        Lokasi                \n",
       "Jabodetabek 1                1   7\n",
       "            2               27  12\n",
       "            3               83  56\n",
       "Outside     1               28   3\n",
       "            2               65  25\n",
       "            3               99  61"
      ],
      "text/html": "<div>\n<style scoped>\n    .dataframe tbody tr th:only-of-type {\n        vertical-align: middle;\n    }\n\n    .dataframe tbody tr th {\n        vertical-align: top;\n    }\n\n    .dataframe thead th {\n        text-align: right;\n    }\n</style>\n<table border=\"1\" class=\"dataframe\">\n  <thead>\n    <tr style=\"text-align: right;\">\n      <th></th>\n      <th></th>\n      <th>Smartphone</th>\n      <th>PC</th>\n    </tr>\n    <tr>\n      <th>Kota</th>\n      <th>Lokasi</th>\n      <th></th>\n      <th></th>\n    </tr>\n  </thead>\n  <tbody>\n    <tr>\n      <th rowspan=\"3\" valign=\"top\">Jabodetabek</th>\n      <th>1</th>\n      <td>1</td>\n      <td>7</td>\n    </tr>\n    <tr>\n      <th>2</th>\n      <td>27</td>\n      <td>12</td>\n    </tr>\n    <tr>\n      <th>3</th>\n      <td>83</td>\n      <td>56</td>\n    </tr>\n    <tr>\n      <th rowspan=\"3\" valign=\"top\">Outside</th>\n      <th>1</th>\n      <td>28</td>\n      <td>3</td>\n    </tr>\n    <tr>\n      <th>2</th>\n      <td>65</td>\n      <td>25</td>\n    </tr>\n    <tr>\n      <th>3</th>\n      <td>99</td>\n      <td>61</td>\n    </tr>\n  </tbody>\n</table>\n</div>"
     },
     "metadata": {},
     "execution_count": 19
    }
   ],
   "source": [
    "df_multi.index.names=['Kota','Lokasi']\n",
    "df_multi"
   ]
  },
  {
   "cell_type": "code",
   "execution_count": null,
   "metadata": {},
   "outputs": [],
   "source": []
  },
  {
   "source": [
    "# Excercise"
   ],
   "cell_type": "markdown",
   "metadata": {}
  },
  {
   "cell_type": "code",
   "execution_count": 20,
   "metadata": {},
   "outputs": [
    {
     "output_type": "execute_result",
     "data": {
      "text/plain": [
       "[('Jawa', 'Jakarta'),\n",
       " ('Jawa', 'Bandung'),\n",
       " ('Jawa', 'Surabaya'),\n",
       " ('Sumatera', 'Medan'),\n",
       " ('Sumatera', 'Padang'),\n",
       " ('Sumatera', 'Palembang'),\n",
       " ('Sulawesi', 'Manado'),\n",
       " ('Sulawesi', 'Palu'),\n",
       " ('Sulawesi', 'Makassar')]"
      ]
     },
     "metadata": {},
     "execution_count": 20
    }
   ],
   "source": [
    "# membuat nama index\n",
    "region = ['Jawa','Jawa','Jawa','Sumatera','Sumatera','Sumatera','Sulawesi','Sulawesi','Sulawesi']\n",
    "kota = ['Jakarta','Bandung','Surabaya','Medan','Padang','Palembang','Manado','Palu','Makassar']\n",
    "\n",
    "# memasangkan index\n",
    "indexMul = list(zip(region,kota))\n",
    "indexMul"
   ]
  },
  {
   "cell_type": "code",
   "execution_count": 21,
   "metadata": {},
   "outputs": [
    {
     "output_type": "execute_result",
     "data": {
      "text/plain": [
       "MultiIndex([(    'Jawa',   'Jakarta'),\n",
       "            (    'Jawa',   'Bandung'),\n",
       "            (    'Jawa',  'Surabaya'),\n",
       "            ('Sumatera',     'Medan'),\n",
       "            ('Sumatera',    'Padang'),\n",
       "            ('Sumatera', 'Palembang'),\n",
       "            ('Sulawesi',    'Manado'),\n",
       "            ('Sulawesi',      'Palu'),\n",
       "            ('Sulawesi',  'Makassar')],\n",
       "           )"
      ]
     },
     "metadata": {},
     "execution_count": 21
    }
   ],
   "source": [
    "# indexy yg sudah terpasang berbentuk tuple, diubah menjadi MultiIndex\n",
    "indexMul = pd.MultiIndex.from_tuples(indexMul)\n",
    "indexMul"
   ]
  },
  {
   "cell_type": "code",
   "execution_count": 22,
   "metadata": {},
   "outputs": [
    {
     "output_type": "execute_result",
     "data": {
      "text/plain": [
       "                           Manager  Total Produksi  Jumlah Karyawan\n",
       "Jawa     Jakarta      Andi Susetyo              15               20\n",
       "         Bandung      Budi Budiman              12               15\n",
       "         Surabaya    Cecep Maricep              12               12\n",
       "Sumatera Medan        Diana Wijaya              13               14\n",
       "         Padang       Eddy Susanto              16               18\n",
       "         Palembang   Franky Sujaya              18               14\n",
       "Sulawesi Manado     Galih Diantara              20               25\n",
       "         Palu           Hans Leman              11               12\n",
       "         Makassar    Ingrid Mahesa              14               13"
      ],
      "text/html": "<div>\n<style scoped>\n    .dataframe tbody tr th:only-of-type {\n        vertical-align: middle;\n    }\n\n    .dataframe tbody tr th {\n        vertical-align: top;\n    }\n\n    .dataframe thead th {\n        text-align: right;\n    }\n</style>\n<table border=\"1\" class=\"dataframe\">\n  <thead>\n    <tr style=\"text-align: right;\">\n      <th></th>\n      <th></th>\n      <th>Manager</th>\n      <th>Total Produksi</th>\n      <th>Jumlah Karyawan</th>\n    </tr>\n  </thead>\n  <tbody>\n    <tr>\n      <th rowspan=\"3\" valign=\"top\">Jawa</th>\n      <th>Jakarta</th>\n      <td>Andi Susetyo</td>\n      <td>15</td>\n      <td>20</td>\n    </tr>\n    <tr>\n      <th>Bandung</th>\n      <td>Budi Budiman</td>\n      <td>12</td>\n      <td>15</td>\n    </tr>\n    <tr>\n      <th>Surabaya</th>\n      <td>Cecep Maricep</td>\n      <td>12</td>\n      <td>12</td>\n    </tr>\n    <tr>\n      <th rowspan=\"3\" valign=\"top\">Sumatera</th>\n      <th>Medan</th>\n      <td>Diana Wijaya</td>\n      <td>13</td>\n      <td>14</td>\n    </tr>\n    <tr>\n      <th>Padang</th>\n      <td>Eddy Susanto</td>\n      <td>16</td>\n      <td>18</td>\n    </tr>\n    <tr>\n      <th>Palembang</th>\n      <td>Franky Sujaya</td>\n      <td>18</td>\n      <td>14</td>\n    </tr>\n    <tr>\n      <th rowspan=\"3\" valign=\"top\">Sulawesi</th>\n      <th>Manado</th>\n      <td>Galih Diantara</td>\n      <td>20</td>\n      <td>25</td>\n    </tr>\n    <tr>\n      <th>Palu</th>\n      <td>Hans Leman</td>\n      <td>11</td>\n      <td>12</td>\n    </tr>\n    <tr>\n      <th>Makassar</th>\n      <td>Ingrid Mahesa</td>\n      <td>14</td>\n      <td>13</td>\n    </tr>\n  </tbody>\n</table>\n</div>"
     },
     "metadata": {},
     "execution_count": 22
    }
   ],
   "source": [
    "# membuat DataFrame bernama permen\n",
    "permen = pd.DataFrame(\n",
    "    {'Manager':['Andi Susetyo','Budi Budiman','Cecep Maricep','Diana Wijaya','Eddy Susanto','Franky Sujaya','Galih Diantara','Hans Leman',        'Ingrid Mahesa'],\n",
    "    'Total Produksi':[15,12,12,13,16,18,20,11,14],\n",
    "    'Jumlah Karyawan':[20,15,12,14,18,14,25,12,13]\n",
    "    }, index=indexMul\n",
    ")\n",
    "\n",
    "permen"
   ]
  },
  {
   "cell_type": "code",
   "execution_count": 23,
   "metadata": {},
   "outputs": [],
   "source": [
    "# membuat index bisa terpisah dari dataframe dengan cara\n",
    "# permen = permen.set_index(indexMul)"
   ]
  },
  {
   "cell_type": "code",
   "execution_count": 24,
   "metadata": {},
   "outputs": [
    {
     "output_type": "execute_result",
     "data": {
      "text/plain": [
       "                           Manager  Total Produksi  Jumlah Karyawan  \\\n",
       "Jawa     Jakarta      Andi Susetyo              15               20   \n",
       "         Bandung      Budi Budiman              12               15   \n",
       "         Surabaya    Cecep Maricep              12               12   \n",
       "Sumatera Medan        Diana Wijaya              13               14   \n",
       "         Padang       Eddy Susanto              16               18   \n",
       "         Palembang   Franky Sujaya              18               14   \n",
       "Sulawesi Manado     Galih Diantara              20               25   \n",
       "         Palu           Hans Leman              11               12   \n",
       "         Makassar    Ingrid Mahesa              14               13   \n",
       "\n",
       "                    Total Penjualan  \n",
       "Jawa     Jakarta               2250  \n",
       "         Bandung               1800  \n",
       "         Surabaya              1800  \n",
       "Sumatera Medan                 1950  \n",
       "         Padang                2400  \n",
       "         Palembang             2700  \n",
       "Sulawesi Manado                3000  \n",
       "         Palu                  1650  \n",
       "         Makassar              2100  "
      ],
      "text/html": "<div>\n<style scoped>\n    .dataframe tbody tr th:only-of-type {\n        vertical-align: middle;\n    }\n\n    .dataframe tbody tr th {\n        vertical-align: top;\n    }\n\n    .dataframe thead th {\n        text-align: right;\n    }\n</style>\n<table border=\"1\" class=\"dataframe\">\n  <thead>\n    <tr style=\"text-align: right;\">\n      <th></th>\n      <th></th>\n      <th>Manager</th>\n      <th>Total Produksi</th>\n      <th>Jumlah Karyawan</th>\n      <th>Total Penjualan</th>\n    </tr>\n  </thead>\n  <tbody>\n    <tr>\n      <th rowspan=\"3\" valign=\"top\">Jawa</th>\n      <th>Jakarta</th>\n      <td>Andi Susetyo</td>\n      <td>15</td>\n      <td>20</td>\n      <td>2250</td>\n    </tr>\n    <tr>\n      <th>Bandung</th>\n      <td>Budi Budiman</td>\n      <td>12</td>\n      <td>15</td>\n      <td>1800</td>\n    </tr>\n    <tr>\n      <th>Surabaya</th>\n      <td>Cecep Maricep</td>\n      <td>12</td>\n      <td>12</td>\n      <td>1800</td>\n    </tr>\n    <tr>\n      <th rowspan=\"3\" valign=\"top\">Sumatera</th>\n      <th>Medan</th>\n      <td>Diana Wijaya</td>\n      <td>13</td>\n      <td>14</td>\n      <td>1950</td>\n    </tr>\n    <tr>\n      <th>Padang</th>\n      <td>Eddy Susanto</td>\n      <td>16</td>\n      <td>18</td>\n      <td>2400</td>\n    </tr>\n    <tr>\n      <th>Palembang</th>\n      <td>Franky Sujaya</td>\n      <td>18</td>\n      <td>14</td>\n      <td>2700</td>\n    </tr>\n    <tr>\n      <th rowspan=\"3\" valign=\"top\">Sulawesi</th>\n      <th>Manado</th>\n      <td>Galih Diantara</td>\n      <td>20</td>\n      <td>25</td>\n      <td>3000</td>\n    </tr>\n    <tr>\n      <th>Palu</th>\n      <td>Hans Leman</td>\n      <td>11</td>\n      <td>12</td>\n      <td>1650</td>\n    </tr>\n    <tr>\n      <th>Makassar</th>\n      <td>Ingrid Mahesa</td>\n      <td>14</td>\n      <td>13</td>\n      <td>2100</td>\n    </tr>\n  </tbody>\n</table>\n</div>"
     },
     "metadata": {},
     "execution_count": 24
    }
   ],
   "source": [
    "# membuat kolom 'Total Penjualan' dgn value 'Total Produksi' dikali 150 \n",
    "permen['Total Penjualan'] = permen['Total Produksi']*150\n",
    "\n",
    "permen"
   ]
  },
  {
   "cell_type": "code",
   "execution_count": 25,
   "metadata": {},
   "outputs": [
    {
     "output_type": "execute_result",
     "data": {
      "text/plain": [
       "                           Manager  Total Produksi  Jumlah Karyawan  \\\n",
       "Region   Kota                                                         \n",
       "Jawa     Jakarta      Andi Susetyo              15               20   \n",
       "         Bandung      Budi Budiman              12               15   \n",
       "         Surabaya    Cecep Maricep              12               12   \n",
       "Sumatera Medan        Diana Wijaya              13               14   \n",
       "         Padang       Eddy Susanto              16               18   \n",
       "         Palembang   Franky Sujaya              18               14   \n",
       "Sulawesi Manado     Galih Diantara              20               25   \n",
       "         Palu           Hans Leman              11               12   \n",
       "         Makassar    Ingrid Mahesa              14               13   \n",
       "\n",
       "                    Total Penjualan  \n",
       "Region   Kota                        \n",
       "Jawa     Jakarta               2250  \n",
       "         Bandung               1800  \n",
       "         Surabaya              1800  \n",
       "Sumatera Medan                 1950  \n",
       "         Padang                2400  \n",
       "         Palembang             2700  \n",
       "Sulawesi Manado                3000  \n",
       "         Palu                  1650  \n",
       "         Makassar              2100  "
      ],
      "text/html": "<div>\n<style scoped>\n    .dataframe tbody tr th:only-of-type {\n        vertical-align: middle;\n    }\n\n    .dataframe tbody tr th {\n        vertical-align: top;\n    }\n\n    .dataframe thead th {\n        text-align: right;\n    }\n</style>\n<table border=\"1\" class=\"dataframe\">\n  <thead>\n    <tr style=\"text-align: right;\">\n      <th></th>\n      <th></th>\n      <th>Manager</th>\n      <th>Total Produksi</th>\n      <th>Jumlah Karyawan</th>\n      <th>Total Penjualan</th>\n    </tr>\n    <tr>\n      <th>Region</th>\n      <th>Kota</th>\n      <th></th>\n      <th></th>\n      <th></th>\n      <th></th>\n    </tr>\n  </thead>\n  <tbody>\n    <tr>\n      <th rowspan=\"3\" valign=\"top\">Jawa</th>\n      <th>Jakarta</th>\n      <td>Andi Susetyo</td>\n      <td>15</td>\n      <td>20</td>\n      <td>2250</td>\n    </tr>\n    <tr>\n      <th>Bandung</th>\n      <td>Budi Budiman</td>\n      <td>12</td>\n      <td>15</td>\n      <td>1800</td>\n    </tr>\n    <tr>\n      <th>Surabaya</th>\n      <td>Cecep Maricep</td>\n      <td>12</td>\n      <td>12</td>\n      <td>1800</td>\n    </tr>\n    <tr>\n      <th rowspan=\"3\" valign=\"top\">Sumatera</th>\n      <th>Medan</th>\n      <td>Diana Wijaya</td>\n      <td>13</td>\n      <td>14</td>\n      <td>1950</td>\n    </tr>\n    <tr>\n      <th>Padang</th>\n      <td>Eddy Susanto</td>\n      <td>16</td>\n      <td>18</td>\n      <td>2400</td>\n    </tr>\n    <tr>\n      <th>Palembang</th>\n      <td>Franky Sujaya</td>\n      <td>18</td>\n      <td>14</td>\n      <td>2700</td>\n    </tr>\n    <tr>\n      <th rowspan=\"3\" valign=\"top\">Sulawesi</th>\n      <th>Manado</th>\n      <td>Galih Diantara</td>\n      <td>20</td>\n      <td>25</td>\n      <td>3000</td>\n    </tr>\n    <tr>\n      <th>Palu</th>\n      <td>Hans Leman</td>\n      <td>11</td>\n      <td>12</td>\n      <td>1650</td>\n    </tr>\n    <tr>\n      <th>Makassar</th>\n      <td>Ingrid Mahesa</td>\n      <td>14</td>\n      <td>13</td>\n      <td>2100</td>\n    </tr>\n  </tbody>\n</table>\n</div>"
     },
     "metadata": {},
     "execution_count": 25
    }
   ],
   "source": [
    "# membuat nama untuk index\n",
    "permen.index.names=['Region','Kota']\n",
    "\n",
    "permen"
   ]
  },
  {
   "cell_type": "code",
   "execution_count": 26,
   "metadata": {},
   "outputs": [
    {
     "output_type": "execute_result",
     "data": {
      "text/plain": [
       "     Region       Kota         Manager  Total Produksi  Jumlah Karyawan  \\\n",
       "0      Jawa    Jakarta    Andi Susetyo              15               20   \n",
       "1      Jawa    Bandung    Budi Budiman              12               15   \n",
       "2      Jawa   Surabaya   Cecep Maricep              12               12   \n",
       "3  Sumatera      Medan    Diana Wijaya              13               14   \n",
       "4  Sumatera     Padang    Eddy Susanto              16               18   \n",
       "5  Sumatera  Palembang   Franky Sujaya              18               14   \n",
       "6  Sulawesi     Manado  Galih Diantara              20               25   \n",
       "7  Sulawesi       Palu      Hans Leman              11               12   \n",
       "8  Sulawesi   Makassar   Ingrid Mahesa              14               13   \n",
       "\n",
       "   Total Penjualan  \n",
       "0             2250  \n",
       "1             1800  \n",
       "2             1800  \n",
       "3             1950  \n",
       "4             2400  \n",
       "5             2700  \n",
       "6             3000  \n",
       "7             1650  \n",
       "8             2100  "
      ],
      "text/html": "<div>\n<style scoped>\n    .dataframe tbody tr th:only-of-type {\n        vertical-align: middle;\n    }\n\n    .dataframe tbody tr th {\n        vertical-align: top;\n    }\n\n    .dataframe thead th {\n        text-align: right;\n    }\n</style>\n<table border=\"1\" class=\"dataframe\">\n  <thead>\n    <tr style=\"text-align: right;\">\n      <th></th>\n      <th>Region</th>\n      <th>Kota</th>\n      <th>Manager</th>\n      <th>Total Produksi</th>\n      <th>Jumlah Karyawan</th>\n      <th>Total Penjualan</th>\n    </tr>\n  </thead>\n  <tbody>\n    <tr>\n      <th>0</th>\n      <td>Jawa</td>\n      <td>Jakarta</td>\n      <td>Andi Susetyo</td>\n      <td>15</td>\n      <td>20</td>\n      <td>2250</td>\n    </tr>\n    <tr>\n      <th>1</th>\n      <td>Jawa</td>\n      <td>Bandung</td>\n      <td>Budi Budiman</td>\n      <td>12</td>\n      <td>15</td>\n      <td>1800</td>\n    </tr>\n    <tr>\n      <th>2</th>\n      <td>Jawa</td>\n      <td>Surabaya</td>\n      <td>Cecep Maricep</td>\n      <td>12</td>\n      <td>12</td>\n      <td>1800</td>\n    </tr>\n    <tr>\n      <th>3</th>\n      <td>Sumatera</td>\n      <td>Medan</td>\n      <td>Diana Wijaya</td>\n      <td>13</td>\n      <td>14</td>\n      <td>1950</td>\n    </tr>\n    <tr>\n      <th>4</th>\n      <td>Sumatera</td>\n      <td>Padang</td>\n      <td>Eddy Susanto</td>\n      <td>16</td>\n      <td>18</td>\n      <td>2400</td>\n    </tr>\n    <tr>\n      <th>5</th>\n      <td>Sumatera</td>\n      <td>Palembang</td>\n      <td>Franky Sujaya</td>\n      <td>18</td>\n      <td>14</td>\n      <td>2700</td>\n    </tr>\n    <tr>\n      <th>6</th>\n      <td>Sulawesi</td>\n      <td>Manado</td>\n      <td>Galih Diantara</td>\n      <td>20</td>\n      <td>25</td>\n      <td>3000</td>\n    </tr>\n    <tr>\n      <th>7</th>\n      <td>Sulawesi</td>\n      <td>Palu</td>\n      <td>Hans Leman</td>\n      <td>11</td>\n      <td>12</td>\n      <td>1650</td>\n    </tr>\n    <tr>\n      <th>8</th>\n      <td>Sulawesi</td>\n      <td>Makassar</td>\n      <td>Ingrid Mahesa</td>\n      <td>14</td>\n      <td>13</td>\n      <td>2100</td>\n    </tr>\n  </tbody>\n</table>\n</div>"
     },
     "metadata": {},
     "execution_count": 26
    }
   ],
   "source": [
    "# index diubah menjadi kolom\n",
    "permen2 = permen.reset_index()\n",
    "permen2"
   ]
  },
  {
   "cell_type": "code",
   "execution_count": null,
   "metadata": {},
   "outputs": [],
   "source": []
  },
  {
   "cell_type": "code",
   "execution_count": null,
   "metadata": {},
   "outputs": [],
   "source": []
  },
  {
   "cell_type": "code",
   "execution_count": null,
   "metadata": {},
   "outputs": [],
   "source": []
  }
 ]
}