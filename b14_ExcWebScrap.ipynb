{
 "metadata": {
  "language_info": {
   "codemirror_mode": {
    "name": "ipython",
    "version": 3
   },
   "file_extension": ".py",
   "mimetype": "text/x-python",
   "name": "python",
   "nbconvert_exporter": "python",
   "pygments_lexer": "ipython3",
   "version": "3.7.6-final"
  },
  "orig_nbformat": 2,
  "kernelspec": {
   "name": "python3",
   "display_name": "Python 3"
  }
 },
 "nbformat": 4,
 "nbformat_minor": 2,
 "cells": [
  {
   "source": [
    "# **Take Home Exercise** (Technically Challenging)\n",
    "## ``Ultraman & Monster Dataset``\n",
    "\n",
    "### A. Get data (scrape) from this site: http://www.scifijapan.com/articles/2015/10/04/bandai-ultraman-ultra-500-figure-list/\n",
    "\n",
    "### B. Create DataFrame with columns: ``Ultraman Name``\n",
    "\n",
    "https://github.com/bgt90/JCDS-1102-BSD-Visualization\n",
    "\n"
   ],
   "cell_type": "markdown",
   "metadata": {}
  },
  {
   "cell_type": "code",
   "execution_count": 1,
   "metadata": {},
   "outputs": [],
   "source": [
    "import pandas as pd\n",
    "import requests\n",
    "from bs4 import BeautifulSoup"
   ]
  },
  {
   "cell_type": "code",
   "execution_count": 20,
   "metadata": {},
   "outputs": [
    {
     "output_type": "execute_result",
     "data": {
      "text/plain": [
       "<Response [200]>"
      ]
     },
     "metadata": {},
     "execution_count": 20
    }
   ],
   "source": [
    "# ambil data dari website\n",
    "\n",
    "web_ultraman = requests.get('http://www.scifijapan.com/articles/2015/10/04/bandai-ultraman-ultra-500-figure-list/')\n",
    "web_ultraman"
   ]
  },
  {
   "cell_type": "code",
   "execution_count": 22,
   "metadata": {},
   "outputs": [],
   "source": [
    "# parsing data \n",
    "\n",
    "data_ultraman = BeautifulSoup(web_ultraman.content, 'html.parser')\n",
    "# data_ultraman"
   ]
  },
  {
   "cell_type": "code",
   "execution_count": 23,
   "metadata": {},
   "outputs": [],
   "source": [
    "# mengambil body html pada website\n",
    "text_ultraman = data_ultraman.body.text\n",
    "\n",
    "# mengubah dari string menjadi list, dipisahkan dengan koma\n",
    "text_ultraman = text_ultraman.split()\n",
    "# text_ultraman"
   ]
  },
  {
   "cell_type": "code",
   "execution_count": 77,
   "metadata": {},
   "outputs": [],
   "source": [
    "# mencari nama nama ultraman\n",
    "\n",
    "kosong = []\n",
    "\n",
    "for i in range(len(text_ultraman)):\n",
    "    if text_ultraman[i] == 'Productions':\n",
    "        kosong.append(text_ultraman[(i+1):(i+7)])\n",
    "\n",
    "# kosong"
   ]
  },
  {
   "cell_type": "code",
   "execution_count": 78,
   "metadata": {},
   "outputs": [
    {
     "output_type": "execute_result",
     "data": {
      "text/plain": [
       "[['01', 'Ultraman', '０１', 'ウルトラマン', 'Release', 'Date:'],\n",
       " ['02', 'Ultra', 'Seven', '０２', 'ウルトラセブン', 'Release'],\n",
       " ['03', 'Zoffy', '０３', 'ゾフィー', 'Release', 'Date:'],\n",
       " ['04', 'Ultraman', 'Jack', '０４', 'ウルトラマンジャック', 'Release'],\n",
       " ['05', 'Ultraman', 'Ace', '０５', 'ウルトラマンエース', 'Release'],\n",
       " ['06', 'Ultraman', 'Taro', '０６', 'ウルトラマンタロウ', 'Release'],\n",
       " ['07', 'Ultraman', 'Leo', '０７', 'ウルトラマンレオ', 'Release'],\n",
       " ['08', 'Ultraman', 'Tiga', '(Multi-Type)', '０８', 'ウルトラマンティガ（マルチタイプ）'],\n",
       " ['09', 'Ultraman', 'Gaia', '(V2)', '０９', 'ウルトラマンガイア（Ｖ２）'],\n",
       " ['10', 'Ultraman', 'Agul', '(V2)', '１０', 'ウルトラマンアグル（Ｖ２）'],\n",
       " ['11', 'Ultraman', 'Ginga', '１１', 'ウルトラマンギンガ', 'Release'],\n",
       " ['12', 'Jean-Nine', '１２', 'ジャンナイン', 'Release', 'Date:'],\n",
       " ['13', 'Astra', '１３', 'アストラ', 'Release', 'Date:'],\n",
       " ['14', 'Ultraman', 'Dyna', '(Flash', 'Type)', '１４'],\n",
       " ['15', 'Ultraman', '80', '１５', 'ウルトラマン80', 'Release'],\n",
       " ['16', 'Ultraman', 'Cosmos', '(Luna', 'Mode)', '１６'],\n",
       " ['17', 'Ultraman', 'Nexus', '(Anphans)', '１７', 'ウルトラマンネクサス'],\n",
       " ['18', 'Ultraman', 'Max', '１８', 'ウルトラマンマックス', 'Release'],\n",
       " ['19', 'Ultraman', 'Mebius', '１９', 'ウルトラマンメビウス', 'Release'],\n",
       " ['20', 'Ultraman', 'Hikari', '２０', 'ウルトラマンヒカリ', 'Release'],\n",
       " ['21', 'Ultraman', 'Zero', '２１', 'ウルトラマンゼロ', 'Release'],\n",
       " ['22', 'Ultraman', 'Nice', '２２', 'ウルトラマンナイス', 'Release'],\n",
       " ['23', 'Father', 'of', 'Ultra', '２３', 'ウルトラの父'],\n",
       " ['24', 'Ultraman', 'King', '２４', 'ウルトラマンキング', 'Release'],\n",
       " ['25', 'Ultraman', 'Saga', '２５', 'ウルトラマンサーガ', 'Release'],\n",
       " ['26', 'Tiga', 'Dark', '(Spark', 'Doll)', '２６'],\n",
       " ['27', 'Ultraman', 'Dark', '(Spark', 'Doll)', '２７'],\n",
       " ['28', 'Ultraman', 'Victory', '２８', 'ウルトラマンビクトリー', 'Release'],\n",
       " ['29', 'Ultraman', 'Ginga', 'Strium', '２９', 'ウルトラマンギンガストリウム'],\n",
       " ['30', 'Ultraman', 'Gingavictory', '３０', 'ウルトラマンギンガビクトリー', 'Release'],\n",
       " ['31', 'Shining', 'Ultraman', 'Zero', '３１', 'シャイニングウルトラマンゼロ'],\n",
       " ['32', 'Ultraman', 'Nexus', 'Junis', '３２', 'ウルトラマンネクサス'],\n",
       " ['33', 'Ultraman', 'Cosmos', 'Eclipse', 'Mode', '３３'],\n",
       " ['34', 'Ultraman', 'Victory', 'Knight', '３４', 'ウルトラマンビクトリーナイト']]"
      ]
     },
     "metadata": {},
     "execution_count": 78
    }
   ],
   "source": [
    "# indexing yg termasuk nama-nama Ultraman saja\n",
    "list_ultraman = kosong[1:35]\n",
    "list_ultraman\n"
   ]
  },
  {
   "cell_type": "code",
   "execution_count": 104,
   "metadata": {},
   "outputs": [],
   "source": [
    "# for i in list_ultraman:\n",
    "#     for j in i:\n",
    "#         if '0' in j or '1' in j or '2' in j or '3' in j or '4' in j or '5' in j or '6' in j or '7' in j or '8' in j or '9' in j:\n",
    "#             print('T', end=' ')\n",
    "#         elif '０' in j or '１' in j or '２' in j or '３' in j or '４' in j or '５' in j or '６' in j or '７' in j or '８' in j or '９' in j:\n",
    "#             print('T', end=' ')\n",
    "#         else:\n",
    "#             print('_', end=' ')\n",
    "#     print()\n"
   ]
  },
  {
   "cell_type": "code",
   "execution_count": 122,
   "metadata": {},
   "outputs": [
    {
     "output_type": "execute_result",
     "data": {
      "text/plain": [
       "[['Ultraman'],\n",
       " ['Ultra', 'Seven'],\n",
       " ['Zoffy'],\n",
       " ['Ultraman', 'Jack'],\n",
       " ['Ultraman', 'Ace'],\n",
       " ['Ultraman', 'Taro'],\n",
       " ['Ultraman', 'Leo'],\n",
       " ['Ultraman', 'Tiga', '(Multi-Type)'],\n",
       " ['Ultraman', 'Gaia', '(V2)'],\n",
       " ['Ultraman', 'Agul', '(V2)'],\n",
       " ['Ultraman', 'Ginga'],\n",
       " ['Jean-Nine'],\n",
       " ['Astra'],\n",
       " ['Ultraman', 'Dyna', '(Flash', 'Type)'],\n",
       " ['Ultraman'],\n",
       " ['Ultraman', 'Cosmos', '(Luna', 'Mode)'],\n",
       " ['Ultraman', 'Nexus', '(Anphans)'],\n",
       " ['Ultraman', 'Max'],\n",
       " ['Ultraman', 'Mebius'],\n",
       " ['Ultraman', 'Hikari'],\n",
       " ['Ultraman', 'Zero'],\n",
       " ['Ultraman', 'Nice'],\n",
       " ['Father', 'of', 'Ultra'],\n",
       " ['Ultraman', 'King'],\n",
       " ['Ultraman', 'Saga'],\n",
       " ['Tiga', 'Dark', '(Spark', 'Doll)'],\n",
       " ['Ultraman', 'Dark', '(Spark', 'Doll)'],\n",
       " ['Ultraman', 'Victory'],\n",
       " ['Ultraman', 'Ginga', 'Strium'],\n",
       " ['Ultraman', 'Gingavictory'],\n",
       " ['Shining', 'Ultraman', 'Zero'],\n",
       " ['Ultraman', 'Nexus', 'Junis'],\n",
       " ['Ultraman', 'Cosmos', 'Eclipse', 'Mode'],\n",
       " ['Ultraman', 'Victory', 'Knight']]"
      ]
     },
     "metadata": {},
     "execution_count": 122
    }
   ],
   "source": [
    "# menghapus angka dan huruf jepang, agar tinggal nama ultraman-nya saja\n",
    "\n",
    "x = []\n",
    "\n",
    "for i in list_ultraman:\n",
    "    y = []\n",
    "    for j in i:\n",
    "        if (j.isnumeric() is False) and (j!='Release') and (j!='Date:') and ('ウ' not in j) and ('ア' not in j) and ('ゾ' not in j) and ('ジ' not in j):\n",
    "            y.append(j)\n",
    "    x.append(y)\n",
    "x"
   ]
  },
  {
   "cell_type": "code",
   "execution_count": 164,
   "metadata": {},
   "outputs": [
    {
     "output_type": "execute_result",
     "data": {
      "text/plain": [
       "['Ultraman',\n",
       " 'Ultra Seven',\n",
       " 'Zoffy',\n",
       " 'Ultraman Jack',\n",
       " 'Ultraman Ace',\n",
       " 'Ultraman Taro',\n",
       " 'Ultraman Leo',\n",
       " 'Ultraman Tiga (Multi-Type)',\n",
       " 'Ultraman Gaia (V2)',\n",
       " 'Ultraman Agul (V2)',\n",
       " 'Ultraman Ginga',\n",
       " 'Jean-Nine',\n",
       " 'Astra',\n",
       " 'Ultraman Dyna (Flash Type)',\n",
       " 'Ultraman',\n",
       " 'Ultraman Cosmos (Luna Mode)',\n",
       " 'Ultraman Nexus (Anphans)',\n",
       " 'Ultraman Max',\n",
       " 'Ultraman Mebius',\n",
       " 'Ultraman Hikari',\n",
       " 'Ultraman Zero',\n",
       " 'Ultraman Nice',\n",
       " 'Father of Ultra',\n",
       " 'Ultraman King',\n",
       " 'Ultraman Saga',\n",
       " 'Tiga Dark (Spark Doll)',\n",
       " 'Ultraman Dark (Spark Doll)',\n",
       " 'Ultraman Victory',\n",
       " 'Ultraman Ginga Strium',\n",
       " 'Ultraman Gingavictory',\n",
       " 'Shining Ultraman Zero',\n",
       " 'Ultraman Nexus Junis',\n",
       " 'Ultraman Cosmos Eclipse Mode',\n",
       " 'Ultraman Victory Knight']"
      ]
     },
     "metadata": {},
     "execution_count": 164
    }
   ],
   "source": [
    "# menggabungkan list jadi 1 string\n",
    "\n",
    "ultraman_name = []\n",
    "for i in x:\n",
    "    ultraman_name.append(' '.join(i))\n",
    "\n",
    "ultraman_name"
   ]
  },
  {
   "cell_type": "code",
   "execution_count": 158,
   "metadata": {},
   "outputs": [
    {
     "output_type": "execute_result",
     "data": {
      "text/plain": [
       "['01',\n",
       " '02',\n",
       " '03',\n",
       " '04',\n",
       " '05',\n",
       " '06',\n",
       " '07',\n",
       " '08',\n",
       " '09',\n",
       " '10',\n",
       " '11',\n",
       " '12',\n",
       " '13',\n",
       " '14',\n",
       " '15',\n",
       " '16',\n",
       " '17',\n",
       " '18',\n",
       " '19',\n",
       " '20',\n",
       " '21',\n",
       " '22',\n",
       " '23',\n",
       " '24',\n",
       " '25',\n",
       " '26',\n",
       " '27',\n",
       " '28',\n",
       " '29',\n",
       " '30',\n",
       " '31',\n",
       " '32',\n",
       " '33',\n",
       " '34']"
      ]
     },
     "metadata": {},
     "execution_count": 158
    }
   ],
   "source": [
    "number = []\n",
    "\n",
    "for i in list_ultraman:\n",
    "    z=[]\n",
    "    for j in i:\n",
    "        if j.isnumeric() == True:\n",
    "            z.append(j)\n",
    "    number.append(z)\n",
    "\n",
    "number\n",
    "\n",
    "number = [i[0] for i in number]\n",
    "number"
   ]
  },
  {
   "cell_type": "code",
   "execution_count": 167,
   "metadata": {},
   "outputs": [
    {
     "output_type": "execute_result",
     "data": {
      "text/plain": [
       "    No                 Ultraman Name\n",
       "0   01                      Ultraman\n",
       "1   02                   Ultra Seven\n",
       "2   03                         Zoffy\n",
       "3   04                 Ultraman Jack\n",
       "4   05                  Ultraman Ace\n",
       "5   06                 Ultraman Taro\n",
       "6   07                  Ultraman Leo\n",
       "7   08    Ultraman Tiga (Multi-Type)\n",
       "8   09            Ultraman Gaia (V2)\n",
       "9   10            Ultraman Agul (V2)\n",
       "10  11                Ultraman Ginga\n",
       "11  12                     Jean-Nine\n",
       "12  13                         Astra\n",
       "13  14    Ultraman Dyna (Flash Type)\n",
       "14  15                      Ultraman\n",
       "15  16   Ultraman Cosmos (Luna Mode)\n",
       "16  17      Ultraman Nexus (Anphans)\n",
       "17  18                  Ultraman Max\n",
       "18  19               Ultraman Mebius\n",
       "19  20               Ultraman Hikari\n",
       "20  21                 Ultraman Zero\n",
       "21  22                 Ultraman Nice\n",
       "22  23               Father of Ultra\n",
       "23  24                 Ultraman King\n",
       "24  25                 Ultraman Saga\n",
       "25  26        Tiga Dark (Spark Doll)\n",
       "26  27    Ultraman Dark (Spark Doll)\n",
       "27  28              Ultraman Victory\n",
       "28  29         Ultraman Ginga Strium\n",
       "29  30         Ultraman Gingavictory\n",
       "30  31         Shining Ultraman Zero\n",
       "31  32          Ultraman Nexus Junis\n",
       "32  33  Ultraman Cosmos Eclipse Mode\n",
       "33  34       Ultraman Victory Knight"
      ],
      "text/html": "<div>\n<style scoped>\n    .dataframe tbody tr th:only-of-type {\n        vertical-align: middle;\n    }\n\n    .dataframe tbody tr th {\n        vertical-align: top;\n    }\n\n    .dataframe thead th {\n        text-align: right;\n    }\n</style>\n<table border=\"1\" class=\"dataframe\">\n  <thead>\n    <tr style=\"text-align: right;\">\n      <th></th>\n      <th>No</th>\n      <th>Ultraman Name</th>\n    </tr>\n  </thead>\n  <tbody>\n    <tr>\n      <th>0</th>\n      <td>01</td>\n      <td>Ultraman</td>\n    </tr>\n    <tr>\n      <th>1</th>\n      <td>02</td>\n      <td>Ultra Seven</td>\n    </tr>\n    <tr>\n      <th>2</th>\n      <td>03</td>\n      <td>Zoffy</td>\n    </tr>\n    <tr>\n      <th>3</th>\n      <td>04</td>\n      <td>Ultraman Jack</td>\n    </tr>\n    <tr>\n      <th>4</th>\n      <td>05</td>\n      <td>Ultraman Ace</td>\n    </tr>\n    <tr>\n      <th>5</th>\n      <td>06</td>\n      <td>Ultraman Taro</td>\n    </tr>\n    <tr>\n      <th>6</th>\n      <td>07</td>\n      <td>Ultraman Leo</td>\n    </tr>\n    <tr>\n      <th>7</th>\n      <td>08</td>\n      <td>Ultraman Tiga (Multi-Type)</td>\n    </tr>\n    <tr>\n      <th>8</th>\n      <td>09</td>\n      <td>Ultraman Gaia (V2)</td>\n    </tr>\n    <tr>\n      <th>9</th>\n      <td>10</td>\n      <td>Ultraman Agul (V2)</td>\n    </tr>\n    <tr>\n      <th>10</th>\n      <td>11</td>\n      <td>Ultraman Ginga</td>\n    </tr>\n    <tr>\n      <th>11</th>\n      <td>12</td>\n      <td>Jean-Nine</td>\n    </tr>\n    <tr>\n      <th>12</th>\n      <td>13</td>\n      <td>Astra</td>\n    </tr>\n    <tr>\n      <th>13</th>\n      <td>14</td>\n      <td>Ultraman Dyna (Flash Type)</td>\n    </tr>\n    <tr>\n      <th>14</th>\n      <td>15</td>\n      <td>Ultraman</td>\n    </tr>\n    <tr>\n      <th>15</th>\n      <td>16</td>\n      <td>Ultraman Cosmos (Luna Mode)</td>\n    </tr>\n    <tr>\n      <th>16</th>\n      <td>17</td>\n      <td>Ultraman Nexus (Anphans)</td>\n    </tr>\n    <tr>\n      <th>17</th>\n      <td>18</td>\n      <td>Ultraman Max</td>\n    </tr>\n    <tr>\n      <th>18</th>\n      <td>19</td>\n      <td>Ultraman Mebius</td>\n    </tr>\n    <tr>\n      <th>19</th>\n      <td>20</td>\n      <td>Ultraman Hikari</td>\n    </tr>\n    <tr>\n      <th>20</th>\n      <td>21</td>\n      <td>Ultraman Zero</td>\n    </tr>\n    <tr>\n      <th>21</th>\n      <td>22</td>\n      <td>Ultraman Nice</td>\n    </tr>\n    <tr>\n      <th>22</th>\n      <td>23</td>\n      <td>Father of Ultra</td>\n    </tr>\n    <tr>\n      <th>23</th>\n      <td>24</td>\n      <td>Ultraman King</td>\n    </tr>\n    <tr>\n      <th>24</th>\n      <td>25</td>\n      <td>Ultraman Saga</td>\n    </tr>\n    <tr>\n      <th>25</th>\n      <td>26</td>\n      <td>Tiga Dark (Spark Doll)</td>\n    </tr>\n    <tr>\n      <th>26</th>\n      <td>27</td>\n      <td>Ultraman Dark (Spark Doll)</td>\n    </tr>\n    <tr>\n      <th>27</th>\n      <td>28</td>\n      <td>Ultraman Victory</td>\n    </tr>\n    <tr>\n      <th>28</th>\n      <td>29</td>\n      <td>Ultraman Ginga Strium</td>\n    </tr>\n    <tr>\n      <th>29</th>\n      <td>30</td>\n      <td>Ultraman Gingavictory</td>\n    </tr>\n    <tr>\n      <th>30</th>\n      <td>31</td>\n      <td>Shining Ultraman Zero</td>\n    </tr>\n    <tr>\n      <th>31</th>\n      <td>32</td>\n      <td>Ultraman Nexus Junis</td>\n    </tr>\n    <tr>\n      <th>32</th>\n      <td>33</td>\n      <td>Ultraman Cosmos Eclipse Mode</td>\n    </tr>\n    <tr>\n      <th>33</th>\n      <td>34</td>\n      <td>Ultraman Victory Knight</td>\n    </tr>\n  </tbody>\n</table>\n</div>"
     },
     "metadata": {},
     "execution_count": 167
    }
   ],
   "source": [
    "# membuat dataframe dari list\n",
    "df_ultraman = pd.DataFrame(number)\n",
    "\n",
    "df_ultraman['Ultraman Name'] = ultraman_name\n",
    "\n",
    "# mengubah nama kolom\n",
    "df_ultraman = df_ultraman.rename(columns={0:'No'})\n",
    "\n",
    "df_ultraman"
   ]
  },
  {
   "cell_type": "code",
   "execution_count": null,
   "metadata": {},
   "outputs": [],
   "source": []
  },
  {
   "cell_type": "code",
   "execution_count": null,
   "metadata": {},
   "outputs": [],
   "source": []
  },
  {
   "cell_type": "code",
   "execution_count": null,
   "metadata": {},
   "outputs": [],
   "source": []
  },
  {
   "cell_type": "code",
   "execution_count": null,
   "metadata": {},
   "outputs": [],
   "source": []
  }
 ]
}