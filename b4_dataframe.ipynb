{
 "metadata": {
  "language_info": {
   "codemirror_mode": {
    "name": "ipython",
    "version": 3
   },
   "file_extension": ".py",
   "mimetype": "text/x-python",
   "name": "python",
   "nbconvert_exporter": "python",
   "pygments_lexer": "ipython3",
   "version": "3.7.6-final"
  },
  "orig_nbformat": 2,
  "kernelspec": {
   "name": "python3",
   "display_name": "Python 3"
  }
 },
 "nbformat": 4,
 "nbformat_minor": 2,
 "cells": [
  {
   "source": [
    "<img src='dataframe.png'>"
   ],
   "cell_type": "markdown",
   "metadata": {}
  },
  {
   "cell_type": "code",
   "execution_count": 40,
   "metadata": {},
   "outputs": [],
   "source": [
    "import pandas as pd"
   ]
  },
  {
   "cell_type": "code",
   "execution_count": 71,
   "metadata": {},
   "outputs": [],
   "source": [
    "# membuat DataFrame menggunakan list\n",
    "list1 = ['Raven Bierman','Female','2016-12-04',7000000]\n",
    "list2 = ['Valter Havers','Male','2018-04-13',7000000]\n",
    "list3 = ['Marko Mendell','Male','2018-07-04',15000000]\n",
    "list4 = ['Takahiro Momota','Male','2016-11-18',12000000]\n",
    "list5 = ['Yahiko Tielmans','Male','2017-05-26',20000000]\n",
    "list6 = ['Dina Rebaine','Female','2015-03-20',15000000]\n",
    "\n",
    "allList = [list1,list2,list3,list4,list5,list6]\n",
    "\n",
    "row = [100111,100112,200210,200211,200312,300207]\n",
    "column = ['name','gender','hire date','gross salary']"
   ]
  },
  {
   "cell_type": "code",
   "execution_count": 72,
   "metadata": {},
   "outputs": [
    {
     "output_type": "execute_result",
     "data": {
      "text/plain": [
       "                   name  gender   hire date  gross salary\n",
       "100111    Raven Bierman  Female  2016-12-04       7000000\n",
       "100112    Valter Havers    Male  2018-04-13       7000000\n",
       "200210    Marko Mendell    Male  2018-07-04      15000000\n",
       "200211  Takahiro Momota    Male  2016-11-18      12000000\n",
       "200312  Yahiko Tielmans    Male  2017-05-26      20000000\n",
       "300207     Dina Rebaine  Female  2015-03-20      15000000"
      ],
      "text/html": "<div>\n<style scoped>\n    .dataframe tbody tr th:only-of-type {\n        vertical-align: middle;\n    }\n\n    .dataframe tbody tr th {\n        vertical-align: top;\n    }\n\n    .dataframe thead th {\n        text-align: right;\n    }\n</style>\n<table border=\"1\" class=\"dataframe\">\n  <thead>\n    <tr style=\"text-align: right;\">\n      <th></th>\n      <th>name</th>\n      <th>gender</th>\n      <th>hire date</th>\n      <th>gross salary</th>\n    </tr>\n  </thead>\n  <tbody>\n    <tr>\n      <th>100111</th>\n      <td>Raven Bierman</td>\n      <td>Female</td>\n      <td>2016-12-04</td>\n      <td>7000000</td>\n    </tr>\n    <tr>\n      <th>100112</th>\n      <td>Valter Havers</td>\n      <td>Male</td>\n      <td>2018-04-13</td>\n      <td>7000000</td>\n    </tr>\n    <tr>\n      <th>200210</th>\n      <td>Marko Mendell</td>\n      <td>Male</td>\n      <td>2018-07-04</td>\n      <td>15000000</td>\n    </tr>\n    <tr>\n      <th>200211</th>\n      <td>Takahiro Momota</td>\n      <td>Male</td>\n      <td>2016-11-18</td>\n      <td>12000000</td>\n    </tr>\n    <tr>\n      <th>200312</th>\n      <td>Yahiko Tielmans</td>\n      <td>Male</td>\n      <td>2017-05-26</td>\n      <td>20000000</td>\n    </tr>\n    <tr>\n      <th>300207</th>\n      <td>Dina Rebaine</td>\n      <td>Female</td>\n      <td>2015-03-20</td>\n      <td>15000000</td>\n    </tr>\n  </tbody>\n</table>\n</div>"
     },
     "metadata": {},
     "execution_count": 72
    }
   ],
   "source": [
    "df = pd.DataFrame(allList, index=row, columns=column)\n",
    "df"
   ]
  },
  {
   "cell_type": "code",
   "execution_count": 73,
   "metadata": {},
   "outputs": [],
   "source": [
    "name = ['Raven Bierman','Valter Havers','Marko Mendell','Takahiro Momota','Yahiko Tielmans','Dina Rebaine']\n",
    "gender = ['Female','Male','Male','Male','Male','Female']\n",
    "hire_date = ['2016-12-04','2018-04-13','2018-07-04','2016-11-18','2017-05-26','2015-03-20']\n",
    "gross_salary = [7000000,7000000,15000000,12000000,20000000,15000000]\n",
    "\n",
    "row = [100111,100112,200210,200211,200312,300207]\n",
    "column = ['name','gender','hire date','gross salary']"
   ]
  },
  {
   "cell_type": "code",
   "execution_count": 74,
   "metadata": {},
   "outputs": [],
   "source": [
    "# df = pd.DataFrame(list(zip(name,gender,hire_date,gross_salary)), index=row, columns=column)\n",
    "# # zip untuk memasangkan index yg sama antar-list yg dipasangkan\n",
    "\n",
    "# df"
   ]
  },
  {
   "cell_type": "code",
   "execution_count": 75,
   "metadata": {},
   "outputs": [],
   "source": [
    "# df = pd.DataFrame([name,gender,hire_date,gross_salary], columns=row, index=column).T\n",
    "# # .T adalah untuk transpose atau memutar baris menjadi kolom\n",
    "# # .transpose()\n",
    "\n",
    "# df"
   ]
  },
  {
   "source": [
    "# Adding and Removing Data"
   ],
   "cell_type": "markdown",
   "metadata": {}
  },
  {
   "cell_type": "code",
   "execution_count": 76,
   "metadata": {},
   "outputs": [
    {
     "output_type": "execute_result",
     "data": {
      "text/plain": [
       "                   name  gender   hire date  gross salary\n",
       "100111    Raven Bierman  Female  2016-12-04       7000000\n",
       "100112    Valter Havers    Male  2018-04-13       7000000\n",
       "200210    Marko Mendell    Male  2018-07-04      15000000\n",
       "200211  Takahiro Momota    Male  2016-11-18      12000000\n",
       "200312  Yahiko Tielmans    Male  2017-05-26      20000000\n",
       "300207     Dina Rebaine  Female  2015-03-20      15000000"
      ],
      "text/html": "<div>\n<style scoped>\n    .dataframe tbody tr th:only-of-type {\n        vertical-align: middle;\n    }\n\n    .dataframe tbody tr th {\n        vertical-align: top;\n    }\n\n    .dataframe thead th {\n        text-align: right;\n    }\n</style>\n<table border=\"1\" class=\"dataframe\">\n  <thead>\n    <tr style=\"text-align: right;\">\n      <th></th>\n      <th>name</th>\n      <th>gender</th>\n      <th>hire date</th>\n      <th>gross salary</th>\n    </tr>\n  </thead>\n  <tbody>\n    <tr>\n      <th>100111</th>\n      <td>Raven Bierman</td>\n      <td>Female</td>\n      <td>2016-12-04</td>\n      <td>7000000</td>\n    </tr>\n    <tr>\n      <th>100112</th>\n      <td>Valter Havers</td>\n      <td>Male</td>\n      <td>2018-04-13</td>\n      <td>7000000</td>\n    </tr>\n    <tr>\n      <th>200210</th>\n      <td>Marko Mendell</td>\n      <td>Male</td>\n      <td>2018-07-04</td>\n      <td>15000000</td>\n    </tr>\n    <tr>\n      <th>200211</th>\n      <td>Takahiro Momota</td>\n      <td>Male</td>\n      <td>2016-11-18</td>\n      <td>12000000</td>\n    </tr>\n    <tr>\n      <th>200312</th>\n      <td>Yahiko Tielmans</td>\n      <td>Male</td>\n      <td>2017-05-26</td>\n      <td>20000000</td>\n    </tr>\n    <tr>\n      <th>300207</th>\n      <td>Dina Rebaine</td>\n      <td>Female</td>\n      <td>2015-03-20</td>\n      <td>15000000</td>\n    </tr>\n  </tbody>\n</table>\n</div>"
     },
     "metadata": {},
     "execution_count": 76
    }
   ],
   "source": [
    "df"
   ]
  },
  {
   "cell_type": "code",
   "execution_count": 77,
   "metadata": {},
   "outputs": [
    {
     "output_type": "execute_result",
     "data": {
      "text/plain": [
       "                   name  gender   hire date  gross salary  nett salary\n",
       "100111    Raven Bierman  Female  2016-12-04       7000000    5950000.0\n",
       "100112    Valter Havers    Male  2018-04-13       7000000    5950000.0\n",
       "200210    Marko Mendell    Male  2018-07-04      15000000   12750000.0\n",
       "200211  Takahiro Momota    Male  2016-11-18      12000000   10200000.0\n",
       "200312  Yahiko Tielmans    Male  2017-05-26      20000000   17000000.0\n",
       "300207     Dina Rebaine  Female  2015-03-20      15000000   12750000.0"
      ],
      "text/html": "<div>\n<style scoped>\n    .dataframe tbody tr th:only-of-type {\n        vertical-align: middle;\n    }\n\n    .dataframe tbody tr th {\n        vertical-align: top;\n    }\n\n    .dataframe thead th {\n        text-align: right;\n    }\n</style>\n<table border=\"1\" class=\"dataframe\">\n  <thead>\n    <tr style=\"text-align: right;\">\n      <th></th>\n      <th>name</th>\n      <th>gender</th>\n      <th>hire date</th>\n      <th>gross salary</th>\n      <th>nett salary</th>\n    </tr>\n  </thead>\n  <tbody>\n    <tr>\n      <th>100111</th>\n      <td>Raven Bierman</td>\n      <td>Female</td>\n      <td>2016-12-04</td>\n      <td>7000000</td>\n      <td>5950000.0</td>\n    </tr>\n    <tr>\n      <th>100112</th>\n      <td>Valter Havers</td>\n      <td>Male</td>\n      <td>2018-04-13</td>\n      <td>7000000</td>\n      <td>5950000.0</td>\n    </tr>\n    <tr>\n      <th>200210</th>\n      <td>Marko Mendell</td>\n      <td>Male</td>\n      <td>2018-07-04</td>\n      <td>15000000</td>\n      <td>12750000.0</td>\n    </tr>\n    <tr>\n      <th>200211</th>\n      <td>Takahiro Momota</td>\n      <td>Male</td>\n      <td>2016-11-18</td>\n      <td>12000000</td>\n      <td>10200000.0</td>\n    </tr>\n    <tr>\n      <th>200312</th>\n      <td>Yahiko Tielmans</td>\n      <td>Male</td>\n      <td>2017-05-26</td>\n      <td>20000000</td>\n      <td>17000000.0</td>\n    </tr>\n    <tr>\n      <th>300207</th>\n      <td>Dina Rebaine</td>\n      <td>Female</td>\n      <td>2015-03-20</td>\n      <td>15000000</td>\n      <td>12750000.0</td>\n    </tr>\n  </tbody>\n</table>\n</div>"
     },
     "metadata": {},
     "execution_count": 77
    }
   ],
   "source": [
    "# menambah kolom pada DataFrame\n",
    "df['nett salary'] = df['gross salary']*0.85\n",
    "df"
   ]
  },
  {
   "cell_type": "code",
   "execution_count": 78,
   "metadata": {},
   "outputs": [
    {
     "output_type": "execute_result",
     "data": {
      "text/plain": [
       "                   name  gender   hire date  gross salary\n",
       "100111    Raven Bierman  Female  2016-12-04       7000000\n",
       "100112    Valter Havers    Male  2018-04-13       7000000\n",
       "200210    Marko Mendell    Male  2018-07-04      15000000\n",
       "200211  Takahiro Momota    Male  2016-11-18      12000000\n",
       "200312  Yahiko Tielmans    Male  2017-05-26      20000000\n",
       "300207     Dina Rebaine  Female  2015-03-20      15000000"
      ],
      "text/html": "<div>\n<style scoped>\n    .dataframe tbody tr th:only-of-type {\n        vertical-align: middle;\n    }\n\n    .dataframe tbody tr th {\n        vertical-align: top;\n    }\n\n    .dataframe thead th {\n        text-align: right;\n    }\n</style>\n<table border=\"1\" class=\"dataframe\">\n  <thead>\n    <tr style=\"text-align: right;\">\n      <th></th>\n      <th>name</th>\n      <th>gender</th>\n      <th>hire date</th>\n      <th>gross salary</th>\n    </tr>\n  </thead>\n  <tbody>\n    <tr>\n      <th>100111</th>\n      <td>Raven Bierman</td>\n      <td>Female</td>\n      <td>2016-12-04</td>\n      <td>7000000</td>\n    </tr>\n    <tr>\n      <th>100112</th>\n      <td>Valter Havers</td>\n      <td>Male</td>\n      <td>2018-04-13</td>\n      <td>7000000</td>\n    </tr>\n    <tr>\n      <th>200210</th>\n      <td>Marko Mendell</td>\n      <td>Male</td>\n      <td>2018-07-04</td>\n      <td>15000000</td>\n    </tr>\n    <tr>\n      <th>200211</th>\n      <td>Takahiro Momota</td>\n      <td>Male</td>\n      <td>2016-11-18</td>\n      <td>12000000</td>\n    </tr>\n    <tr>\n      <th>200312</th>\n      <td>Yahiko Tielmans</td>\n      <td>Male</td>\n      <td>2017-05-26</td>\n      <td>20000000</td>\n    </tr>\n    <tr>\n      <th>300207</th>\n      <td>Dina Rebaine</td>\n      <td>Female</td>\n      <td>2015-03-20</td>\n      <td>15000000</td>\n    </tr>\n  </tbody>\n</table>\n</div>"
     },
     "metadata": {},
     "execution_count": 78
    }
   ],
   "source": [
    "# menghapus kolom dari DataFrame sementara\n",
    "df.drop('nett salary', axis=1)"
   ]
  },
  {
   "cell_type": "code",
   "execution_count": 79,
   "metadata": {},
   "outputs": [
    {
     "output_type": "execute_result",
     "data": {
      "text/plain": [
       "                   name  gender   hire date  gross salary  nett salary\n",
       "100111    Raven Bierman  Female  2016-12-04       7000000    5950000.0\n",
       "100112    Valter Havers    Male  2018-04-13       7000000    5950000.0\n",
       "200210    Marko Mendell    Male  2018-07-04      15000000   12750000.0\n",
       "200211  Takahiro Momota    Male  2016-11-18      12000000   10200000.0\n",
       "200312  Yahiko Tielmans    Male  2017-05-26      20000000   17000000.0"
      ],
      "text/html": "<div>\n<style scoped>\n    .dataframe tbody tr th:only-of-type {\n        vertical-align: middle;\n    }\n\n    .dataframe tbody tr th {\n        vertical-align: top;\n    }\n\n    .dataframe thead th {\n        text-align: right;\n    }\n</style>\n<table border=\"1\" class=\"dataframe\">\n  <thead>\n    <tr style=\"text-align: right;\">\n      <th></th>\n      <th>name</th>\n      <th>gender</th>\n      <th>hire date</th>\n      <th>gross salary</th>\n      <th>nett salary</th>\n    </tr>\n  </thead>\n  <tbody>\n    <tr>\n      <th>100111</th>\n      <td>Raven Bierman</td>\n      <td>Female</td>\n      <td>2016-12-04</td>\n      <td>7000000</td>\n      <td>5950000.0</td>\n    </tr>\n    <tr>\n      <th>100112</th>\n      <td>Valter Havers</td>\n      <td>Male</td>\n      <td>2018-04-13</td>\n      <td>7000000</td>\n      <td>5950000.0</td>\n    </tr>\n    <tr>\n      <th>200210</th>\n      <td>Marko Mendell</td>\n      <td>Male</td>\n      <td>2018-07-04</td>\n      <td>15000000</td>\n      <td>12750000.0</td>\n    </tr>\n    <tr>\n      <th>200211</th>\n      <td>Takahiro Momota</td>\n      <td>Male</td>\n      <td>2016-11-18</td>\n      <td>12000000</td>\n      <td>10200000.0</td>\n    </tr>\n    <tr>\n      <th>200312</th>\n      <td>Yahiko Tielmans</td>\n      <td>Male</td>\n      <td>2017-05-26</td>\n      <td>20000000</td>\n      <td>17000000.0</td>\n    </tr>\n  </tbody>\n</table>\n</div>"
     },
     "metadata": {},
     "execution_count": 79
    }
   ],
   "source": [
    "# menghapus baris dari DataFrame sementara\n",
    "df.drop(300207, axis=0)"
   ]
  },
  {
   "cell_type": "code",
   "execution_count": 80,
   "metadata": {},
   "outputs": [
    {
     "output_type": "execute_result",
     "data": {
      "text/plain": [
       "                   name  gender   hire date  gross salary\n",
       "100111    Raven Bierman  Female  2016-12-04       7000000\n",
       "100112    Valter Havers    Male  2018-04-13       7000000\n",
       "200210    Marko Mendell    Male  2018-07-04      15000000\n",
       "200211  Takahiro Momota    Male  2016-11-18      12000000\n",
       "200312  Yahiko Tielmans    Male  2017-05-26      20000000\n",
       "300207     Dina Rebaine  Female  2015-03-20      15000000"
      ],
      "text/html": "<div>\n<style scoped>\n    .dataframe tbody tr th:only-of-type {\n        vertical-align: middle;\n    }\n\n    .dataframe tbody tr th {\n        vertical-align: top;\n    }\n\n    .dataframe thead th {\n        text-align: right;\n    }\n</style>\n<table border=\"1\" class=\"dataframe\">\n  <thead>\n    <tr style=\"text-align: right;\">\n      <th></th>\n      <th>name</th>\n      <th>gender</th>\n      <th>hire date</th>\n      <th>gross salary</th>\n    </tr>\n  </thead>\n  <tbody>\n    <tr>\n      <th>100111</th>\n      <td>Raven Bierman</td>\n      <td>Female</td>\n      <td>2016-12-04</td>\n      <td>7000000</td>\n    </tr>\n    <tr>\n      <th>100112</th>\n      <td>Valter Havers</td>\n      <td>Male</td>\n      <td>2018-04-13</td>\n      <td>7000000</td>\n    </tr>\n    <tr>\n      <th>200210</th>\n      <td>Marko Mendell</td>\n      <td>Male</td>\n      <td>2018-07-04</td>\n      <td>15000000</td>\n    </tr>\n    <tr>\n      <th>200211</th>\n      <td>Takahiro Momota</td>\n      <td>Male</td>\n      <td>2016-11-18</td>\n      <td>12000000</td>\n    </tr>\n    <tr>\n      <th>200312</th>\n      <td>Yahiko Tielmans</td>\n      <td>Male</td>\n      <td>2017-05-26</td>\n      <td>20000000</td>\n    </tr>\n    <tr>\n      <th>300207</th>\n      <td>Dina Rebaine</td>\n      <td>Female</td>\n      <td>2015-03-20</td>\n      <td>15000000</td>\n    </tr>\n  </tbody>\n</table>\n</div>"
     },
     "metadata": {},
     "execution_count": 80
    }
   ],
   "source": [
    "df.drop('nett salary', axis=1)"
   ]
  },
  {
   "cell_type": "code",
   "execution_count": 81,
   "metadata": {},
   "outputs": [
    {
     "output_type": "execute_result",
     "data": {
      "text/plain": [
       "                   name  gender   hire date  gross salary  nett salary\n",
       "100111    Raven Bierman  Female  2016-12-04       7000000    5950000.0\n",
       "100112    Valter Havers    Male  2018-04-13       7000000    5950000.0\n",
       "200210    Marko Mendell    Male  2018-07-04      15000000   12750000.0\n",
       "200211  Takahiro Momota    Male  2016-11-18      12000000   10200000.0\n",
       "200312  Yahiko Tielmans    Male  2017-05-26      20000000   17000000.0\n",
       "300207     Dina Rebaine  Female  2015-03-20      15000000   12750000.0"
      ],
      "text/html": "<div>\n<style scoped>\n    .dataframe tbody tr th:only-of-type {\n        vertical-align: middle;\n    }\n\n    .dataframe tbody tr th {\n        vertical-align: top;\n    }\n\n    .dataframe thead th {\n        text-align: right;\n    }\n</style>\n<table border=\"1\" class=\"dataframe\">\n  <thead>\n    <tr style=\"text-align: right;\">\n      <th></th>\n      <th>name</th>\n      <th>gender</th>\n      <th>hire date</th>\n      <th>gross salary</th>\n      <th>nett salary</th>\n    </tr>\n  </thead>\n  <tbody>\n    <tr>\n      <th>100111</th>\n      <td>Raven Bierman</td>\n      <td>Female</td>\n      <td>2016-12-04</td>\n      <td>7000000</td>\n      <td>5950000.0</td>\n    </tr>\n    <tr>\n      <th>100112</th>\n      <td>Valter Havers</td>\n      <td>Male</td>\n      <td>2018-04-13</td>\n      <td>7000000</td>\n      <td>5950000.0</td>\n    </tr>\n    <tr>\n      <th>200210</th>\n      <td>Marko Mendell</td>\n      <td>Male</td>\n      <td>2018-07-04</td>\n      <td>15000000</td>\n      <td>12750000.0</td>\n    </tr>\n    <tr>\n      <th>200211</th>\n      <td>Takahiro Momota</td>\n      <td>Male</td>\n      <td>2016-11-18</td>\n      <td>12000000</td>\n      <td>10200000.0</td>\n    </tr>\n    <tr>\n      <th>200312</th>\n      <td>Yahiko Tielmans</td>\n      <td>Male</td>\n      <td>2017-05-26</td>\n      <td>20000000</td>\n      <td>17000000.0</td>\n    </tr>\n    <tr>\n      <th>300207</th>\n      <td>Dina Rebaine</td>\n      <td>Female</td>\n      <td>2015-03-20</td>\n      <td>15000000</td>\n      <td>12750000.0</td>\n    </tr>\n  </tbody>\n</table>\n</div>"
     },
     "metadata": {},
     "execution_count": 81
    }
   ],
   "source": [
    "df"
   ]
  },
  {
   "cell_type": "code",
   "execution_count": 82,
   "metadata": {},
   "outputs": [],
   "source": [
    "# menghapus baris dari DataFrame secara permanen dgn inplace\n",
    "# tidak disarankan\n",
    "# lebih baik buat variable baru untuk menyimpan dataframe yg sudah terubah, agar dataframe aslinya tetap ada\n",
    "\n",
    "df.drop('nett salary', axis=1, inplace=True)"
   ]
  },
  {
   "cell_type": "code",
   "execution_count": 83,
   "metadata": {},
   "outputs": [
    {
     "output_type": "execute_result",
     "data": {
      "text/plain": [
       "                   name  gender   hire date  gross salary\n",
       "100111    Raven Bierman  Female  2016-12-04       7000000\n",
       "100112    Valter Havers    Male  2018-04-13       7000000\n",
       "200210    Marko Mendell    Male  2018-07-04      15000000\n",
       "200211  Takahiro Momota    Male  2016-11-18      12000000\n",
       "200312  Yahiko Tielmans    Male  2017-05-26      20000000\n",
       "300207     Dina Rebaine  Female  2015-03-20      15000000"
      ],
      "text/html": "<div>\n<style scoped>\n    .dataframe tbody tr th:only-of-type {\n        vertical-align: middle;\n    }\n\n    .dataframe tbody tr th {\n        vertical-align: top;\n    }\n\n    .dataframe thead th {\n        text-align: right;\n    }\n</style>\n<table border=\"1\" class=\"dataframe\">\n  <thead>\n    <tr style=\"text-align: right;\">\n      <th></th>\n      <th>name</th>\n      <th>gender</th>\n      <th>hire date</th>\n      <th>gross salary</th>\n    </tr>\n  </thead>\n  <tbody>\n    <tr>\n      <th>100111</th>\n      <td>Raven Bierman</td>\n      <td>Female</td>\n      <td>2016-12-04</td>\n      <td>7000000</td>\n    </tr>\n    <tr>\n      <th>100112</th>\n      <td>Valter Havers</td>\n      <td>Male</td>\n      <td>2018-04-13</td>\n      <td>7000000</td>\n    </tr>\n    <tr>\n      <th>200210</th>\n      <td>Marko Mendell</td>\n      <td>Male</td>\n      <td>2018-07-04</td>\n      <td>15000000</td>\n    </tr>\n    <tr>\n      <th>200211</th>\n      <td>Takahiro Momota</td>\n      <td>Male</td>\n      <td>2016-11-18</td>\n      <td>12000000</td>\n    </tr>\n    <tr>\n      <th>200312</th>\n      <td>Yahiko Tielmans</td>\n      <td>Male</td>\n      <td>2017-05-26</td>\n      <td>20000000</td>\n    </tr>\n    <tr>\n      <th>300207</th>\n      <td>Dina Rebaine</td>\n      <td>Female</td>\n      <td>2015-03-20</td>\n      <td>15000000</td>\n    </tr>\n  </tbody>\n</table>\n</div>"
     },
     "metadata": {},
     "execution_count": 83
    }
   ],
   "source": [
    "df"
   ]
  },
  {
   "cell_type": "code",
   "execution_count": 85,
   "metadata": {},
   "outputs": [
    {
     "output_type": "execute_result",
     "data": {
      "text/plain": [
       "100111     7000000\n",
       "100112     7000000\n",
       "200210    15000000\n",
       "200211    12000000\n",
       "200312    20000000\n",
       "300207    15000000\n",
       "Name: gross salary, dtype: int64"
      ]
     },
     "metadata": {},
     "execution_count": 85
    }
   ],
   "source": [
    "df['gross salary']"
   ]
  },
  {
   "source": [
    "# Indexing and Selection"
   ],
   "cell_type": "markdown",
   "metadata": {}
  },
  {
   "cell_type": "code",
   "execution_count": 86,
   "metadata": {},
   "outputs": [
    {
     "output_type": "execute_result",
     "data": {
      "text/plain": [
       "                   name  gender   hire date  gross salary\n",
       "100111    Raven Bierman  Female  2016-12-04       7000000\n",
       "100112    Valter Havers    Male  2018-04-13       7000000\n",
       "200210    Marko Mendell    Male  2018-07-04      15000000\n",
       "200211  Takahiro Momota    Male  2016-11-18      12000000\n",
       "200312  Yahiko Tielmans    Male  2017-05-26      20000000\n",
       "300207     Dina Rebaine  Female  2015-03-20      15000000"
      ],
      "text/html": "<div>\n<style scoped>\n    .dataframe tbody tr th:only-of-type {\n        vertical-align: middle;\n    }\n\n    .dataframe tbody tr th {\n        vertical-align: top;\n    }\n\n    .dataframe thead th {\n        text-align: right;\n    }\n</style>\n<table border=\"1\" class=\"dataframe\">\n  <thead>\n    <tr style=\"text-align: right;\">\n      <th></th>\n      <th>name</th>\n      <th>gender</th>\n      <th>hire date</th>\n      <th>gross salary</th>\n    </tr>\n  </thead>\n  <tbody>\n    <tr>\n      <th>100111</th>\n      <td>Raven Bierman</td>\n      <td>Female</td>\n      <td>2016-12-04</td>\n      <td>7000000</td>\n    </tr>\n    <tr>\n      <th>100112</th>\n      <td>Valter Havers</td>\n      <td>Male</td>\n      <td>2018-04-13</td>\n      <td>7000000</td>\n    </tr>\n    <tr>\n      <th>200210</th>\n      <td>Marko Mendell</td>\n      <td>Male</td>\n      <td>2018-07-04</td>\n      <td>15000000</td>\n    </tr>\n    <tr>\n      <th>200211</th>\n      <td>Takahiro Momota</td>\n      <td>Male</td>\n      <td>2016-11-18</td>\n      <td>12000000</td>\n    </tr>\n    <tr>\n      <th>200312</th>\n      <td>Yahiko Tielmans</td>\n      <td>Male</td>\n      <td>2017-05-26</td>\n      <td>20000000</td>\n    </tr>\n    <tr>\n      <th>300207</th>\n      <td>Dina Rebaine</td>\n      <td>Female</td>\n      <td>2015-03-20</td>\n      <td>15000000</td>\n    </tr>\n  </tbody>\n</table>\n</div>"
     },
     "metadata": {},
     "execution_count": 86
    }
   ],
   "source": [
    "df"
   ]
  },
  {
   "cell_type": "code",
   "execution_count": 87,
   "metadata": {},
   "outputs": [
    {
     "output_type": "execute_result",
     "data": {
      "text/plain": [
       "100111      Raven Bierman\n",
       "100112      Valter Havers\n",
       "200210      Marko Mendell\n",
       "200211    Takahiro Momota\n",
       "200312    Yahiko Tielmans\n",
       "300207       Dina Rebaine\n",
       "Name: name, dtype: object"
      ]
     },
     "metadata": {},
     "execution_count": 87
    }
   ],
   "source": [
    "# indexing menggunakan nama kolom\n",
    "df['name']"
   ]
  },
  {
   "cell_type": "code",
   "execution_count": 89,
   "metadata": {},
   "outputs": [
    {
     "output_type": "execute_result",
     "data": {
      "text/plain": [
       "                   name  gross salary\n",
       "100111    Raven Bierman       7000000\n",
       "100112    Valter Havers       7000000\n",
       "200210    Marko Mendell      15000000\n",
       "200211  Takahiro Momota      12000000\n",
       "200312  Yahiko Tielmans      20000000\n",
       "300207     Dina Rebaine      15000000"
      ],
      "text/html": "<div>\n<style scoped>\n    .dataframe tbody tr th:only-of-type {\n        vertical-align: middle;\n    }\n\n    .dataframe tbody tr th {\n        vertical-align: top;\n    }\n\n    .dataframe thead th {\n        text-align: right;\n    }\n</style>\n<table border=\"1\" class=\"dataframe\">\n  <thead>\n    <tr style=\"text-align: right;\">\n      <th></th>\n      <th>name</th>\n      <th>gross salary</th>\n    </tr>\n  </thead>\n  <tbody>\n    <tr>\n      <th>100111</th>\n      <td>Raven Bierman</td>\n      <td>7000000</td>\n    </tr>\n    <tr>\n      <th>100112</th>\n      <td>Valter Havers</td>\n      <td>7000000</td>\n    </tr>\n    <tr>\n      <th>200210</th>\n      <td>Marko Mendell</td>\n      <td>15000000</td>\n    </tr>\n    <tr>\n      <th>200211</th>\n      <td>Takahiro Momota</td>\n      <td>12000000</td>\n    </tr>\n    <tr>\n      <th>200312</th>\n      <td>Yahiko Tielmans</td>\n      <td>20000000</td>\n    </tr>\n    <tr>\n      <th>300207</th>\n      <td>Dina Rebaine</td>\n      <td>15000000</td>\n    </tr>\n  </tbody>\n</table>\n</div>"
     },
     "metadata": {},
     "execution_count": 89
    }
   ],
   "source": [
    "# indexing menggunakan nama kolom >1 dgn [[]]\n",
    "df[['name','gross salary']] "
   ]
  },
  {
   "cell_type": "code",
   "execution_count": 90,
   "metadata": {},
   "outputs": [
    {
     "output_type": "execute_result",
     "data": {
      "text/plain": [
       "'Raven Bierman'"
      ]
     },
     "metadata": {},
     "execution_count": 90
    }
   ],
   "source": [
    "# df['kolom']['index']\n",
    "df['name'][100111]"
   ]
  },
  {
   "cell_type": "code",
   "execution_count": 92,
   "metadata": {},
   "outputs": [
    {
     "output_type": "execute_result",
     "data": {
      "text/plain": [
       "100111    Raven Bierman\n",
       "100112    Valter Havers\n",
       "Name: name, dtype: object"
      ]
     },
     "metadata": {},
     "execution_count": 92
    }
   ],
   "source": [
    "# df['kolom'][['index1','index2']]\n",
    "df['name'][[100111,100112]]"
   ]
  },
  {
   "source": [
    "# loc & iloc"
   ],
   "cell_type": "markdown",
   "metadata": {}
  },
  {
   "cell_type": "code",
   "execution_count": 112,
   "metadata": {},
   "outputs": [
    {
     "output_type": "execute_result",
     "data": {
      "text/plain": [
       "                   name  gender   hire date  gross salary\n",
       "100111    Raven Bierman  Female  2016-12-04       7000000\n",
       "100112    Valter Havers    Male  2018-04-13       7000000\n",
       "200210    Marko Mendell    Male  2018-07-04      15000000\n",
       "200211  Takahiro Momota    Male  2016-11-18      12000000\n",
       "200312  Yahiko Tielmans    Male  2017-05-26      20000000\n",
       "300207     Dina Rebaine  Female  2015-03-20      15000000"
      ],
      "text/html": "<div>\n<style scoped>\n    .dataframe tbody tr th:only-of-type {\n        vertical-align: middle;\n    }\n\n    .dataframe tbody tr th {\n        vertical-align: top;\n    }\n\n    .dataframe thead th {\n        text-align: right;\n    }\n</style>\n<table border=\"1\" class=\"dataframe\">\n  <thead>\n    <tr style=\"text-align: right;\">\n      <th></th>\n      <th>name</th>\n      <th>gender</th>\n      <th>hire date</th>\n      <th>gross salary</th>\n    </tr>\n  </thead>\n  <tbody>\n    <tr>\n      <th>100111</th>\n      <td>Raven Bierman</td>\n      <td>Female</td>\n      <td>2016-12-04</td>\n      <td>7000000</td>\n    </tr>\n    <tr>\n      <th>100112</th>\n      <td>Valter Havers</td>\n      <td>Male</td>\n      <td>2018-04-13</td>\n      <td>7000000</td>\n    </tr>\n    <tr>\n      <th>200210</th>\n      <td>Marko Mendell</td>\n      <td>Male</td>\n      <td>2018-07-04</td>\n      <td>15000000</td>\n    </tr>\n    <tr>\n      <th>200211</th>\n      <td>Takahiro Momota</td>\n      <td>Male</td>\n      <td>2016-11-18</td>\n      <td>12000000</td>\n    </tr>\n    <tr>\n      <th>200312</th>\n      <td>Yahiko Tielmans</td>\n      <td>Male</td>\n      <td>2017-05-26</td>\n      <td>20000000</td>\n    </tr>\n    <tr>\n      <th>300207</th>\n      <td>Dina Rebaine</td>\n      <td>Female</td>\n      <td>2015-03-20</td>\n      <td>15000000</td>\n    </tr>\n  </tbody>\n</table>\n</div>"
     },
     "metadata": {},
     "execution_count": 112
    }
   ],
   "source": [
    "df"
   ]
  },
  {
   "cell_type": "code",
   "execution_count": 113,
   "metadata": {},
   "outputs": [
    {
     "output_type": "execute_result",
     "data": {
      "text/plain": [
       "name            Raven Bierman\n",
       "gender                 Female\n",
       "hire date          2016-12-04\n",
       "gross salary          7000000\n",
       "Name: 100111, dtype: object"
      ]
     },
     "metadata": {},
     "execution_count": 113
    }
   ],
   "source": [
    "# loc melakukan indexing dengan nama kolom\n",
    "df.loc[100111]"
   ]
  },
  {
   "cell_type": "code",
   "execution_count": 114,
   "metadata": {},
   "outputs": [
    {
     "output_type": "error",
     "ename": "KeyError",
     "evalue": "'name'",
     "traceback": [
      "\u001b[1;31m---------------------------------------------------------------------------\u001b[0m",
      "\u001b[1;31mKeyError\u001b[0m                                  Traceback (most recent call last)",
      "\u001b[1;32m~\\anaconda3\\lib\\site-packages\\pandas\\core\\indexes\\base.py\u001b[0m in \u001b[0;36mget_loc\u001b[1;34m(self, key, method, tolerance)\u001b[0m\n\u001b[0;32m   2645\u001b[0m             \u001b[1;32mtry\u001b[0m\u001b[1;33m:\u001b[0m\u001b[1;33m\u001b[0m\u001b[1;33m\u001b[0m\u001b[0m\n\u001b[1;32m-> 2646\u001b[1;33m                 \u001b[1;32mreturn\u001b[0m \u001b[0mself\u001b[0m\u001b[1;33m.\u001b[0m\u001b[0m_engine\u001b[0m\u001b[1;33m.\u001b[0m\u001b[0mget_loc\u001b[0m\u001b[1;33m(\u001b[0m\u001b[0mkey\u001b[0m\u001b[1;33m)\u001b[0m\u001b[1;33m\u001b[0m\u001b[1;33m\u001b[0m\u001b[0m\n\u001b[0m\u001b[0;32m   2647\u001b[0m             \u001b[1;32mexcept\u001b[0m \u001b[0mKeyError\u001b[0m\u001b[1;33m:\u001b[0m\u001b[1;33m\u001b[0m\u001b[1;33m\u001b[0m\u001b[0m\n",
      "\u001b[1;32mpandas\\_libs\\index.pyx\u001b[0m in \u001b[0;36mpandas._libs.index.IndexEngine.get_loc\u001b[1;34m()\u001b[0m\n",
      "\u001b[1;32mpandas\\_libs\\index.pyx\u001b[0m in \u001b[0;36mpandas._libs.index.IndexEngine.get_loc\u001b[1;34m()\u001b[0m\n",
      "\u001b[1;32mpandas\\_libs\\index_class_helper.pxi\u001b[0m in \u001b[0;36mpandas._libs.index.Int64Engine._check_type\u001b[1;34m()\u001b[0m\n",
      "\u001b[1;31mKeyError\u001b[0m: 'name'",
      "\nDuring handling of the above exception, another exception occurred:\n",
      "\u001b[1;31mKeyError\u001b[0m                                  Traceback (most recent call last)",
      "\u001b[1;32m<ipython-input-114-28711a4ffcc6>\u001b[0m in \u001b[0;36m<module>\u001b[1;34m\u001b[0m\n\u001b[1;32m----> 1\u001b[1;33m \u001b[0mdf\u001b[0m\u001b[1;33m.\u001b[0m\u001b[0mloc\u001b[0m\u001b[1;33m[\u001b[0m\u001b[1;34m'name'\u001b[0m\u001b[1;33m]\u001b[0m\u001b[1;33m\u001b[0m\u001b[1;33m\u001b[0m\u001b[0m\n\u001b[0m",
      "\u001b[1;32m~\\anaconda3\\lib\\site-packages\\pandas\\core\\indexing.py\u001b[0m in \u001b[0;36m__getitem__\u001b[1;34m(self, key)\u001b[0m\n\u001b[0;32m   1765\u001b[0m \u001b[1;33m\u001b[0m\u001b[0m\n\u001b[0;32m   1766\u001b[0m             \u001b[0mmaybe_callable\u001b[0m \u001b[1;33m=\u001b[0m \u001b[0mcom\u001b[0m\u001b[1;33m.\u001b[0m\u001b[0mapply_if_callable\u001b[0m\u001b[1;33m(\u001b[0m\u001b[0mkey\u001b[0m\u001b[1;33m,\u001b[0m \u001b[0mself\u001b[0m\u001b[1;33m.\u001b[0m\u001b[0mobj\u001b[0m\u001b[1;33m)\u001b[0m\u001b[1;33m\u001b[0m\u001b[1;33m\u001b[0m\u001b[0m\n\u001b[1;32m-> 1767\u001b[1;33m             \u001b[1;32mreturn\u001b[0m \u001b[0mself\u001b[0m\u001b[1;33m.\u001b[0m\u001b[0m_getitem_axis\u001b[0m\u001b[1;33m(\u001b[0m\u001b[0mmaybe_callable\u001b[0m\u001b[1;33m,\u001b[0m \u001b[0maxis\u001b[0m\u001b[1;33m=\u001b[0m\u001b[0maxis\u001b[0m\u001b[1;33m)\u001b[0m\u001b[1;33m\u001b[0m\u001b[1;33m\u001b[0m\u001b[0m\n\u001b[0m\u001b[0;32m   1768\u001b[0m \u001b[1;33m\u001b[0m\u001b[0m\n\u001b[0;32m   1769\u001b[0m     \u001b[1;32mdef\u001b[0m \u001b[0m_is_scalar_access\u001b[0m\u001b[1;33m(\u001b[0m\u001b[0mself\u001b[0m\u001b[1;33m,\u001b[0m \u001b[0mkey\u001b[0m\u001b[1;33m:\u001b[0m \u001b[0mTuple\u001b[0m\u001b[1;33m)\u001b[0m\u001b[1;33m:\u001b[0m\u001b[1;33m\u001b[0m\u001b[1;33m\u001b[0m\u001b[0m\n",
      "\u001b[1;32m~\\anaconda3\\lib\\site-packages\\pandas\\core\\indexing.py\u001b[0m in \u001b[0;36m_getitem_axis\u001b[1;34m(self, key, axis)\u001b[0m\n\u001b[0;32m   1962\u001b[0m         \u001b[1;31m# fall thru to straight lookup\u001b[0m\u001b[1;33m\u001b[0m\u001b[1;33m\u001b[0m\u001b[1;33m\u001b[0m\u001b[0m\n\u001b[0;32m   1963\u001b[0m         \u001b[0mself\u001b[0m\u001b[1;33m.\u001b[0m\u001b[0m_validate_key\u001b[0m\u001b[1;33m(\u001b[0m\u001b[0mkey\u001b[0m\u001b[1;33m,\u001b[0m \u001b[0maxis\u001b[0m\u001b[1;33m)\u001b[0m\u001b[1;33m\u001b[0m\u001b[1;33m\u001b[0m\u001b[0m\n\u001b[1;32m-> 1964\u001b[1;33m         \u001b[1;32mreturn\u001b[0m \u001b[0mself\u001b[0m\u001b[1;33m.\u001b[0m\u001b[0m_get_label\u001b[0m\u001b[1;33m(\u001b[0m\u001b[0mkey\u001b[0m\u001b[1;33m,\u001b[0m \u001b[0maxis\u001b[0m\u001b[1;33m=\u001b[0m\u001b[0maxis\u001b[0m\u001b[1;33m)\u001b[0m\u001b[1;33m\u001b[0m\u001b[1;33m\u001b[0m\u001b[0m\n\u001b[0m\u001b[0;32m   1965\u001b[0m \u001b[1;33m\u001b[0m\u001b[0m\n\u001b[0;32m   1966\u001b[0m \u001b[1;33m\u001b[0m\u001b[0m\n",
      "\u001b[1;32m~\\anaconda3\\lib\\site-packages\\pandas\\core\\indexing.py\u001b[0m in \u001b[0;36m_get_label\u001b[1;34m(self, label, axis)\u001b[0m\n\u001b[0;32m    622\u001b[0m             \u001b[1;32mraise\u001b[0m \u001b[0mIndexingError\u001b[0m\u001b[1;33m(\u001b[0m\u001b[1;34m\"no slices here, handle elsewhere\"\u001b[0m\u001b[1;33m)\u001b[0m\u001b[1;33m\u001b[0m\u001b[1;33m\u001b[0m\u001b[0m\n\u001b[0;32m    623\u001b[0m \u001b[1;33m\u001b[0m\u001b[0m\n\u001b[1;32m--> 624\u001b[1;33m         \u001b[1;32mreturn\u001b[0m \u001b[0mself\u001b[0m\u001b[1;33m.\u001b[0m\u001b[0mobj\u001b[0m\u001b[1;33m.\u001b[0m\u001b[0m_xs\u001b[0m\u001b[1;33m(\u001b[0m\u001b[0mlabel\u001b[0m\u001b[1;33m,\u001b[0m \u001b[0maxis\u001b[0m\u001b[1;33m=\u001b[0m\u001b[0maxis\u001b[0m\u001b[1;33m)\u001b[0m\u001b[1;33m\u001b[0m\u001b[1;33m\u001b[0m\u001b[0m\n\u001b[0m\u001b[0;32m    625\u001b[0m \u001b[1;33m\u001b[0m\u001b[0m\n\u001b[0;32m    626\u001b[0m     \u001b[1;32mdef\u001b[0m \u001b[0m_get_loc\u001b[0m\u001b[1;33m(\u001b[0m\u001b[0mself\u001b[0m\u001b[1;33m,\u001b[0m \u001b[0mkey\u001b[0m\u001b[1;33m:\u001b[0m \u001b[0mint\u001b[0m\u001b[1;33m,\u001b[0m \u001b[0maxis\u001b[0m\u001b[1;33m:\u001b[0m \u001b[0mint\u001b[0m\u001b[1;33m)\u001b[0m\u001b[1;33m:\u001b[0m\u001b[1;33m\u001b[0m\u001b[1;33m\u001b[0m\u001b[0m\n",
      "\u001b[1;32m~\\anaconda3\\lib\\site-packages\\pandas\\core\\generic.py\u001b[0m in \u001b[0;36mxs\u001b[1;34m(self, key, axis, level, drop_level)\u001b[0m\n\u001b[0;32m   3535\u001b[0m             \u001b[0mloc\u001b[0m\u001b[1;33m,\u001b[0m \u001b[0mnew_index\u001b[0m \u001b[1;33m=\u001b[0m \u001b[0mself\u001b[0m\u001b[1;33m.\u001b[0m\u001b[0mindex\u001b[0m\u001b[1;33m.\u001b[0m\u001b[0mget_loc_level\u001b[0m\u001b[1;33m(\u001b[0m\u001b[0mkey\u001b[0m\u001b[1;33m,\u001b[0m \u001b[0mdrop_level\u001b[0m\u001b[1;33m=\u001b[0m\u001b[0mdrop_level\u001b[0m\u001b[1;33m)\u001b[0m\u001b[1;33m\u001b[0m\u001b[1;33m\u001b[0m\u001b[0m\n\u001b[0;32m   3536\u001b[0m         \u001b[1;32melse\u001b[0m\u001b[1;33m:\u001b[0m\u001b[1;33m\u001b[0m\u001b[1;33m\u001b[0m\u001b[0m\n\u001b[1;32m-> 3537\u001b[1;33m             \u001b[0mloc\u001b[0m \u001b[1;33m=\u001b[0m \u001b[0mself\u001b[0m\u001b[1;33m.\u001b[0m\u001b[0mindex\u001b[0m\u001b[1;33m.\u001b[0m\u001b[0mget_loc\u001b[0m\u001b[1;33m(\u001b[0m\u001b[0mkey\u001b[0m\u001b[1;33m)\u001b[0m\u001b[1;33m\u001b[0m\u001b[1;33m\u001b[0m\u001b[0m\n\u001b[0m\u001b[0;32m   3538\u001b[0m \u001b[1;33m\u001b[0m\u001b[0m\n\u001b[0;32m   3539\u001b[0m             \u001b[1;32mif\u001b[0m \u001b[0misinstance\u001b[0m\u001b[1;33m(\u001b[0m\u001b[0mloc\u001b[0m\u001b[1;33m,\u001b[0m \u001b[0mnp\u001b[0m\u001b[1;33m.\u001b[0m\u001b[0mndarray\u001b[0m\u001b[1;33m)\u001b[0m\u001b[1;33m:\u001b[0m\u001b[1;33m\u001b[0m\u001b[1;33m\u001b[0m\u001b[0m\n",
      "\u001b[1;32m~\\anaconda3\\lib\\site-packages\\pandas\\core\\indexes\\base.py\u001b[0m in \u001b[0;36mget_loc\u001b[1;34m(self, key, method, tolerance)\u001b[0m\n\u001b[0;32m   2646\u001b[0m                 \u001b[1;32mreturn\u001b[0m \u001b[0mself\u001b[0m\u001b[1;33m.\u001b[0m\u001b[0m_engine\u001b[0m\u001b[1;33m.\u001b[0m\u001b[0mget_loc\u001b[0m\u001b[1;33m(\u001b[0m\u001b[0mkey\u001b[0m\u001b[1;33m)\u001b[0m\u001b[1;33m\u001b[0m\u001b[1;33m\u001b[0m\u001b[0m\n\u001b[0;32m   2647\u001b[0m             \u001b[1;32mexcept\u001b[0m \u001b[0mKeyError\u001b[0m\u001b[1;33m:\u001b[0m\u001b[1;33m\u001b[0m\u001b[1;33m\u001b[0m\u001b[0m\n\u001b[1;32m-> 2648\u001b[1;33m                 \u001b[1;32mreturn\u001b[0m \u001b[0mself\u001b[0m\u001b[1;33m.\u001b[0m\u001b[0m_engine\u001b[0m\u001b[1;33m.\u001b[0m\u001b[0mget_loc\u001b[0m\u001b[1;33m(\u001b[0m\u001b[0mself\u001b[0m\u001b[1;33m.\u001b[0m\u001b[0m_maybe_cast_indexer\u001b[0m\u001b[1;33m(\u001b[0m\u001b[0mkey\u001b[0m\u001b[1;33m)\u001b[0m\u001b[1;33m)\u001b[0m\u001b[1;33m\u001b[0m\u001b[1;33m\u001b[0m\u001b[0m\n\u001b[0m\u001b[0;32m   2649\u001b[0m         \u001b[0mindexer\u001b[0m \u001b[1;33m=\u001b[0m \u001b[0mself\u001b[0m\u001b[1;33m.\u001b[0m\u001b[0mget_indexer\u001b[0m\u001b[1;33m(\u001b[0m\u001b[1;33m[\u001b[0m\u001b[0mkey\u001b[0m\u001b[1;33m]\u001b[0m\u001b[1;33m,\u001b[0m \u001b[0mmethod\u001b[0m\u001b[1;33m=\u001b[0m\u001b[0mmethod\u001b[0m\u001b[1;33m,\u001b[0m \u001b[0mtolerance\u001b[0m\u001b[1;33m=\u001b[0m\u001b[0mtolerance\u001b[0m\u001b[1;33m)\u001b[0m\u001b[1;33m\u001b[0m\u001b[1;33m\u001b[0m\u001b[0m\n\u001b[0;32m   2650\u001b[0m         \u001b[1;32mif\u001b[0m \u001b[0mindexer\u001b[0m\u001b[1;33m.\u001b[0m\u001b[0mndim\u001b[0m \u001b[1;33m>\u001b[0m \u001b[1;36m1\u001b[0m \u001b[1;32mor\u001b[0m \u001b[0mindexer\u001b[0m\u001b[1;33m.\u001b[0m\u001b[0msize\u001b[0m \u001b[1;33m>\u001b[0m \u001b[1;36m1\u001b[0m\u001b[1;33m:\u001b[0m\u001b[1;33m\u001b[0m\u001b[1;33m\u001b[0m\u001b[0m\n",
      "\u001b[1;32mpandas\\_libs\\index.pyx\u001b[0m in \u001b[0;36mpandas._libs.index.IndexEngine.get_loc\u001b[1;34m()\u001b[0m\n",
      "\u001b[1;32mpandas\\_libs\\index.pyx\u001b[0m in \u001b[0;36mpandas._libs.index.IndexEngine.get_loc\u001b[1;34m()\u001b[0m\n",
      "\u001b[1;32mpandas\\_libs\\index_class_helper.pxi\u001b[0m in \u001b[0;36mpandas._libs.index.Int64Engine._check_type\u001b[1;34m()\u001b[0m\n",
      "\u001b[1;31mKeyError\u001b[0m: 'name'"
     ]
    }
   ],
   "source": [
    "df.loc['name']"
   ]
  },
  {
   "cell_type": "code",
   "execution_count": 102,
   "metadata": {},
   "outputs": [
    {
     "output_type": "execute_result",
     "data": {
      "text/plain": [
       "name            Raven Bierman\n",
       "gender                 Female\n",
       "hire date          2016-12-04\n",
       "gross salary          7000000\n",
       "Name: 100111, dtype: object"
      ]
     },
     "metadata": {},
     "execution_count": 102
    }
   ],
   "source": [
    "# iloc melakukan indexing dgn posisi index\n",
    "df.iloc[0] "
   ]
  },
  {
   "cell_type": "code",
   "execution_count": 103,
   "metadata": {},
   "outputs": [
    {
     "output_type": "execute_result",
     "data": {
      "text/plain": [
       "                 name  gender   hire date  gross salary\n",
       "100111  Raven Bierman  Female  2016-12-04       7000000\n",
       "100112  Valter Havers    Male  2018-04-13       7000000"
      ],
      "text/html": "<div>\n<style scoped>\n    .dataframe tbody tr th:only-of-type {\n        vertical-align: middle;\n    }\n\n    .dataframe tbody tr th {\n        vertical-align: top;\n    }\n\n    .dataframe thead th {\n        text-align: right;\n    }\n</style>\n<table border=\"1\" class=\"dataframe\">\n  <thead>\n    <tr style=\"text-align: right;\">\n      <th></th>\n      <th>name</th>\n      <th>gender</th>\n      <th>hire date</th>\n      <th>gross salary</th>\n    </tr>\n  </thead>\n  <tbody>\n    <tr>\n      <th>100111</th>\n      <td>Raven Bierman</td>\n      <td>Female</td>\n      <td>2016-12-04</td>\n      <td>7000000</td>\n    </tr>\n    <tr>\n      <th>100112</th>\n      <td>Valter Havers</td>\n      <td>Male</td>\n      <td>2018-04-13</td>\n      <td>7000000</td>\n    </tr>\n  </tbody>\n</table>\n</div>"
     },
     "metadata": {},
     "execution_count": 103
    }
   ],
   "source": [
    "df.iloc[0:2]"
   ]
  },
  {
   "cell_type": "code",
   "execution_count": 108,
   "metadata": {},
   "outputs": [
    {
     "output_type": "execute_result",
     "data": {
      "text/plain": [
       "                 name  gross salary\n",
       "100111  Raven Bierman       7000000\n",
       "100112  Valter Havers       7000000"
      ],
      "text/html": "<div>\n<style scoped>\n    .dataframe tbody tr th:only-of-type {\n        vertical-align: middle;\n    }\n\n    .dataframe tbody tr th {\n        vertical-align: top;\n    }\n\n    .dataframe thead th {\n        text-align: right;\n    }\n</style>\n<table border=\"1\" class=\"dataframe\">\n  <thead>\n    <tr style=\"text-align: right;\">\n      <th></th>\n      <th>name</th>\n      <th>gross salary</th>\n    </tr>\n  </thead>\n  <tbody>\n    <tr>\n      <th>100111</th>\n      <td>Raven Bierman</td>\n      <td>7000000</td>\n    </tr>\n    <tr>\n      <th>100112</th>\n      <td>Valter Havers</td>\n      <td>7000000</td>\n    </tr>\n  </tbody>\n</table>\n</div>"
     },
     "metadata": {},
     "execution_count": 108
    }
   ],
   "source": [
    "df.loc[[100111,100112],['name','gross salary']]"
   ]
  },
  {
   "cell_type": "code",
   "execution_count": 109,
   "metadata": {},
   "outputs": [
    {
     "output_type": "execute_result",
     "data": {
      "text/plain": [
       "                 name  gross salary\n",
       "100111  Raven Bierman       7000000\n",
       "100112  Valter Havers       7000000"
      ],
      "text/html": "<div>\n<style scoped>\n    .dataframe tbody tr th:only-of-type {\n        vertical-align: middle;\n    }\n\n    .dataframe tbody tr th {\n        vertical-align: top;\n    }\n\n    .dataframe thead th {\n        text-align: right;\n    }\n</style>\n<table border=\"1\" class=\"dataframe\">\n  <thead>\n    <tr style=\"text-align: right;\">\n      <th></th>\n      <th>name</th>\n      <th>gross salary</th>\n    </tr>\n  </thead>\n  <tbody>\n    <tr>\n      <th>100111</th>\n      <td>Raven Bierman</td>\n      <td>7000000</td>\n    </tr>\n    <tr>\n      <th>100112</th>\n      <td>Valter Havers</td>\n      <td>7000000</td>\n    </tr>\n  </tbody>\n</table>\n</div>"
     },
     "metadata": {},
     "execution_count": 109
    }
   ],
   "source": [
    "df[['name','gross salary']].loc[[100111,100112]]"
   ]
  },
  {
   "cell_type": "code",
   "execution_count": 107,
   "metadata": {},
   "outputs": [
    {
     "output_type": "execute_result",
     "data": {
      "text/plain": [
       "                 name  gross salary\n",
       "100111  Raven Bierman       7000000\n",
       "100112  Valter Havers       7000000"
      ],
      "text/html": "<div>\n<style scoped>\n    .dataframe tbody tr th:only-of-type {\n        vertical-align: middle;\n    }\n\n    .dataframe tbody tr th {\n        vertical-align: top;\n    }\n\n    .dataframe thead th {\n        text-align: right;\n    }\n</style>\n<table border=\"1\" class=\"dataframe\">\n  <thead>\n    <tr style=\"text-align: right;\">\n      <th></th>\n      <th>name</th>\n      <th>gross salary</th>\n    </tr>\n  </thead>\n  <tbody>\n    <tr>\n      <th>100111</th>\n      <td>Raven Bierman</td>\n      <td>7000000</td>\n    </tr>\n    <tr>\n      <th>100112</th>\n      <td>Valter Havers</td>\n      <td>7000000</td>\n    </tr>\n  </tbody>\n</table>\n</div>"
     },
     "metadata": {},
     "execution_count": 107
    }
   ],
   "source": [
    "df.iloc[0:2,[0,3]]"
   ]
  },
  {
   "cell_type": "code",
   "execution_count": 106,
   "metadata": {},
   "outputs": [
    {
     "output_type": "execute_result",
     "data": {
      "text/plain": [
       "                 name  gender\n",
       "100111  Raven Bierman  Female\n",
       "100112  Valter Havers    Male"
      ],
      "text/html": "<div>\n<style scoped>\n    .dataframe tbody tr th:only-of-type {\n        vertical-align: middle;\n    }\n\n    .dataframe tbody tr th {\n        vertical-align: top;\n    }\n\n    .dataframe thead th {\n        text-align: right;\n    }\n</style>\n<table border=\"1\" class=\"dataframe\">\n  <thead>\n    <tr style=\"text-align: right;\">\n      <th></th>\n      <th>name</th>\n      <th>gender</th>\n    </tr>\n  </thead>\n  <tbody>\n    <tr>\n      <th>100111</th>\n      <td>Raven Bierman</td>\n      <td>Female</td>\n    </tr>\n    <tr>\n      <th>100112</th>\n      <td>Valter Havers</td>\n      <td>Male</td>\n    </tr>\n  </tbody>\n</table>\n</div>"
     },
     "metadata": {},
     "execution_count": 106
    }
   ],
   "source": [
    "df.iloc[0:2,0:2]"
   ]
  },
  {
   "cell_type": "code",
   "execution_count": 115,
   "metadata": {},
   "outputs": [
    {
     "output_type": "execute_result",
     "data": {
      "text/plain": [
       "100111    False\n",
       "100112    False\n",
       "200210     True\n",
       "200211     True\n",
       "200312     True\n",
       "300207     True\n",
       "Name: gross salary, dtype: bool"
      ]
     },
     "metadata": {},
     "execution_count": 115
    }
   ],
   "source": [
    "# indexing dgn condition\n",
    "df['gross salary']>10000000"
   ]
  },
  {
   "cell_type": "code",
   "execution_count": 116,
   "metadata": {},
   "outputs": [
    {
     "output_type": "execute_result",
     "data": {
      "text/plain": [
       "                   name  gender   hire date  gross salary\n",
       "200210    Marko Mendell    Male  2018-07-04      15000000\n",
       "200211  Takahiro Momota    Male  2016-11-18      12000000\n",
       "200312  Yahiko Tielmans    Male  2017-05-26      20000000\n",
       "300207     Dina Rebaine  Female  2015-03-20      15000000"
      ],
      "text/html": "<div>\n<style scoped>\n    .dataframe tbody tr th:only-of-type {\n        vertical-align: middle;\n    }\n\n    .dataframe tbody tr th {\n        vertical-align: top;\n    }\n\n    .dataframe thead th {\n        text-align: right;\n    }\n</style>\n<table border=\"1\" class=\"dataframe\">\n  <thead>\n    <tr style=\"text-align: right;\">\n      <th></th>\n      <th>name</th>\n      <th>gender</th>\n      <th>hire date</th>\n      <th>gross salary</th>\n    </tr>\n  </thead>\n  <tbody>\n    <tr>\n      <th>200210</th>\n      <td>Marko Mendell</td>\n      <td>Male</td>\n      <td>2018-07-04</td>\n      <td>15000000</td>\n    </tr>\n    <tr>\n      <th>200211</th>\n      <td>Takahiro Momota</td>\n      <td>Male</td>\n      <td>2016-11-18</td>\n      <td>12000000</td>\n    </tr>\n    <tr>\n      <th>200312</th>\n      <td>Yahiko Tielmans</td>\n      <td>Male</td>\n      <td>2017-05-26</td>\n      <td>20000000</td>\n    </tr>\n    <tr>\n      <th>300207</th>\n      <td>Dina Rebaine</td>\n      <td>Female</td>\n      <td>2015-03-20</td>\n      <td>15000000</td>\n    </tr>\n  </tbody>\n</table>\n</div>"
     },
     "metadata": {},
     "execution_count": 116
    }
   ],
   "source": [
    "# menampilkan dataframe dgn cara indexing dgn condition\n",
    "df[df['gross salary']>10000000]"
   ]
  },
  {
   "cell_type": "code",
   "execution_count": 117,
   "metadata": {},
   "outputs": [
    {
     "output_type": "execute_result",
     "data": {
      "text/plain": [
       "                   name  gender   hire date  gross salary\n",
       "200210    Marko Mendell    Male  2018-07-04      15000000\n",
       "200211  Takahiro Momota    Male  2016-11-18      12000000\n",
       "200312  Yahiko Tielmans    Male  2017-05-26      20000000\n",
       "300207     Dina Rebaine  Female  2015-03-20      15000000"
      ],
      "text/html": "<div>\n<style scoped>\n    .dataframe tbody tr th:only-of-type {\n        vertical-align: middle;\n    }\n\n    .dataframe tbody tr th {\n        vertical-align: top;\n    }\n\n    .dataframe thead th {\n        text-align: right;\n    }\n</style>\n<table border=\"1\" class=\"dataframe\">\n  <thead>\n    <tr style=\"text-align: right;\">\n      <th></th>\n      <th>name</th>\n      <th>gender</th>\n      <th>hire date</th>\n      <th>gross salary</th>\n    </tr>\n  </thead>\n  <tbody>\n    <tr>\n      <th>200210</th>\n      <td>Marko Mendell</td>\n      <td>Male</td>\n      <td>2018-07-04</td>\n      <td>15000000</td>\n    </tr>\n    <tr>\n      <th>200211</th>\n      <td>Takahiro Momota</td>\n      <td>Male</td>\n      <td>2016-11-18</td>\n      <td>12000000</td>\n    </tr>\n    <tr>\n      <th>200312</th>\n      <td>Yahiko Tielmans</td>\n      <td>Male</td>\n      <td>2017-05-26</td>\n      <td>20000000</td>\n    </tr>\n    <tr>\n      <th>300207</th>\n      <td>Dina Rebaine</td>\n      <td>Female</td>\n      <td>2015-03-20</td>\n      <td>15000000</td>\n    </tr>\n  </tbody>\n</table>\n</div>"
     },
     "metadata": {},
     "execution_count": 117
    }
   ],
   "source": [
    "select = df['gross salary']>10000000\n",
    "df[select]"
   ]
  },
  {
   "cell_type": "code",
   "execution_count": 118,
   "metadata": {},
   "outputs": [
    {
     "output_type": "execute_result",
     "data": {
      "text/plain": [
       "200210      Marko Mendell\n",
       "200211    Takahiro Momota\n",
       "200312    Yahiko Tielmans\n",
       "300207       Dina Rebaine\n",
       "Name: name, dtype: object"
      ]
     },
     "metadata": {},
     "execution_count": 118
    }
   ],
   "source": [
    "df[df['gross salary']>10000000]['name']\n",
    "# menampilkan nama dari data yg memiliki gross salary > 10000000"
   ]
  },
  {
   "cell_type": "code",
   "execution_count": 121,
   "metadata": {},
   "outputs": [
    {
     "output_type": "execute_result",
     "data": {
      "text/plain": [
       "                name  gender   hire date  gross salary\n",
       "300207  Dina Rebaine  Female  2015-03-20      15000000"
      ],
      "text/html": "<div>\n<style scoped>\n    .dataframe tbody tr th:only-of-type {\n        vertical-align: middle;\n    }\n\n    .dataframe tbody tr th {\n        vertical-align: top;\n    }\n\n    .dataframe thead th {\n        text-align: right;\n    }\n</style>\n<table border=\"1\" class=\"dataframe\">\n  <thead>\n    <tr style=\"text-align: right;\">\n      <th></th>\n      <th>name</th>\n      <th>gender</th>\n      <th>hire date</th>\n      <th>gross salary</th>\n    </tr>\n  </thead>\n  <tbody>\n    <tr>\n      <th>300207</th>\n      <td>Dina Rebaine</td>\n      <td>Female</td>\n      <td>2015-03-20</td>\n      <td>15000000</td>\n    </tr>\n  </tbody>\n</table>\n</div>"
     },
     "metadata": {},
     "execution_count": 121
    }
   ],
   "source": [
    "df[(df['gross salary']>10000000) & (df['gender']=='Female')]\n",
    "# menampilkan >1 kondisi dengan simbol and (&)"
   ]
  },
  {
   "cell_type": "code",
   "execution_count": 122,
   "metadata": {},
   "outputs": [
    {
     "output_type": "execute_result",
     "data": {
      "text/plain": [
       "300207    Dina Rebaine\n",
       "Name: name, dtype: object"
      ]
     },
     "metadata": {},
     "execution_count": 122
    }
   ],
   "source": [
    "df[(df['gross salary']>10000000) & (df['gender']=='Female')]['name']"
   ]
  },
  {
   "source": [
    "# group by"
   ],
   "cell_type": "markdown",
   "metadata": {}
  },
  {
   "cell_type": "code",
   "execution_count": 123,
   "metadata": {},
   "outputs": [
    {
     "output_type": "execute_result",
     "data": {
      "text/plain": [
       "                   name  gender   hire date  gross salary\n",
       "100111    Raven Bierman  Female  2016-12-04       7000000\n",
       "100112    Valter Havers    Male  2018-04-13       7000000\n",
       "200210    Marko Mendell    Male  2018-07-04      15000000\n",
       "200211  Takahiro Momota    Male  2016-11-18      12000000\n",
       "200312  Yahiko Tielmans    Male  2017-05-26      20000000\n",
       "300207     Dina Rebaine  Female  2015-03-20      15000000"
      ],
      "text/html": "<div>\n<style scoped>\n    .dataframe tbody tr th:only-of-type {\n        vertical-align: middle;\n    }\n\n    .dataframe tbody tr th {\n        vertical-align: top;\n    }\n\n    .dataframe thead th {\n        text-align: right;\n    }\n</style>\n<table border=\"1\" class=\"dataframe\">\n  <thead>\n    <tr style=\"text-align: right;\">\n      <th></th>\n      <th>name</th>\n      <th>gender</th>\n      <th>hire date</th>\n      <th>gross salary</th>\n    </tr>\n  </thead>\n  <tbody>\n    <tr>\n      <th>100111</th>\n      <td>Raven Bierman</td>\n      <td>Female</td>\n      <td>2016-12-04</td>\n      <td>7000000</td>\n    </tr>\n    <tr>\n      <th>100112</th>\n      <td>Valter Havers</td>\n      <td>Male</td>\n      <td>2018-04-13</td>\n      <td>7000000</td>\n    </tr>\n    <tr>\n      <th>200210</th>\n      <td>Marko Mendell</td>\n      <td>Male</td>\n      <td>2018-07-04</td>\n      <td>15000000</td>\n    </tr>\n    <tr>\n      <th>200211</th>\n      <td>Takahiro Momota</td>\n      <td>Male</td>\n      <td>2016-11-18</td>\n      <td>12000000</td>\n    </tr>\n    <tr>\n      <th>200312</th>\n      <td>Yahiko Tielmans</td>\n      <td>Male</td>\n      <td>2017-05-26</td>\n      <td>20000000</td>\n    </tr>\n    <tr>\n      <th>300207</th>\n      <td>Dina Rebaine</td>\n      <td>Female</td>\n      <td>2015-03-20</td>\n      <td>15000000</td>\n    </tr>\n  </tbody>\n</table>\n</div>"
     },
     "metadata": {},
     "execution_count": 123
    }
   ],
   "source": [
    "df"
   ]
  },
  {
   "cell_type": "code",
   "execution_count": 124,
   "metadata": {},
   "outputs": [
    {
     "output_type": "execute_result",
     "data": {
      "text/plain": [
       "        gross salary\n",
       "gender              \n",
       "Female      11000000\n",
       "Male        13500000"
      ],
      "text/html": "<div>\n<style scoped>\n    .dataframe tbody tr th:only-of-type {\n        vertical-align: middle;\n    }\n\n    .dataframe tbody tr th {\n        vertical-align: top;\n    }\n\n    .dataframe thead th {\n        text-align: right;\n    }\n</style>\n<table border=\"1\" class=\"dataframe\">\n  <thead>\n    <tr style=\"text-align: right;\">\n      <th></th>\n      <th>gross salary</th>\n    </tr>\n    <tr>\n      <th>gender</th>\n      <th></th>\n    </tr>\n  </thead>\n  <tbody>\n    <tr>\n      <th>Female</th>\n      <td>11000000</td>\n    </tr>\n    <tr>\n      <th>Male</th>\n      <td>13500000</td>\n    </tr>\n  </tbody>\n</table>\n</div>"
     },
     "metadata": {},
     "execution_count": 124
    }
   ],
   "source": [
    "df.groupby('gender').mean()\n",
    "# menampilkan rata-rata data di df berdasarkan gender"
   ]
  },
  {
   "cell_type": "code",
   "execution_count": 126,
   "metadata": {},
   "outputs": [
    {
     "output_type": "execute_result",
     "data": {
      "text/plain": [
       "        name  hire date  gross salary\n",
       "gender                               \n",
       "Female     2          2             2\n",
       "Male       4          4             4"
      ],
      "text/html": "<div>\n<style scoped>\n    .dataframe tbody tr th:only-of-type {\n        vertical-align: middle;\n    }\n\n    .dataframe tbody tr th {\n        vertical-align: top;\n    }\n\n    .dataframe thead th {\n        text-align: right;\n    }\n</style>\n<table border=\"1\" class=\"dataframe\">\n  <thead>\n    <tr style=\"text-align: right;\">\n      <th></th>\n      <th>name</th>\n      <th>hire date</th>\n      <th>gross salary</th>\n    </tr>\n    <tr>\n      <th>gender</th>\n      <th></th>\n      <th></th>\n      <th></th>\n    </tr>\n  </thead>\n  <tbody>\n    <tr>\n      <th>Female</th>\n      <td>2</td>\n      <td>2</td>\n      <td>2</td>\n    </tr>\n    <tr>\n      <th>Male</th>\n      <td>4</td>\n      <td>4</td>\n      <td>4</td>\n    </tr>\n  </tbody>\n</table>\n</div>"
     },
     "metadata": {},
     "execution_count": 126
    }
   ],
   "source": [
    "group = df.groupby('gender')\n",
    "\n",
    "# menghiting jumlah data \n",
    "group.count()"
   ]
  },
  {
   "cell_type": "code",
   "execution_count": 127,
   "metadata": {},
   "outputs": [
    {
     "output_type": "execute_result",
     "data": {
      "text/plain": [
       "        gross salary\n",
       "gender              \n",
       "Female  5.656854e+06\n",
       "Male    5.446712e+06"
      ],
      "text/html": "<div>\n<style scoped>\n    .dataframe tbody tr th:only-of-type {\n        vertical-align: middle;\n    }\n\n    .dataframe tbody tr th {\n        vertical-align: top;\n    }\n\n    .dataframe thead th {\n        text-align: right;\n    }\n</style>\n<table border=\"1\" class=\"dataframe\">\n  <thead>\n    <tr style=\"text-align: right;\">\n      <th></th>\n      <th>gross salary</th>\n    </tr>\n    <tr>\n      <th>gender</th>\n      <th></th>\n    </tr>\n  </thead>\n  <tbody>\n    <tr>\n      <th>Female</th>\n      <td>5.656854e+06</td>\n    </tr>\n    <tr>\n      <th>Male</th>\n      <td>5.446712e+06</td>\n    </tr>\n  </tbody>\n</table>\n</div>"
     },
     "metadata": {},
     "execution_count": 127
    }
   ],
   "source": [
    "# standar deviasi\n",
    "group.std()"
   ]
  },
  {
   "cell_type": "code",
   "execution_count": 128,
   "metadata": {},
   "outputs": [
    {
     "output_type": "execute_result",
     "data": {
      "text/plain": [
       "                 name   hire date  gross salary\n",
       "gender                                         \n",
       "Female   Dina Rebaine  2015-03-20       7000000\n",
       "Male    Marko Mendell  2016-11-18       7000000"
      ],
      "text/html": "<div>\n<style scoped>\n    .dataframe tbody tr th:only-of-type {\n        vertical-align: middle;\n    }\n\n    .dataframe tbody tr th {\n        vertical-align: top;\n    }\n\n    .dataframe thead th {\n        text-align: right;\n    }\n</style>\n<table border=\"1\" class=\"dataframe\">\n  <thead>\n    <tr style=\"text-align: right;\">\n      <th></th>\n      <th>name</th>\n      <th>hire date</th>\n      <th>gross salary</th>\n    </tr>\n    <tr>\n      <th>gender</th>\n      <th></th>\n      <th></th>\n      <th></th>\n    </tr>\n  </thead>\n  <tbody>\n    <tr>\n      <th>Female</th>\n      <td>Dina Rebaine</td>\n      <td>2015-03-20</td>\n      <td>7000000</td>\n    </tr>\n    <tr>\n      <th>Male</th>\n      <td>Marko Mendell</td>\n      <td>2016-11-18</td>\n      <td>7000000</td>\n    </tr>\n  </tbody>\n</table>\n</div>"
     },
     "metadata": {},
     "execution_count": 128
    }
   ],
   "source": [
    "group.min()"
   ]
  },
  {
   "cell_type": "code",
   "execution_count": 129,
   "metadata": {},
   "outputs": [
    {
     "output_type": "execute_result",
     "data": {
      "text/plain": [
       "                   name   hire date  gross salary\n",
       "gender                                           \n",
       "Female    Raven Bierman  2016-12-04      15000000\n",
       "Male    Yahiko Tielmans  2018-07-04      20000000"
      ],
      "text/html": "<div>\n<style scoped>\n    .dataframe tbody tr th:only-of-type {\n        vertical-align: middle;\n    }\n\n    .dataframe tbody tr th {\n        vertical-align: top;\n    }\n\n    .dataframe thead th {\n        text-align: right;\n    }\n</style>\n<table border=\"1\" class=\"dataframe\">\n  <thead>\n    <tr style=\"text-align: right;\">\n      <th></th>\n      <th>name</th>\n      <th>hire date</th>\n      <th>gross salary</th>\n    </tr>\n    <tr>\n      <th>gender</th>\n      <th></th>\n      <th></th>\n      <th></th>\n    </tr>\n  </thead>\n  <tbody>\n    <tr>\n      <th>Female</th>\n      <td>Raven Bierman</td>\n      <td>2016-12-04</td>\n      <td>15000000</td>\n    </tr>\n    <tr>\n      <th>Male</th>\n      <td>Yahiko Tielmans</td>\n      <td>2018-07-04</td>\n      <td>20000000</td>\n    </tr>\n  </tbody>\n</table>\n</div>"
     },
     "metadata": {},
     "execution_count": 129
    }
   ],
   "source": [
    "group.max()"
   ]
  },
  {
   "source": [
    "# Method"
   ],
   "cell_type": "markdown",
   "metadata": {}
  },
  {
   "cell_type": "code",
   "execution_count": 130,
   "metadata": {},
   "outputs": [
    {
     "output_type": "execute_result",
     "data": {
      "text/plain": [
       "                   name  gender   hire date  gross salary\n",
       "100111    Raven Bierman  Female  2016-12-04       7000000\n",
       "100112    Valter Havers    Male  2018-04-13       7000000\n",
       "200210    Marko Mendell    Male  2018-07-04      15000000\n",
       "200211  Takahiro Momota    Male  2016-11-18      12000000\n",
       "200312  Yahiko Tielmans    Male  2017-05-26      20000000\n",
       "300207     Dina Rebaine  Female  2015-03-20      15000000"
      ],
      "text/html": "<div>\n<style scoped>\n    .dataframe tbody tr th:only-of-type {\n        vertical-align: middle;\n    }\n\n    .dataframe tbody tr th {\n        vertical-align: top;\n    }\n\n    .dataframe thead th {\n        text-align: right;\n    }\n</style>\n<table border=\"1\" class=\"dataframe\">\n  <thead>\n    <tr style=\"text-align: right;\">\n      <th></th>\n      <th>name</th>\n      <th>gender</th>\n      <th>hire date</th>\n      <th>gross salary</th>\n    </tr>\n  </thead>\n  <tbody>\n    <tr>\n      <th>100111</th>\n      <td>Raven Bierman</td>\n      <td>Female</td>\n      <td>2016-12-04</td>\n      <td>7000000</td>\n    </tr>\n    <tr>\n      <th>100112</th>\n      <td>Valter Havers</td>\n      <td>Male</td>\n      <td>2018-04-13</td>\n      <td>7000000</td>\n    </tr>\n    <tr>\n      <th>200210</th>\n      <td>Marko Mendell</td>\n      <td>Male</td>\n      <td>2018-07-04</td>\n      <td>15000000</td>\n    </tr>\n    <tr>\n      <th>200211</th>\n      <td>Takahiro Momota</td>\n      <td>Male</td>\n      <td>2016-11-18</td>\n      <td>12000000</td>\n    </tr>\n    <tr>\n      <th>200312</th>\n      <td>Yahiko Tielmans</td>\n      <td>Male</td>\n      <td>2017-05-26</td>\n      <td>20000000</td>\n    </tr>\n    <tr>\n      <th>300207</th>\n      <td>Dina Rebaine</td>\n      <td>Female</td>\n      <td>2015-03-20</td>\n      <td>15000000</td>\n    </tr>\n  </tbody>\n</table>\n</div>"
     },
     "metadata": {},
     "execution_count": 130
    }
   ],
   "source": [
    "df"
   ]
  },
  {
   "cell_type": "code",
   "execution_count": 131,
   "metadata": {},
   "outputs": [
    {
     "output_type": "execute_result",
     "data": {
      "text/plain": [
       "                   name  gender   hire date  gross salary\n",
       "100111    Raven Bierman  Female  2016-12-04       7000000\n",
       "100112    Valter Havers    Male  2018-04-13       7000000\n",
       "200210    Marko Mendell    Male  2018-07-04      15000000\n",
       "200211  Takahiro Momota    Male  2016-11-18      12000000\n",
       "200312  Yahiko Tielmans    Male  2017-05-26      20000000"
      ],
      "text/html": "<div>\n<style scoped>\n    .dataframe tbody tr th:only-of-type {\n        vertical-align: middle;\n    }\n\n    .dataframe tbody tr th {\n        vertical-align: top;\n    }\n\n    .dataframe thead th {\n        text-align: right;\n    }\n</style>\n<table border=\"1\" class=\"dataframe\">\n  <thead>\n    <tr style=\"text-align: right;\">\n      <th></th>\n      <th>name</th>\n      <th>gender</th>\n      <th>hire date</th>\n      <th>gross salary</th>\n    </tr>\n  </thead>\n  <tbody>\n    <tr>\n      <th>100111</th>\n      <td>Raven Bierman</td>\n      <td>Female</td>\n      <td>2016-12-04</td>\n      <td>7000000</td>\n    </tr>\n    <tr>\n      <th>100112</th>\n      <td>Valter Havers</td>\n      <td>Male</td>\n      <td>2018-04-13</td>\n      <td>7000000</td>\n    </tr>\n    <tr>\n      <th>200210</th>\n      <td>Marko Mendell</td>\n      <td>Male</td>\n      <td>2018-07-04</td>\n      <td>15000000</td>\n    </tr>\n    <tr>\n      <th>200211</th>\n      <td>Takahiro Momota</td>\n      <td>Male</td>\n      <td>2016-11-18</td>\n      <td>12000000</td>\n    </tr>\n    <tr>\n      <th>200312</th>\n      <td>Yahiko Tielmans</td>\n      <td>Male</td>\n      <td>2017-05-26</td>\n      <td>20000000</td>\n    </tr>\n  </tbody>\n</table>\n</div>"
     },
     "metadata": {},
     "execution_count": 131
    }
   ],
   "source": [
    "# menampilkan 5 data awal dari dataframe\n",
    "df.head()"
   ]
  },
  {
   "cell_type": "code",
   "execution_count": 132,
   "metadata": {},
   "outputs": [
    {
     "output_type": "execute_result",
     "data": {
      "text/plain": [
       "                   name  gender   hire date  gross salary\n",
       "100112    Valter Havers    Male  2018-04-13       7000000\n",
       "200210    Marko Mendell    Male  2018-07-04      15000000\n",
       "200211  Takahiro Momota    Male  2016-11-18      12000000\n",
       "200312  Yahiko Tielmans    Male  2017-05-26      20000000\n",
       "300207     Dina Rebaine  Female  2015-03-20      15000000"
      ],
      "text/html": "<div>\n<style scoped>\n    .dataframe tbody tr th:only-of-type {\n        vertical-align: middle;\n    }\n\n    .dataframe tbody tr th {\n        vertical-align: top;\n    }\n\n    .dataframe thead th {\n        text-align: right;\n    }\n</style>\n<table border=\"1\" class=\"dataframe\">\n  <thead>\n    <tr style=\"text-align: right;\">\n      <th></th>\n      <th>name</th>\n      <th>gender</th>\n      <th>hire date</th>\n      <th>gross salary</th>\n    </tr>\n  </thead>\n  <tbody>\n    <tr>\n      <th>100112</th>\n      <td>Valter Havers</td>\n      <td>Male</td>\n      <td>2018-04-13</td>\n      <td>7000000</td>\n    </tr>\n    <tr>\n      <th>200210</th>\n      <td>Marko Mendell</td>\n      <td>Male</td>\n      <td>2018-07-04</td>\n      <td>15000000</td>\n    </tr>\n    <tr>\n      <th>200211</th>\n      <td>Takahiro Momota</td>\n      <td>Male</td>\n      <td>2016-11-18</td>\n      <td>12000000</td>\n    </tr>\n    <tr>\n      <th>200312</th>\n      <td>Yahiko Tielmans</td>\n      <td>Male</td>\n      <td>2017-05-26</td>\n      <td>20000000</td>\n    </tr>\n    <tr>\n      <th>300207</th>\n      <td>Dina Rebaine</td>\n      <td>Female</td>\n      <td>2015-03-20</td>\n      <td>15000000</td>\n    </tr>\n  </tbody>\n</table>\n</div>"
     },
     "metadata": {},
     "execution_count": 132
    }
   ],
   "source": [
    "# menampilkan 5 data terakhir dari dataframe\n",
    "df.tail()"
   ]
  },
  {
   "cell_type": "code",
   "execution_count": 133,
   "metadata": {},
   "outputs": [
    {
     "output_type": "stream",
     "name": "stdout",
     "text": [
      "<class 'pandas.core.frame.DataFrame'>\nInt64Index: 6 entries, 100111 to 300207\nData columns (total 4 columns):\n #   Column        Non-Null Count  Dtype \n---  ------        --------------  ----- \n 0   name          6 non-null      object\n 1   gender        6 non-null      object\n 2   hire date     6 non-null      object\n 3   gross salary  6 non-null      int64 \ndtypes: int64(1), object(3)\nmemory usage: 400.0+ bytes\n"
     ]
    }
   ],
   "source": [
    "# informasi df, seperti type data dan apakah ada null value\n",
    "df.info()"
   ]
  },
  {
   "cell_type": "code",
   "execution_count": 134,
   "metadata": {},
   "outputs": [
    {
     "output_type": "execute_result",
     "data": {
      "text/plain": [
       "       gross salary\n",
       "count  6.000000e+00\n",
       "mean   1.266667e+07\n",
       "std    5.085928e+06\n",
       "min    7.000000e+06\n",
       "25%    8.250000e+06\n",
       "50%    1.350000e+07\n",
       "75%    1.500000e+07\n",
       "max    2.000000e+07"
      ],
      "text/html": "<div>\n<style scoped>\n    .dataframe tbody tr th:only-of-type {\n        vertical-align: middle;\n    }\n\n    .dataframe tbody tr th {\n        vertical-align: top;\n    }\n\n    .dataframe thead th {\n        text-align: right;\n    }\n</style>\n<table border=\"1\" class=\"dataframe\">\n  <thead>\n    <tr style=\"text-align: right;\">\n      <th></th>\n      <th>gross salary</th>\n    </tr>\n  </thead>\n  <tbody>\n    <tr>\n      <th>count</th>\n      <td>6.000000e+00</td>\n    </tr>\n    <tr>\n      <th>mean</th>\n      <td>1.266667e+07</td>\n    </tr>\n    <tr>\n      <th>std</th>\n      <td>5.085928e+06</td>\n    </tr>\n    <tr>\n      <th>min</th>\n      <td>7.000000e+06</td>\n    </tr>\n    <tr>\n      <th>25%</th>\n      <td>8.250000e+06</td>\n    </tr>\n    <tr>\n      <th>50%</th>\n      <td>1.350000e+07</td>\n    </tr>\n    <tr>\n      <th>75%</th>\n      <td>1.500000e+07</td>\n    </tr>\n    <tr>\n      <th>max</th>\n      <td>2.000000e+07</td>\n    </tr>\n  </tbody>\n</table>\n</div>"
     },
     "metadata": {},
     "execution_count": 134
    }
   ],
   "source": [
    "df.describe()"
   ]
  },
  {
   "cell_type": "code",
   "execution_count": 135,
   "metadata": {},
   "outputs": [
    {
     "output_type": "execute_result",
     "data": {
      "text/plain": [
       "                 name gender   hire date\n",
       "count               6      6           6\n",
       "unique              6      2           6\n",
       "top     Raven Bierman   Male  2016-11-18\n",
       "freq                1      4           1"
      ],
      "text/html": "<div>\n<style scoped>\n    .dataframe tbody tr th:only-of-type {\n        vertical-align: middle;\n    }\n\n    .dataframe tbody tr th {\n        vertical-align: top;\n    }\n\n    .dataframe thead th {\n        text-align: right;\n    }\n</style>\n<table border=\"1\" class=\"dataframe\">\n  <thead>\n    <tr style=\"text-align: right;\">\n      <th></th>\n      <th>name</th>\n      <th>gender</th>\n      <th>hire date</th>\n    </tr>\n  </thead>\n  <tbody>\n    <tr>\n      <th>count</th>\n      <td>6</td>\n      <td>6</td>\n      <td>6</td>\n    </tr>\n    <tr>\n      <th>unique</th>\n      <td>6</td>\n      <td>2</td>\n      <td>6</td>\n    </tr>\n    <tr>\n      <th>top</th>\n      <td>Raven Bierman</td>\n      <td>Male</td>\n      <td>2016-11-18</td>\n    </tr>\n    <tr>\n      <th>freq</th>\n      <td>1</td>\n      <td>4</td>\n      <td>1</td>\n    </tr>\n  </tbody>\n</table>\n</div>"
     },
     "metadata": {},
     "execution_count": 135
    }
   ],
   "source": [
    "# deskripsi statistika\n",
    "df.describe(include=object)"
   ]
  },
  {
   "cell_type": "code",
   "execution_count": 137,
   "metadata": {},
   "outputs": [
    {
     "output_type": "execute_result",
     "data": {
      "text/plain": [
       "(6, 4)"
      ]
     },
     "metadata": {},
     "execution_count": 137
    }
   ],
   "source": [
    "df.shape"
   ]
  },
  {
   "cell_type": "code",
   "execution_count": 138,
   "metadata": {},
   "outputs": [
    {
     "output_type": "execute_result",
     "data": {
      "text/plain": [
       "Index(['name', 'gender', 'hire date', 'gross salary'], dtype='object')"
      ]
     },
     "metadata": {},
     "execution_count": 138
    }
   ],
   "source": [
    "df.columns"
   ]
  },
  {
   "cell_type": "code",
   "execution_count": 139,
   "metadata": {},
   "outputs": [
    {
     "output_type": "execute_result",
     "data": {
      "text/plain": [
       "Int64Index([100111, 100112, 200210, 200211, 200312, 300207], dtype='int64')"
      ]
     },
     "metadata": {},
     "execution_count": 139
    }
   ],
   "source": [
    "df.index"
   ]
  },
  {
   "cell_type": "code",
   "execution_count": 142,
   "metadata": {},
   "outputs": [
    {
     "output_type": "execute_result",
     "data": {
      "text/plain": [
       "array(['Female', 'Male'], dtype=object)"
      ]
     },
     "metadata": {},
     "execution_count": 142
    }
   ],
   "source": [
    "df['gender'].unique()\n",
    "# ada data unique apa saja dalam suatu series/kolom"
   ]
  },
  {
   "cell_type": "code",
   "execution_count": 143,
   "metadata": {},
   "outputs": [
    {
     "output_type": "execute_result",
     "data": {
      "text/plain": [
       "2"
      ]
     },
     "metadata": {},
     "execution_count": 143
    }
   ],
   "source": [
    "df['gender'].nunique()\n",
    "# jumlah data unique dalam suatu series/kolom"
   ]
  },
  {
   "cell_type": "code",
   "execution_count": 146,
   "metadata": {},
   "outputs": [
    {
     "output_type": "execute_result",
     "data": {
      "text/plain": [
       "                   name  gender   hire date  gross salary\n",
       "100111    Raven Bierman  Female  2016-12-04       7000000\n",
       "100112    Valter Havers    Male  2018-04-13       7000000\n",
       "200211  Takahiro Momota    Male  2016-11-18      12000000\n",
       "200210    Marko Mendell    Male  2018-07-04      15000000\n",
       "300207     Dina Rebaine  Female  2015-03-20      15000000\n",
       "200312  Yahiko Tielmans    Male  2017-05-26      20000000"
      ],
      "text/html": "<div>\n<style scoped>\n    .dataframe tbody tr th:only-of-type {\n        vertical-align: middle;\n    }\n\n    .dataframe tbody tr th {\n        vertical-align: top;\n    }\n\n    .dataframe thead th {\n        text-align: right;\n    }\n</style>\n<table border=\"1\" class=\"dataframe\">\n  <thead>\n    <tr style=\"text-align: right;\">\n      <th></th>\n      <th>name</th>\n      <th>gender</th>\n      <th>hire date</th>\n      <th>gross salary</th>\n    </tr>\n  </thead>\n  <tbody>\n    <tr>\n      <th>100111</th>\n      <td>Raven Bierman</td>\n      <td>Female</td>\n      <td>2016-12-04</td>\n      <td>7000000</td>\n    </tr>\n    <tr>\n      <th>100112</th>\n      <td>Valter Havers</td>\n      <td>Male</td>\n      <td>2018-04-13</td>\n      <td>7000000</td>\n    </tr>\n    <tr>\n      <th>200211</th>\n      <td>Takahiro Momota</td>\n      <td>Male</td>\n      <td>2016-11-18</td>\n      <td>12000000</td>\n    </tr>\n    <tr>\n      <th>200210</th>\n      <td>Marko Mendell</td>\n      <td>Male</td>\n      <td>2018-07-04</td>\n      <td>15000000</td>\n    </tr>\n    <tr>\n      <th>300207</th>\n      <td>Dina Rebaine</td>\n      <td>Female</td>\n      <td>2015-03-20</td>\n      <td>15000000</td>\n    </tr>\n    <tr>\n      <th>200312</th>\n      <td>Yahiko Tielmans</td>\n      <td>Male</td>\n      <td>2017-05-26</td>\n      <td>20000000</td>\n    </tr>\n  </tbody>\n</table>\n</div>"
     },
     "metadata": {},
     "execution_count": 146
    }
   ],
   "source": [
    "df.sort_values('gross salary')\n",
    "# mengurutkan data dari kecil ke besar / ascending"
   ]
  },
  {
   "cell_type": "code",
   "execution_count": 147,
   "metadata": {},
   "outputs": [
    {
     "output_type": "execute_result",
     "data": {
      "text/plain": [
       "                   name  gender   hire date  gross salary\n",
       "200312  Yahiko Tielmans    Male  2017-05-26      20000000\n",
       "200210    Marko Mendell    Male  2018-07-04      15000000\n",
       "300207     Dina Rebaine  Female  2015-03-20      15000000\n",
       "200211  Takahiro Momota    Male  2016-11-18      12000000\n",
       "100111    Raven Bierman  Female  2016-12-04       7000000\n",
       "100112    Valter Havers    Male  2018-04-13       7000000"
      ],
      "text/html": "<div>\n<style scoped>\n    .dataframe tbody tr th:only-of-type {\n        vertical-align: middle;\n    }\n\n    .dataframe tbody tr th {\n        vertical-align: top;\n    }\n\n    .dataframe thead th {\n        text-align: right;\n    }\n</style>\n<table border=\"1\" class=\"dataframe\">\n  <thead>\n    <tr style=\"text-align: right;\">\n      <th></th>\n      <th>name</th>\n      <th>gender</th>\n      <th>hire date</th>\n      <th>gross salary</th>\n    </tr>\n  </thead>\n  <tbody>\n    <tr>\n      <th>200312</th>\n      <td>Yahiko Tielmans</td>\n      <td>Male</td>\n      <td>2017-05-26</td>\n      <td>20000000</td>\n    </tr>\n    <tr>\n      <th>200210</th>\n      <td>Marko Mendell</td>\n      <td>Male</td>\n      <td>2018-07-04</td>\n      <td>15000000</td>\n    </tr>\n    <tr>\n      <th>300207</th>\n      <td>Dina Rebaine</td>\n      <td>Female</td>\n      <td>2015-03-20</td>\n      <td>15000000</td>\n    </tr>\n    <tr>\n      <th>200211</th>\n      <td>Takahiro Momota</td>\n      <td>Male</td>\n      <td>2016-11-18</td>\n      <td>12000000</td>\n    </tr>\n    <tr>\n      <th>100111</th>\n      <td>Raven Bierman</td>\n      <td>Female</td>\n      <td>2016-12-04</td>\n      <td>7000000</td>\n    </tr>\n    <tr>\n      <th>100112</th>\n      <td>Valter Havers</td>\n      <td>Male</td>\n      <td>2018-04-13</td>\n      <td>7000000</td>\n    </tr>\n  </tbody>\n</table>\n</div>"
     },
     "metadata": {},
     "execution_count": 147
    }
   ],
   "source": [
    "df.sort_values('gross salary', ascending=False)\n",
    "# mengurutkan data dari besar ke kecil / descending"
   ]
  }
 ]
}