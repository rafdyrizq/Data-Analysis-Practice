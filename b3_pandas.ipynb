{
 "metadata": {
  "language_info": {
   "codemirror_mode": {
    "name": "ipython",
    "version": 3
   },
   "file_extension": ".py",
   "mimetype": "text/x-python",
   "name": "python",
   "nbconvert_exporter": "python",
   "pygments_lexer": "ipython3",
   "version": "3.7.6-final"
  },
  "orig_nbformat": 2,
  "kernelspec": {
   "name": "python3",
   "display_name": "Python 3"
  }
 },
 "nbformat": 4,
 "nbformat_minor": 2,
 "cells": [
  {
   "cell_type": "code",
   "execution_count": 25,
   "metadata": {},
   "outputs": [],
   "source": [
    "import pandas as pd\n",
    "import numpy as np"
   ]
  },
  {
   "cell_type": "code",
   "execution_count": 26,
   "metadata": {},
   "outputs": [
    {
     "output_type": "execute_result",
     "data": {
      "text/plain": [
       "   Nama  Umur  Gaji      Kota\n",
       "0  Andi    24    12   Jakarta\n",
       "1  Budi    30    15  Surabaya\n",
       "2  Caca    22    10   Bandung\n",
       "3  Dedi    27    14  Salatiga"
      ],
      "text/html": "<div>\n<style scoped>\n    .dataframe tbody tr th:only-of-type {\n        vertical-align: middle;\n    }\n\n    .dataframe tbody tr th {\n        vertical-align: top;\n    }\n\n    .dataframe thead th {\n        text-align: right;\n    }\n</style>\n<table border=\"1\" class=\"dataframe\">\n  <thead>\n    <tr style=\"text-align: right;\">\n      <th></th>\n      <th>Nama</th>\n      <th>Umur</th>\n      <th>Gaji</th>\n      <th>Kota</th>\n    </tr>\n  </thead>\n  <tbody>\n    <tr>\n      <th>0</th>\n      <td>Andi</td>\n      <td>24</td>\n      <td>12</td>\n      <td>Jakarta</td>\n    </tr>\n    <tr>\n      <th>1</th>\n      <td>Budi</td>\n      <td>30</td>\n      <td>15</td>\n      <td>Surabaya</td>\n    </tr>\n    <tr>\n      <th>2</th>\n      <td>Caca</td>\n      <td>22</td>\n      <td>10</td>\n      <td>Bandung</td>\n    </tr>\n    <tr>\n      <th>3</th>\n      <td>Dedi</td>\n      <td>27</td>\n      <td>14</td>\n      <td>Salatiga</td>\n    </tr>\n  </tbody>\n</table>\n</div>"
     },
     "metadata": {},
     "execution_count": 26
    }
   ],
   "source": [
    "df=pd.DataFrame({'Nama':['Andi','Budi','Caca','Dedi'],\n",
    "    'Umur':[24,30,22,27],\n",
    "    'Gaji':[12,15,10,14],\n",
    "    'Kota':['Jakarta','Surabaya','Bandung','Salatiga']})\n",
    "\n",
    "df\n"
   ]
  },
  {
   "source": [
    "## Pandas Introduction\n",
    "\n",
    "**1. Apa itu series dan dataframe pada Pandas**  \n",
    "\n",
    "**2. Bagaimana cara melakukan indexing dan slicing pada Pandas**  \n",
    "  \n",
    "**3. Bagaimana cara memakai dan apa kegunaan loc dan iloc pada pandas**  "
   ],
   "cell_type": "markdown",
   "metadata": {}
  },
  {
   "source": [
    "# SERIES\n",
    "\n",
    "### Series adalah suatu objek satu dimensi yang dapat menyimpan salah satu dari berbagai jenis tipe data seperti integer, string, dan lain sebagainya. \n",
    "### Tipe data dari objek series ini harus seragam. \n",
    "### Memiliki nama/label pada indexnya"
   ],
   "cell_type": "markdown",
   "metadata": {}
  },
  {
   "cell_type": "code",
   "execution_count": 27,
   "metadata": {},
   "outputs": [
    {
     "output_type": "execute_result",
     "data": {
      "text/plain": [
       "Nama                  [Andi, Budi, Caca, Dedi]\n",
       "Umur                          [24, 30, 22, 27]\n",
       "Gaji                          [12, 15, 10, 14]\n",
       "Kota    [Jakarta, Surabaya, Bandung, Salatiga]\n",
       "dtype: object"
      ]
     },
     "metadata": {},
     "execution_count": 27
    }
   ],
   "source": [
    "series = pd.Series({'Nama':['Andi','Budi','Caca','Dedi'],\n",
    "    'Umur':[24,30,22,27],\n",
    "    'Gaji':[12,15,10,14],\n",
    "    'Kota':['Jakarta','Surabaya','Bandung','Salatiga']})\n",
    "\n",
    "series\n"
   ]
  },
  {
   "source": [
    "## Create a Series"
   ],
   "cell_type": "markdown",
   "metadata": {}
  },
  {
   "cell_type": "code",
   "execution_count": 45,
   "metadata": {},
   "outputs": [],
   "source": [
    "myList = [10,20,30]\n",
    "myArr = np.array(myList)\n",
    "label = 'a b c'.split()\n",
    "myDict = {'a':10, 'b':20, 'c':30}"
   ]
  },
  {
   "cell_type": "code",
   "execution_count": 46,
   "metadata": {},
   "outputs": [
    {
     "output_type": "execute_result",
     "data": {
      "text/plain": [
       "['a', 'b', 'c']"
      ]
     },
     "metadata": {},
     "execution_count": 46
    }
   ],
   "source": [
    "label # sebagai nama dari index row"
   ]
  },
  {
   "cell_type": "code",
   "execution_count": 47,
   "metadata": {},
   "outputs": [
    {
     "output_type": "execute_result",
     "data": {
      "text/plain": [
       "a    10\n",
       "b    20\n",
       "c    30\n",
       "Name: Dari List, dtype: int64"
      ]
     },
     "metadata": {},
     "execution_count": 47
    }
   ],
   "source": [
    "# membuat Series dari list\n",
    "pd.Series(myList, index=label, name='Dari List')"
   ]
  },
  {
   "cell_type": "code",
   "execution_count": 48,
   "metadata": {},
   "outputs": [
    {
     "output_type": "execute_result",
     "data": {
      "text/plain": [
       "a    10\n",
       "b    20\n",
       "c    30\n",
       "Name: Dari Array, dtype: int32"
      ]
     },
     "metadata": {},
     "execution_count": 48
    }
   ],
   "source": [
    "# membuat Series dari array\n",
    "pd.Series(myArr, index=label, name='Dari Array')"
   ]
  },
  {
   "cell_type": "code",
   "execution_count": 49,
   "metadata": {},
   "outputs": [
    {
     "output_type": "execute_result",
     "data": {
      "text/plain": [
       "a    10\n",
       "b    20\n",
       "c    30\n",
       "Name: Dari Dict, dtype: int64"
      ]
     },
     "metadata": {},
     "execution_count": 49
    }
   ],
   "source": [
    "# membuat Series dari dictionary\n",
    "pd.Series(myDict, index=label, name='Dari Dict')"
   ]
  },
  {
   "cell_type": "code",
   "execution_count": 51,
   "metadata": {},
   "outputs": [
    {
     "output_type": "stream",
     "name": "stdout",
     "text": [
      "a    10\nb    20\nc    30\nName: Dari List, dtype: int64\nb    10\nc    20\nd    30\ndtype: int32\n"
     ]
    }
   ],
   "source": [
    "seri1 = pd.Series(myList, index=label, name='Dari List')\n",
    "seri2 = pd.Series(myArr, index='b c d'.split())\n",
    "print(seri1)\n",
    "print(seri2)"
   ]
  },
  {
   "cell_type": "code",
   "execution_count": 52,
   "metadata": {},
   "outputs": [
    {
     "output_type": "execute_result",
     "data": {
      "text/plain": [
       "a     NaN\n",
       "b    30.0\n",
       "c    50.0\n",
       "d     NaN\n",
       "dtype: float64"
      ]
     },
     "metadata": {},
     "execution_count": 52
    }
   ],
   "source": [
    "seri1 + seri2\n",
    "# operasi aritmethic pada series akan terjadi hanya pada index row/label yg sama"
   ]
  },
  {
   "source": [
    "# DATAFRAME\n",
    "\n",
    "### DataFrame adalah suatu objek 2 dimensi tempat menyimpan data dengan lebih terstruktur. \n",
    "### Dataframe memiliki 2 index, yaitu index baris (label) dan index columns (feature). \n",
    "### Dalam satu column dataframe harus memiliki tipe data yang sama, tapi antar columnnya dataframe bisa memiliki jenis data yang berbeda. \n",
    "### Tiap kolom berisi satu jenis variable, dan tiap baris berisi satu observasi"
   ],
   "cell_type": "markdown",
   "metadata": {}
  },
  {
   "cell_type": "code",
   "execution_count": 30,
   "metadata": {},
   "outputs": [
    {
     "output_type": "execute_result",
     "data": {
      "text/plain": [
       "   Nama  Umur  Gaji      Kota\n",
       "0  Andi    24    12   Jakarta\n",
       "1  Budi    30    15  Surabaya\n",
       "2  Caca    22    10   Bandung\n",
       "3  Dedi    27    14  Salatiga"
      ],
      "text/html": "<div>\n<style scoped>\n    .dataframe tbody tr th:only-of-type {\n        vertical-align: middle;\n    }\n\n    .dataframe tbody tr th {\n        vertical-align: top;\n    }\n\n    .dataframe thead th {\n        text-align: right;\n    }\n</style>\n<table border=\"1\" class=\"dataframe\">\n  <thead>\n    <tr style=\"text-align: right;\">\n      <th></th>\n      <th>Nama</th>\n      <th>Umur</th>\n      <th>Gaji</th>\n      <th>Kota</th>\n    </tr>\n  </thead>\n  <tbody>\n    <tr>\n      <th>0</th>\n      <td>Andi</td>\n      <td>24</td>\n      <td>12</td>\n      <td>Jakarta</td>\n    </tr>\n    <tr>\n      <th>1</th>\n      <td>Budi</td>\n      <td>30</td>\n      <td>15</td>\n      <td>Surabaya</td>\n    </tr>\n    <tr>\n      <th>2</th>\n      <td>Caca</td>\n      <td>22</td>\n      <td>10</td>\n      <td>Bandung</td>\n    </tr>\n    <tr>\n      <th>3</th>\n      <td>Dedi</td>\n      <td>27</td>\n      <td>14</td>\n      <td>Salatiga</td>\n    </tr>\n  </tbody>\n</table>\n</div>"
     },
     "metadata": {},
     "execution_count": 30
    }
   ],
   "source": [
    "df = pd.DataFrame({'Nama':['Andi','Budi','Caca','Dedi'],\n",
    "    'Umur':[24,30,22,27],\n",
    "    'Gaji':[12,15,10,14],\n",
    "    'Kota':['Jakarta','Surabaya','Bandung','Salatiga']})\n",
    "\n",
    "df\n"
   ]
  },
  {
   "cell_type": "code",
   "execution_count": 31,
   "metadata": {},
   "outputs": [
    {
     "output_type": "execute_result",
     "data": {
      "text/plain": [
       "0    Andi\n",
       "1    Budi\n",
       "2    Caca\n",
       "3    Dedi\n",
       "Name: Nama, dtype: object"
      ]
     },
     "metadata": {},
     "execution_count": 31
    }
   ],
   "source": [
    "pd.Series(df.Nama)"
   ]
  },
  {
   "source": [
    "## Create a DataFrame"
   ],
   "cell_type": "markdown",
   "metadata": {}
  },
  {
   "cell_type": "code",
   "execution_count": 55,
   "metadata": {},
   "outputs": [],
   "source": [
    "mat = np.random.randint(1,16,9).reshape(3,3)\n",
    "list1 = [1,2,3]\n",
    "list2 = [4,5,6]\n",
    "list3 = [7,8,9]"
   ]
  },
  {
   "cell_type": "code",
   "execution_count": 56,
   "metadata": {},
   "outputs": [
    {
     "output_type": "execute_result",
     "data": {
      "text/plain": [
       "array([[ 1, 11,  4],\n",
       "       [ 2, 11,  8],\n",
       "       [14,  6,  5]])"
      ]
     },
     "metadata": {},
     "execution_count": 56
    }
   ],
   "source": [
    "mat"
   ]
  },
  {
   "cell_type": "code",
   "execution_count": 58,
   "metadata": {},
   "outputs": [
    {
     "output_type": "execute_result",
     "data": {
      "text/plain": [
       "    a   b  c\n",
       "x   1  11  4\n",
       "y   2  11  8\n",
       "z  14   6  5"
      ],
      "text/html": "<div>\n<style scoped>\n    .dataframe tbody tr th:only-of-type {\n        vertical-align: middle;\n    }\n\n    .dataframe tbody tr th {\n        vertical-align: top;\n    }\n\n    .dataframe thead th {\n        text-align: right;\n    }\n</style>\n<table border=\"1\" class=\"dataframe\">\n  <thead>\n    <tr style=\"text-align: right;\">\n      <th></th>\n      <th>a</th>\n      <th>b</th>\n      <th>c</th>\n    </tr>\n  </thead>\n  <tbody>\n    <tr>\n      <th>x</th>\n      <td>1</td>\n      <td>11</td>\n      <td>4</td>\n    </tr>\n    <tr>\n      <th>y</th>\n      <td>2</td>\n      <td>11</td>\n      <td>8</td>\n    </tr>\n    <tr>\n      <th>z</th>\n      <td>14</td>\n      <td>6</td>\n      <td>5</td>\n    </tr>\n  </tbody>\n</table>\n</div>"
     },
     "metadata": {},
     "execution_count": 58
    }
   ],
   "source": [
    "#  dari matrix\n",
    "pd.DataFrame(mat, columns='a b c'.split(), index='x y z'.split())"
   ]
  },
  {
   "cell_type": "code",
   "execution_count": 59,
   "metadata": {},
   "outputs": [
    {
     "output_type": "execute_result",
     "data": {
      "text/plain": [
       "        kolom1  kolom2  kolom3\n",
       "index1       1       2       3\n",
       "index2       4       5       6\n",
       "index3       7       8       9"
      ],
      "text/html": "<div>\n<style scoped>\n    .dataframe tbody tr th:only-of-type {\n        vertical-align: middle;\n    }\n\n    .dataframe tbody tr th {\n        vertical-align: top;\n    }\n\n    .dataframe thead th {\n        text-align: right;\n    }\n</style>\n<table border=\"1\" class=\"dataframe\">\n  <thead>\n    <tr style=\"text-align: right;\">\n      <th></th>\n      <th>kolom1</th>\n      <th>kolom2</th>\n      <th>kolom3</th>\n    </tr>\n  </thead>\n  <tbody>\n    <tr>\n      <th>index1</th>\n      <td>1</td>\n      <td>2</td>\n      <td>3</td>\n    </tr>\n    <tr>\n      <th>index2</th>\n      <td>4</td>\n      <td>5</td>\n      <td>6</td>\n    </tr>\n    <tr>\n      <th>index3</th>\n      <td>7</td>\n      <td>8</td>\n      <td>9</td>\n    </tr>\n  </tbody>\n</table>\n</div>"
     },
     "metadata": {},
     "execution_count": 59
    }
   ],
   "source": [
    "# dari kumpulan list\n",
    "pd.DataFrame([list1,list2,list3], columns='kolom1 kolom2 kolom3'.split(), index='index1 index2 index3'.split())"
   ]
  },
  {
   "cell_type": "code",
   "execution_count": null,
   "metadata": {},
   "outputs": [],
   "source": []
  },
  {
   "cell_type": "code",
   "execution_count": null,
   "metadata": {},
   "outputs": [],
   "source": []
  },
  {
   "source": [
    "# Slicing & Indexing"
   ],
   "cell_type": "markdown",
   "metadata": {}
  },
  {
   "cell_type": "code",
   "execution_count": 32,
   "metadata": {},
   "outputs": [
    {
     "output_type": "execute_result",
     "data": {
      "text/plain": [
       "0     Jakarta\n",
       "1    Surabaya\n",
       "2     Bandung\n",
       "3    Salatiga\n",
       "Name: Kota, dtype: object"
      ]
     },
     "metadata": {},
     "execution_count": 32
    }
   ],
   "source": [
    "# indexing dgn dataframe.column atau index atribut\n",
    "df.Kota"
   ]
  },
  {
   "cell_type": "code",
   "execution_count": 33,
   "metadata": {},
   "outputs": [
    {
     "output_type": "execute_result",
     "data": {
      "text/plain": [
       "0     Jakarta\n",
       "1    Surabaya\n",
       "2     Bandung\n",
       "3    Salatiga\n",
       "Name: Kota, dtype: object"
      ]
     },
     "metadata": {},
     "execution_count": 33
    }
   ],
   "source": [
    "# indexing dgn dataframe['Column'] atau index operator\n",
    "df['Kota']"
   ]
  },
  {
   "cell_type": "code",
   "execution_count": 34,
   "metadata": {},
   "outputs": [
    {
     "output_type": "execute_result",
     "data": {
      "text/plain": [
       "   Nama  Umur  Gaji      Kota\n",
       "0  Andi    24    12   Jakarta\n",
       "1  Budi    30    15  Surabaya"
      ],
      "text/html": "<div>\n<style scoped>\n    .dataframe tbody tr th:only-of-type {\n        vertical-align: middle;\n    }\n\n    .dataframe tbody tr th {\n        vertical-align: top;\n    }\n\n    .dataframe thead th {\n        text-align: right;\n    }\n</style>\n<table border=\"1\" class=\"dataframe\">\n  <thead>\n    <tr style=\"text-align: right;\">\n      <th></th>\n      <th>Nama</th>\n      <th>Umur</th>\n      <th>Gaji</th>\n      <th>Kota</th>\n    </tr>\n  </thead>\n  <tbody>\n    <tr>\n      <th>0</th>\n      <td>Andi</td>\n      <td>24</td>\n      <td>12</td>\n      <td>Jakarta</td>\n    </tr>\n    <tr>\n      <th>1</th>\n      <td>Budi</td>\n      <td>30</td>\n      <td>15</td>\n      <td>Surabaya</td>\n    </tr>\n  </tbody>\n</table>\n</div>"
     },
     "metadata": {},
     "execution_count": 34
    }
   ],
   "source": [
    "# slicing row\n",
    "df[0:2]"
   ]
  },
  {
   "cell_type": "code",
   "execution_count": 35,
   "metadata": {},
   "outputs": [
    {
     "output_type": "execute_result",
     "data": {
      "text/plain": [
       "   Nama  Umur  Gaji      Kota\n",
       "3  Dedi    27    14  Salatiga\n",
       "2  Caca    22    10   Bandung\n",
       "1  Budi    30    15  Surabaya\n",
       "0  Andi    24    12   Jakarta"
      ],
      "text/html": "<div>\n<style scoped>\n    .dataframe tbody tr th:only-of-type {\n        vertical-align: middle;\n    }\n\n    .dataframe tbody tr th {\n        vertical-align: top;\n    }\n\n    .dataframe thead th {\n        text-align: right;\n    }\n</style>\n<table border=\"1\" class=\"dataframe\">\n  <thead>\n    <tr style=\"text-align: right;\">\n      <th></th>\n      <th>Nama</th>\n      <th>Umur</th>\n      <th>Gaji</th>\n      <th>Kota</th>\n    </tr>\n  </thead>\n  <tbody>\n    <tr>\n      <th>3</th>\n      <td>Dedi</td>\n      <td>27</td>\n      <td>14</td>\n      <td>Salatiga</td>\n    </tr>\n    <tr>\n      <th>2</th>\n      <td>Caca</td>\n      <td>22</td>\n      <td>10</td>\n      <td>Bandung</td>\n    </tr>\n    <tr>\n      <th>1</th>\n      <td>Budi</td>\n      <td>30</td>\n      <td>15</td>\n      <td>Surabaya</td>\n    </tr>\n    <tr>\n      <th>0</th>\n      <td>Andi</td>\n      <td>24</td>\n      <td>12</td>\n      <td>Jakarta</td>\n    </tr>\n  </tbody>\n</table>\n</div>"
     },
     "metadata": {},
     "execution_count": 35
    }
   ],
   "source": [
    "# slicing untuk membalik urutan row\n",
    "df[::-1]"
   ]
  },
  {
   "source": [
    "# Slicing & Indexing dgn loc"
   ],
   "cell_type": "markdown",
   "metadata": {}
  },
  {
   "cell_type": "code",
   "execution_count": 36,
   "metadata": {},
   "outputs": [
    {
     "output_type": "execute_result",
     "data": {
      "text/plain": [
       "0    24\n",
       "1    30\n",
       "2    22\n",
       "3    27\n",
       "Name: Umur, dtype: int64"
      ]
     },
     "metadata": {},
     "execution_count": 36
    }
   ],
   "source": [
    "df.loc[0:3, 'Umur'] \n",
    "# slicing dari baris 0 sampai 3\n",
    "# pada kolom 'Umur'"
   ]
  },
  {
   "cell_type": "code",
   "execution_count": 37,
   "metadata": {},
   "outputs": [
    {
     "output_type": "execute_result",
     "data": {
      "text/plain": [
       "   Nama  Gaji\n",
       "0  Andi    12\n",
       "1  Budi    15\n",
       "2  Caca    10\n",
       "3  Dedi    14"
      ],
      "text/html": "<div>\n<style scoped>\n    .dataframe tbody tr th:only-of-type {\n        vertical-align: middle;\n    }\n\n    .dataframe tbody tr th {\n        vertical-align: top;\n    }\n\n    .dataframe thead th {\n        text-align: right;\n    }\n</style>\n<table border=\"1\" class=\"dataframe\">\n  <thead>\n    <tr style=\"text-align: right;\">\n      <th></th>\n      <th>Nama</th>\n      <th>Gaji</th>\n    </tr>\n  </thead>\n  <tbody>\n    <tr>\n      <th>0</th>\n      <td>Andi</td>\n      <td>12</td>\n    </tr>\n    <tr>\n      <th>1</th>\n      <td>Budi</td>\n      <td>15</td>\n    </tr>\n    <tr>\n      <th>2</th>\n      <td>Caca</td>\n      <td>10</td>\n    </tr>\n    <tr>\n      <th>3</th>\n      <td>Dedi</td>\n      <td>14</td>\n    </tr>\n  </tbody>\n</table>\n</div>"
     },
     "metadata": {},
     "execution_count": 37
    }
   ],
   "source": [
    "df.loc[0:3, ['Nama','Gaji']] \n",
    "# indexing kolom >1 menggunakan []\n"
   ]
  },
  {
   "source": [
    "# Slicing & Indexing dgn iloc"
   ],
   "cell_type": "markdown",
   "metadata": {}
  },
  {
   "cell_type": "code",
   "execution_count": 38,
   "metadata": {},
   "outputs": [
    {
     "output_type": "execute_result",
     "data": {
      "text/plain": [
       "0    24\n",
       "1    30\n",
       "2    22\n",
       "Name: Umur, dtype: int64"
      ]
     },
     "metadata": {},
     "execution_count": 38
    }
   ],
   "source": [
    "df.iloc[0:3, 1]\n",
    "# slicing dari baris 0 sampai sebelum 3\n",
    "# pada kolom index ke 1 (yaitu 'Umur')"
   ]
  },
  {
   "cell_type": "code",
   "execution_count": 39,
   "metadata": {},
   "outputs": [
    {
     "output_type": "execute_result",
     "data": {
      "text/plain": [
       "   Umur      Kota\n",
       "0    24   Jakarta\n",
       "1    30  Surabaya\n",
       "2    22   Bandung"
      ],
      "text/html": "<div>\n<style scoped>\n    .dataframe tbody tr th:only-of-type {\n        vertical-align: middle;\n    }\n\n    .dataframe tbody tr th {\n        vertical-align: top;\n    }\n\n    .dataframe thead th {\n        text-align: right;\n    }\n</style>\n<table border=\"1\" class=\"dataframe\">\n  <thead>\n    <tr style=\"text-align: right;\">\n      <th></th>\n      <th>Umur</th>\n      <th>Kota</th>\n    </tr>\n  </thead>\n  <tbody>\n    <tr>\n      <th>0</th>\n      <td>24</td>\n      <td>Jakarta</td>\n    </tr>\n    <tr>\n      <th>1</th>\n      <td>30</td>\n      <td>Surabaya</td>\n    </tr>\n    <tr>\n      <th>2</th>\n      <td>22</td>\n      <td>Bandung</td>\n    </tr>\n  </tbody>\n</table>\n</div>"
     },
     "metadata": {},
     "execution_count": 39
    }
   ],
   "source": [
    "df.iloc[0:3, [1,3]]\n",
    "# 0:3 adalah baris 0 sampai 2\n",
    "# [1,3] adalah column index 1 dan 3 (yaitu Umur dan Kota)\n",
    "# indexing kolom >1 menggunakan []"
   ]
  },
  {
   "cell_type": "code",
   "execution_count": null,
   "metadata": {},
   "outputs": [],
   "source": []
  }
 ]
}