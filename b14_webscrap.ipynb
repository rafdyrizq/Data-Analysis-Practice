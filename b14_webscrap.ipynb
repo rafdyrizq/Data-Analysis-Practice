{
 "metadata": {
  "language_info": {
   "codemirror_mode": {
    "name": "ipython",
    "version": 3
   },
   "file_extension": ".py",
   "mimetype": "text/x-python",
   "name": "python",
   "nbconvert_exporter": "python",
   "pygments_lexer": "ipython3",
   "version": "3.7.6-final"
  },
  "orig_nbformat": 2,
  "kernelspec": {
   "name": "python3",
   "display_name": "Python 3"
  }
 },
 "nbformat": 4,
 "nbformat_minor": 2,
 "cells": [
  {
   "source": [
    "# WEB SCRAPING\n",
    "\n",
    "- Web scraping adalah proses ekstrasi data dari sebuah website.\n",
    "- Web scraping dilakukan dengan menggunakan web scraper, bot, web spider, atau web crawler. \n",
    "- Web scraper sendiri adalah program yang masuk ke halaman website, download kontennya, mengekstrak data dari konten, dan menyimpan data ke satu file atau database."
   ],
   "cell_type": "markdown",
   "metadata": {}
  },
  {
   "cell_type": "code",
   "execution_count": 1,
   "metadata": {},
   "outputs": [],
   "source": [
    "from bs4 import BeautifulSoup # untuk baca html\n",
    "import requests # untuk ambil data dari web\n",
    "import pandas as pd\n",
    "from IPython.display import display "
   ]
  },
  {
   "cell_type": "code",
   "execution_count": null,
   "metadata": {},
   "outputs": [],
   "source": []
  },
  {
   "source": [
    "# Scraping: World Population Dataset\n",
    "\n",
    "from: https://www.worldometers.info/world-population/population-by-country/"
   ],
   "cell_type": "markdown",
   "metadata": {}
  },
  {
   "source": [
    "## Akses data ke web yg ingin diambil datanya"
   ],
   "cell_type": "markdown",
   "metadata": {}
  },
  {
   "cell_type": "code",
   "execution_count": 2,
   "metadata": {},
   "outputs": [
    {
     "output_type": "execute_result",
     "data": {
      "text/plain": [
       "<Response [200]>"
      ]
     },
     "metadata": {},
     "execution_count": 2
    }
   ],
   "source": [
    "# mengambil data dari web\n",
    "\n",
    "world_web = requests.get('https://www.worldometers.info/world-population/population-by-country/')\n",
    "world_web"
   ]
  },
  {
   "cell_type": "code",
   "execution_count": 3,
   "metadata": {},
   "outputs": [],
   "source": [
    "# parsing data\n",
    "\n",
    "data_web = BeautifulSoup(world_web.content, 'html.parser')\n",
    "# data_web"
   ]
  },
  {
   "cell_type": "code",
   "execution_count": null,
   "metadata": {},
   "outputs": [],
   "source": []
  },
  {
   "source": [
    "## Mengambil data pada tag tertentu"
   ],
   "cell_type": "markdown",
   "metadata": {}
  },
  {
   "cell_type": "code",
   "execution_count": 4,
   "metadata": {},
   "outputs": [
    {
     "output_type": "execute_result",
     "data": {
      "text/plain": [
       "<title>Population by Country (2020) - Worldometer</title>"
      ]
     },
     "metadata": {},
     "execution_count": 4
    }
   ],
   "source": [
    "# mencari data judul (yg di browser tab) di web disertai tag html\n",
    "data_web.title"
   ]
  },
  {
   "cell_type": "code",
   "execution_count": 5,
   "metadata": {},
   "outputs": [
    {
     "output_type": "execute_result",
     "data": {
      "text/plain": [
       "<h1>Countries in the world by population (2020)</h1>"
      ]
     },
     "metadata": {},
     "execution_count": 5
    }
   ],
   "source": [
    "# mencari data judul di h1 disertai tag html\n",
    "data_web.h1"
   ]
  },
  {
   "cell_type": "code",
   "execution_count": 6,
   "metadata": {},
   "outputs": [
    {
     "output_type": "execute_result",
     "data": {
      "text/plain": [
       "'Population by Country (2020) - Worldometer'"
      ]
     },
     "metadata": {},
     "execution_count": 6
    }
   ],
   "source": [
    "# mencari data judul di web dan outputnya berupa string\n",
    "data_web.title.string"
   ]
  },
  {
   "cell_type": "code",
   "execution_count": 7,
   "metadata": {},
   "outputs": [
    {
     "output_type": "execute_result",
     "data": {
      "text/plain": [
       "'Population by Country (2020) - Worldometer'"
      ]
     },
     "metadata": {},
     "execution_count": 7
    }
   ],
   "source": [
    "data_web.title.text"
   ]
  },
  {
   "cell_type": "code",
   "execution_count": null,
   "metadata": {},
   "outputs": [],
   "source": []
  },
  {
   "cell_type": "code",
   "execution_count": 8,
   "metadata": {},
   "outputs": [],
   "source": [
    "# tag tr adaah perintah untuk membuat satu baris tabel di html\n",
    "# tag ini tidak terlalu akurat karena di dalamnya masih ada tag yg lebih dekat dengan data yg kita cari\n",
    "\n",
    "tr = data_web.find_all('tr')"
   ]
  },
  {
   "cell_type": "code",
   "execution_count": 9,
   "metadata": {},
   "outputs": [
    {
     "output_type": "execute_result",
     "data": {
      "text/plain": [
       "'This list includes both countries and dependent territories. Data based on the latest United Nations Population Division estimates. Click on the name of the country or dependency for current estimates (live population clock), historical data, and projected figures.  See also: World Population  '"
      ]
     },
     "metadata": {},
     "execution_count": 9
    }
   ],
   "source": [
    "# <p> adalah perintah untuk membuat paragraf html\n",
    "\n",
    "p = data_web.find_all('p')\n",
    "p[0].text"
   ]
  },
  {
   "cell_type": "code",
   "execution_count": 10,
   "metadata": {},
   "outputs": [
    {
     "output_type": "execute_result",
     "data": {
      "text/plain": [
       "'Migrants (net)'"
      ]
     },
     "metadata": {},
     "execution_count": 10
    }
   ],
   "source": [
    "# <th> adalah perintah untuk membuat baris pertama (header table) di html\n",
    "\n",
    "th = data_web.find_all('th')\n",
    "th[7].text"
   ]
  },
  {
   "cell_type": "code",
   "execution_count": 11,
   "metadata": {},
   "outputs": [
    {
     "output_type": "execute_result",
     "data": {
      "text/plain": [
       "'India'"
      ]
     },
     "metadata": {},
     "execution_count": 11
    }
   ],
   "source": [
    "# <td> adalah perintah untuk membuat baris kedua dst (data table) di html\n",
    "\n",
    "td = data_web.find_all('td')\n",
    "td[13].text"
   ]
  },
  {
   "cell_type": "code",
   "execution_count": null,
   "metadata": {},
   "outputs": [],
   "source": []
  },
  {
   "source": [
    "## Mengolah Data"
   ],
   "cell_type": "markdown",
   "metadata": {}
  },
  {
   "cell_type": "code",
   "execution_count": 12,
   "metadata": {},
   "outputs": [],
   "source": [
    "# Menyimpan header table ke variable th\n",
    "# Menyimpan datatabel ke varible td \n",
    "th = data_web.find_all('th')\n",
    "td = data_web.find_all('td')\n",
    "\n",
    "# ambil textnya saja\n",
    "header = [i.text for i in th] \n",
    "isi_tabel = [i.text for i in td] \n",
    "\n",
    "# header\n",
    "# isi_tabel"
   ]
  },
  {
   "cell_type": "code",
   "execution_count": 13,
   "metadata": {},
   "outputs": [
    {
     "output_type": "execute_result",
     "data": {
      "text/plain": [
       "235.0"
      ]
     },
     "metadata": {},
     "execution_count": 13
    }
   ],
   "source": [
    "# cari ada berapa row table\n",
    "jumlah_row = len(isi_tabel)/len(header)\n",
    "jumlah_row"
   ]
  },
  {
   "cell_type": "code",
   "execution_count": 14,
   "metadata": {},
   "outputs": [
    {
     "output_type": "execute_result",
     "data": {
      "text/plain": [
       "['1',\n",
       " 'China',\n",
       " '1,439,323,776',\n",
       " '0.39 %',\n",
       " '5,540,090',\n",
       " '153',\n",
       " '9,388,211',\n",
       " '-348,399',\n",
       " '1.7',\n",
       " '38',\n",
       " '61 %',\n",
       " '18.47 %']"
      ]
     },
     "metadata": {},
     "execution_count": 14
    }
   ],
   "source": [
    "world_population = []\n",
    "index_awal = 0\n",
    "for i in range(int(jumlah_row)):\n",
    "    index_akhir = (i+1)*12          # 12 adalah len(header) \n",
    "    world_population.append(isi_tabel[index_awal:index_akhir])\n",
    "    index_awal = index_akhir\n",
    "\n",
    "world_population[0]\n"
   ]
  },
  {
   "cell_type": "code",
   "execution_count": null,
   "metadata": {},
   "outputs": [],
   "source": []
  },
  {
   "cell_type": "code",
   "execution_count": 15,
   "metadata": {},
   "outputs": [
    {
     "output_type": "execute_result",
     "data": {
      "text/plain": [
       "   # Country (or dependency) Population (2020) Yearly Change  Net Change  \\\n",
       "0  1                   China     1,439,323,776        0.39 %   5,540,090   \n",
       "1  2                   India     1,380,004,385        0.99 %  13,586,631   \n",
       "2  3           United States       331,002,651        0.59 %   1,937,734   \n",
       "3  4               Indonesia       273,523,615        1.07 %   2,898,047   \n",
       "4  5                Pakistan       220,892,340        2.00 %   4,327,022   \n",
       "\n",
       "  Density (P/Km²) Land Area (Km²) Migrants (net) Fert. Rate Med. Age  \\\n",
       "0             153       9,388,211       -348,399        1.7       38   \n",
       "1             464       2,973,190       -532,687        2.2       28   \n",
       "2              36       9,147,420        954,806        1.8       38   \n",
       "3             151       1,811,570        -98,955        2.3       30   \n",
       "4             287         770,880       -233,379        3.6       23   \n",
       "\n",
       "  Urban Pop % World Share  \n",
       "0        61 %     18.47 %  \n",
       "1        35 %     17.70 %  \n",
       "2        83 %      4.25 %  \n",
       "3        56 %      3.51 %  \n",
       "4        35 %      2.83 %  "
      ],
      "text/html": "<div>\n<style scoped>\n    .dataframe tbody tr th:only-of-type {\n        vertical-align: middle;\n    }\n\n    .dataframe tbody tr th {\n        vertical-align: top;\n    }\n\n    .dataframe thead th {\n        text-align: right;\n    }\n</style>\n<table border=\"1\" class=\"dataframe\">\n  <thead>\n    <tr style=\"text-align: right;\">\n      <th></th>\n      <th>#</th>\n      <th>Country (or dependency)</th>\n      <th>Population (2020)</th>\n      <th>Yearly Change</th>\n      <th>Net Change</th>\n      <th>Density (P/Km²)</th>\n      <th>Land Area (Km²)</th>\n      <th>Migrants (net)</th>\n      <th>Fert. Rate</th>\n      <th>Med. Age</th>\n      <th>Urban Pop %</th>\n      <th>World Share</th>\n    </tr>\n  </thead>\n  <tbody>\n    <tr>\n      <th>0</th>\n      <td>1</td>\n      <td>China</td>\n      <td>1,439,323,776</td>\n      <td>0.39 %</td>\n      <td>5,540,090</td>\n      <td>153</td>\n      <td>9,388,211</td>\n      <td>-348,399</td>\n      <td>1.7</td>\n      <td>38</td>\n      <td>61 %</td>\n      <td>18.47 %</td>\n    </tr>\n    <tr>\n      <th>1</th>\n      <td>2</td>\n      <td>India</td>\n      <td>1,380,004,385</td>\n      <td>0.99 %</td>\n      <td>13,586,631</td>\n      <td>464</td>\n      <td>2,973,190</td>\n      <td>-532,687</td>\n      <td>2.2</td>\n      <td>28</td>\n      <td>35 %</td>\n      <td>17.70 %</td>\n    </tr>\n    <tr>\n      <th>2</th>\n      <td>3</td>\n      <td>United States</td>\n      <td>331,002,651</td>\n      <td>0.59 %</td>\n      <td>1,937,734</td>\n      <td>36</td>\n      <td>9,147,420</td>\n      <td>954,806</td>\n      <td>1.8</td>\n      <td>38</td>\n      <td>83 %</td>\n      <td>4.25 %</td>\n    </tr>\n    <tr>\n      <th>3</th>\n      <td>4</td>\n      <td>Indonesia</td>\n      <td>273,523,615</td>\n      <td>1.07 %</td>\n      <td>2,898,047</td>\n      <td>151</td>\n      <td>1,811,570</td>\n      <td>-98,955</td>\n      <td>2.3</td>\n      <td>30</td>\n      <td>56 %</td>\n      <td>3.51 %</td>\n    </tr>\n    <tr>\n      <th>4</th>\n      <td>5</td>\n      <td>Pakistan</td>\n      <td>220,892,340</td>\n      <td>2.00 %</td>\n      <td>4,327,022</td>\n      <td>287</td>\n      <td>770,880</td>\n      <td>-233,379</td>\n      <td>3.6</td>\n      <td>23</td>\n      <td>35 %</td>\n      <td>2.83 %</td>\n    </tr>\n  </tbody>\n</table>\n</div>"
     },
     "metadata": {},
     "execution_count": 15
    }
   ],
   "source": [
    "# Ubah jadi data frame\n",
    "df = pd.DataFrame(world_population, columns=header)\n",
    "df.head()"
   ]
  },
  {
   "cell_type": "code",
   "execution_count": 16,
   "metadata": {},
   "outputs": [],
   "source": [
    "# Ubah nama kolom\n",
    "df.rename(columns={\n",
    "    'Yearly Change': 'Yearly Change (%)'\n",
    "}, inplace=True)"
   ]
  },
  {
   "cell_type": "code",
   "execution_count": 17,
   "metadata": {},
   "outputs": [],
   "source": [
    "#  menghilangkan unsur '%' di kolom Yearly Change\n",
    "\n",
    "gudang = []\n",
    "for i in range(len(df['Yearly Change (%)'])):\n",
    "    j = df['Yearly Change (%)'][i].split() # split jadi (0.39, %)\n",
    "    gudang.append(float(j[0])) # indexing angkanya\n",
    "\n",
    "# gudang\n",
    "df['Yearly Change (%)'] = gudang\n"
   ]
  },
  {
   "cell_type": "code",
   "execution_count": 18,
   "metadata": {},
   "outputs": [
    {
     "output_type": "execute_result",
     "data": {
      "text/plain": [
       "   # Country (or dependency) Population (2020)  Yearly Change (%)  Net Change  \\\n",
       "0  1                   China     1,439,323,776               0.39   5,540,090   \n",
       "1  2                   India     1,380,004,385               0.99  13,586,631   \n",
       "2  3           United States       331,002,651               0.59   1,937,734   \n",
       "3  4               Indonesia       273,523,615               1.07   2,898,047   \n",
       "4  5                Pakistan       220,892,340               2.00   4,327,022   \n",
       "\n",
       "  Density (P/Km²) Land Area (Km²) Migrants (net) Fert. Rate Med. Age  \\\n",
       "0             153       9,388,211       -348,399        1.7       38   \n",
       "1             464       2,973,190       -532,687        2.2       28   \n",
       "2              36       9,147,420        954,806        1.8       38   \n",
       "3             151       1,811,570        -98,955        2.3       30   \n",
       "4             287         770,880       -233,379        3.6       23   \n",
       "\n",
       "  Urban Pop % World Share  \n",
       "0        61 %     18.47 %  \n",
       "1        35 %     17.70 %  \n",
       "2        83 %      4.25 %  \n",
       "3        56 %      3.51 %  \n",
       "4        35 %      2.83 %  "
      ],
      "text/html": "<div>\n<style scoped>\n    .dataframe tbody tr th:only-of-type {\n        vertical-align: middle;\n    }\n\n    .dataframe tbody tr th {\n        vertical-align: top;\n    }\n\n    .dataframe thead th {\n        text-align: right;\n    }\n</style>\n<table border=\"1\" class=\"dataframe\">\n  <thead>\n    <tr style=\"text-align: right;\">\n      <th></th>\n      <th>#</th>\n      <th>Country (or dependency)</th>\n      <th>Population (2020)</th>\n      <th>Yearly Change (%)</th>\n      <th>Net Change</th>\n      <th>Density (P/Km²)</th>\n      <th>Land Area (Km²)</th>\n      <th>Migrants (net)</th>\n      <th>Fert. Rate</th>\n      <th>Med. Age</th>\n      <th>Urban Pop %</th>\n      <th>World Share</th>\n    </tr>\n  </thead>\n  <tbody>\n    <tr>\n      <th>0</th>\n      <td>1</td>\n      <td>China</td>\n      <td>1,439,323,776</td>\n      <td>0.39</td>\n      <td>5,540,090</td>\n      <td>153</td>\n      <td>9,388,211</td>\n      <td>-348,399</td>\n      <td>1.7</td>\n      <td>38</td>\n      <td>61 %</td>\n      <td>18.47 %</td>\n    </tr>\n    <tr>\n      <th>1</th>\n      <td>2</td>\n      <td>India</td>\n      <td>1,380,004,385</td>\n      <td>0.99</td>\n      <td>13,586,631</td>\n      <td>464</td>\n      <td>2,973,190</td>\n      <td>-532,687</td>\n      <td>2.2</td>\n      <td>28</td>\n      <td>35 %</td>\n      <td>17.70 %</td>\n    </tr>\n    <tr>\n      <th>2</th>\n      <td>3</td>\n      <td>United States</td>\n      <td>331,002,651</td>\n      <td>0.59</td>\n      <td>1,937,734</td>\n      <td>36</td>\n      <td>9,147,420</td>\n      <td>954,806</td>\n      <td>1.8</td>\n      <td>38</td>\n      <td>83 %</td>\n      <td>4.25 %</td>\n    </tr>\n    <tr>\n      <th>3</th>\n      <td>4</td>\n      <td>Indonesia</td>\n      <td>273,523,615</td>\n      <td>1.07</td>\n      <td>2,898,047</td>\n      <td>151</td>\n      <td>1,811,570</td>\n      <td>-98,955</td>\n      <td>2.3</td>\n      <td>30</td>\n      <td>56 %</td>\n      <td>3.51 %</td>\n    </tr>\n    <tr>\n      <th>4</th>\n      <td>5</td>\n      <td>Pakistan</td>\n      <td>220,892,340</td>\n      <td>2.00</td>\n      <td>4,327,022</td>\n      <td>287</td>\n      <td>770,880</td>\n      <td>-233,379</td>\n      <td>3.6</td>\n      <td>23</td>\n      <td>35 %</td>\n      <td>2.83 %</td>\n    </tr>\n  </tbody>\n</table>\n</div>"
     },
     "metadata": {},
     "execution_count": 18
    }
   ],
   "source": [
    "df.head()"
   ]
  },
  {
   "cell_type": "code",
   "execution_count": 19,
   "metadata": {},
   "outputs": [
    {
     "output_type": "stream",
     "name": "stdout",
     "text": [
      "<class 'pandas.core.frame.DataFrame'>\nRangeIndex: 235 entries, 0 to 234\nData columns (total 12 columns):\n #   Column                   Non-Null Count  Dtype  \n---  ------                   --------------  -----  \n 0   #                        235 non-null    object \n 1   Country (or dependency)  235 non-null    object \n 2   Population (2020)        235 non-null    object \n 3   Yearly Change (%)        235 non-null    float64\n 4   Net Change               235 non-null    object \n 5   Density (P/Km²)          235 non-null    object \n 6   Land Area (Km²)          235 non-null    object \n 7   Migrants (net)           235 non-null    object \n 8   Fert. Rate               235 non-null    object \n 9   Med. Age                 235 non-null    object \n 10  Urban Pop %              235 non-null    object \n 11  World Share              235 non-null    object \ndtypes: float64(1), object(11)\nmemory usage: 22.2+ KB\n"
     ]
    }
   ],
   "source": [
    "df.info()"
   ]
  },
  {
   "cell_type": "code",
   "execution_count": 20,
   "metadata": {},
   "outputs": [],
   "source": [
    "# df['Density'].astype('int64').dtypes"
   ]
  },
  {
   "cell_type": "code",
   "execution_count": null,
   "metadata": {},
   "outputs": [],
   "source": []
  },
  {
   "source": [
    "# Take Class Excercise: Indonesian Population in 1950-2020\n",
    "\n",
    "## ``Indonesia Population in 10 years period``\n"
   ],
   "cell_type": "markdown",
   "metadata": {}
  },
  {
   "cell_type": "code",
   "execution_count": 21,
   "metadata": {},
   "outputs": [
    {
     "output_type": "execute_result",
     "data": {
      "text/plain": [
       "<Response [200]>"
      ]
     },
     "metadata": {},
     "execution_count": 21
    }
   ],
   "source": [
    "# ambil data dari web\n",
    "indo_pop = requests.get('https://www.worldometers.info/world-population/indonesia-population/')\n",
    "indo_pop"
   ]
  },
  {
   "cell_type": "code",
   "execution_count": 22,
   "metadata": {},
   "outputs": [],
   "source": [
    "# parsing data \n",
    "\n",
    "data_indo = BeautifulSoup(indo_pop.content, 'html.parser')\n",
    "# data_indo"
   ]
  },
  {
   "cell_type": "code",
   "execution_count": 23,
   "metadata": {},
   "outputs": [],
   "source": [
    "# ambil header table\n",
    "th_indo = data_indo.find_all('th')\n",
    "\n",
    "# ambil isi table \n",
    "td_indo = data_indo.find_all('td')"
   ]
  },
  {
   "cell_type": "code",
   "execution_count": 24,
   "metadata": {},
   "outputs": [],
   "source": [
    "header_indo = [i.text for i in th_indo]\n",
    "isi_indo = [i.text for i in td_indo]\n"
   ]
  },
  {
   "cell_type": "code",
   "execution_count": 25,
   "metadata": {},
   "outputs": [
    {
     "output_type": "execute_result",
     "data": {
      "text/plain": [
       "['Year',\n",
       " 'Population',\n",
       " 'Yearly %  Change',\n",
       " 'Yearly Change',\n",
       " 'Migrants (net)',\n",
       " 'Median Age',\n",
       " 'Fertility Rate',\n",
       " 'Density (P/Km²)',\n",
       " 'Urban Pop %',\n",
       " 'Urban Population',\n",
       " \"Country's Share of World Pop\",\n",
       " 'World Population',\n",
       " 'IndonesiaGlobal Rank']"
      ]
     },
     "metadata": {},
     "execution_count": 25
    }
   ],
   "source": [
    "# ambil header untuk tabel pertama dan kedua\n",
    "header = header_indo[0:13]\n",
    "header"
   ]
  },
  {
   "cell_type": "code",
   "execution_count": 26,
   "metadata": {},
   "outputs": [],
   "source": [
    "# ambil isi untuk tabel pertama dan kedua\n",
    "isi = isi_indo[2:-210]\n",
    "# isi"
   ]
  },
  {
   "cell_type": "code",
   "execution_count": 27,
   "metadata": {},
   "outputs": [
    {
     "output_type": "execute_result",
     "data": {
      "text/plain": [
       "25.0"
      ]
     },
     "metadata": {},
     "execution_count": 27
    }
   ],
   "source": [
    "len(isi)/len(header)"
   ]
  },
  {
   "cell_type": "code",
   "execution_count": 28,
   "metadata": {},
   "outputs": [
    {
     "output_type": "execute_result",
     "data": {
      "text/plain": [
       "['2020',\n",
       " '273,523,615',\n",
       " '1.07 %',\n",
       " '2,898,047',\n",
       " '-98,955',\n",
       " '29.7',\n",
       " '2.32',\n",
       " '151',\n",
       " '56.4 %',\n",
       " '154,188,546',\n",
       " '3.51 %',\n",
       " '7,794,798,739',\n",
       " '4']"
      ]
     },
     "metadata": {},
     "execution_count": 28
    }
   ],
   "source": [
    "indo_population = []\n",
    "\n",
    "index_awal = 0\n",
    "for i in range(25):                 # 25 adalah jumlah baris\n",
    "    index_akhir = (i+1)*13          # 13 adalah len(header) \n",
    "    indo_population.append(isi[index_awal:index_akhir])\n",
    "    index_awal = index_akhir\n",
    "\n",
    "indo_population[0]"
   ]
  },
  {
   "cell_type": "code",
   "execution_count": 29,
   "metadata": {},
   "outputs": [
    {
     "output_type": "execute_result",
     "data": {
      "text/plain": [
       "   Year   Population Yearly %  Change Yearly Change Migrants (net) Median Age  \\\n",
       "0  2020  273,523,615           1.07 %     2,898,047        -98,955       29.7   \n",
       "1  2019  270,625,568           1.10 %     2,955,025        -98,955       28.8   \n",
       "2  2018  267,670,543           1.14 %     3,019,580        -98,955       28.8   \n",
       "3  2017  264,650,963           1.18 %     3,094,582        -98,955       28.8   \n",
       "4  2016  261,556,381           1.23 %     3,173,125        -98,955       28.8   \n",
       "\n",
       "  Fertility Rate Density (P/Km²) Urban Pop % Urban Population  \\\n",
       "0           2.32             151      56.4 %      154,188,546   \n",
       "1           2.42             149      55.8 %      150,900,390   \n",
       "2           2.42             148      55.1 %      147,603,006   \n",
       "3           2.42             146      54.5 %      144,294,861   \n",
       "4           2.42             144      53.9 %      140,972,925   \n",
       "\n",
       "  Country's Share of World Pop World Population IndonesiaGlobal Rank  \n",
       "0                       3.51 %    7,794,798,739                    4  \n",
       "1                       3.51 %    7,713,468,100                    4  \n",
       "2                       3.51 %    7,631,091,040                    4  \n",
       "3                       3.51 %    7,547,858,925                    4  \n",
       "4                       3.50 %    7,464,022,049                    4  "
      ],
      "text/html": "<div>\n<style scoped>\n    .dataframe tbody tr th:only-of-type {\n        vertical-align: middle;\n    }\n\n    .dataframe tbody tr th {\n        vertical-align: top;\n    }\n\n    .dataframe thead th {\n        text-align: right;\n    }\n</style>\n<table border=\"1\" class=\"dataframe\">\n  <thead>\n    <tr style=\"text-align: right;\">\n      <th></th>\n      <th>Year</th>\n      <th>Population</th>\n      <th>Yearly %  Change</th>\n      <th>Yearly Change</th>\n      <th>Migrants (net)</th>\n      <th>Median Age</th>\n      <th>Fertility Rate</th>\n      <th>Density (P/Km²)</th>\n      <th>Urban Pop %</th>\n      <th>Urban Population</th>\n      <th>Country's Share of World Pop</th>\n      <th>World Population</th>\n      <th>IndonesiaGlobal Rank</th>\n    </tr>\n  </thead>\n  <tbody>\n    <tr>\n      <th>0</th>\n      <td>2020</td>\n      <td>273,523,615</td>\n      <td>1.07 %</td>\n      <td>2,898,047</td>\n      <td>-98,955</td>\n      <td>29.7</td>\n      <td>2.32</td>\n      <td>151</td>\n      <td>56.4 %</td>\n      <td>154,188,546</td>\n      <td>3.51 %</td>\n      <td>7,794,798,739</td>\n      <td>4</td>\n    </tr>\n    <tr>\n      <th>1</th>\n      <td>2019</td>\n      <td>270,625,568</td>\n      <td>1.10 %</td>\n      <td>2,955,025</td>\n      <td>-98,955</td>\n      <td>28.8</td>\n      <td>2.42</td>\n      <td>149</td>\n      <td>55.8 %</td>\n      <td>150,900,390</td>\n      <td>3.51 %</td>\n      <td>7,713,468,100</td>\n      <td>4</td>\n    </tr>\n    <tr>\n      <th>2</th>\n      <td>2018</td>\n      <td>267,670,543</td>\n      <td>1.14 %</td>\n      <td>3,019,580</td>\n      <td>-98,955</td>\n      <td>28.8</td>\n      <td>2.42</td>\n      <td>148</td>\n      <td>55.1 %</td>\n      <td>147,603,006</td>\n      <td>3.51 %</td>\n      <td>7,631,091,040</td>\n      <td>4</td>\n    </tr>\n    <tr>\n      <th>3</th>\n      <td>2017</td>\n      <td>264,650,963</td>\n      <td>1.18 %</td>\n      <td>3,094,582</td>\n      <td>-98,955</td>\n      <td>28.8</td>\n      <td>2.42</td>\n      <td>146</td>\n      <td>54.5 %</td>\n      <td>144,294,861</td>\n      <td>3.51 %</td>\n      <td>7,547,858,925</td>\n      <td>4</td>\n    </tr>\n    <tr>\n      <th>4</th>\n      <td>2016</td>\n      <td>261,556,381</td>\n      <td>1.23 %</td>\n      <td>3,173,125</td>\n      <td>-98,955</td>\n      <td>28.8</td>\n      <td>2.42</td>\n      <td>144</td>\n      <td>53.9 %</td>\n      <td>140,972,925</td>\n      <td>3.50 %</td>\n      <td>7,464,022,049</td>\n      <td>4</td>\n    </tr>\n  </tbody>\n</table>\n</div>"
     },
     "metadata": {},
     "execution_count": 29
    }
   ],
   "source": [
    "df_indo = pd.DataFrame(indo_population, columns=header)\n",
    "df_indo.head()"
   ]
  },
  {
   "cell_type": "code",
   "execution_count": 30,
   "metadata": {},
   "outputs": [
    {
     "output_type": "execute_result",
     "data": {
      "text/plain": [
       "    Year   Population Median Age Fertility Rate Urban Pop %\n",
       "17  1955   77,273,425       20.4           5.49      13.5 %\n",
       "16  1960   87,751,068       20.2           5.67      14.6 %\n",
       "15  1965  100,267,062       19.4           5.62      15.8 %\n",
       "14  1970  114,793,178       18.6           5.57      17.1 %\n",
       "13  1975  130,680,727       18.5           5.30      19.3 %\n",
       "12  1980  147,447,836       19.1           4.73      22.1 %\n",
       "11  1985  164,982,451       19.9           4.11      26.1 %\n",
       "10  1990  181,413,402       21.3           3.40      30.6 %\n",
       "9   1995  196,934,260       22.8           2.90      36.1 %\n",
       "8   2000  211,513,823       24.4           2.55      42.0 %\n",
       "7   2005  226,289,470       25.6           2.53      46.0 %\n",
       "6   2010  241,834,215       27.2           2.50      50.1 %\n",
       "5   2015  258,383,256       28.5           2.45      53.3 %\n",
       "4   2016  261,556,381       28.8           2.42      53.9 %\n",
       "3   2017  264,650,963       28.8           2.42      54.5 %\n",
       "2   2018  267,670,543       28.8           2.42      55.1 %\n",
       "1   2019  270,625,568       28.8           2.42      55.8 %\n",
       "18  2020  273,523,615       29.7           2.32      56.4 %\n",
       "0   2020  273,523,615       29.7           2.32      56.4 %\n",
       "19  2025  287,089,635       31.0           2.32      59.3 %\n",
       "20  2030  299,198,430       32.4           2.32      62.1 %\n",
       "21  2035  309,764,944       33.8           2.32      64.6 %\n",
       "22  2040  318,637,858       35.1           2.32      66.8 %\n",
       "23  2045  325,705,348       36.2           2.32      68.8 %\n",
       "24  2050  330,904,664       37.4           2.32      70.7 %"
      ],
      "text/html": "<div>\n<style scoped>\n    .dataframe tbody tr th:only-of-type {\n        vertical-align: middle;\n    }\n\n    .dataframe tbody tr th {\n        vertical-align: top;\n    }\n\n    .dataframe thead th {\n        text-align: right;\n    }\n</style>\n<table border=\"1\" class=\"dataframe\">\n  <thead>\n    <tr style=\"text-align: right;\">\n      <th></th>\n      <th>Year</th>\n      <th>Population</th>\n      <th>Median Age</th>\n      <th>Fertility Rate</th>\n      <th>Urban Pop %</th>\n    </tr>\n  </thead>\n  <tbody>\n    <tr>\n      <th>17</th>\n      <td>1955</td>\n      <td>77,273,425</td>\n      <td>20.4</td>\n      <td>5.49</td>\n      <td>13.5 %</td>\n    </tr>\n    <tr>\n      <th>16</th>\n      <td>1960</td>\n      <td>87,751,068</td>\n      <td>20.2</td>\n      <td>5.67</td>\n      <td>14.6 %</td>\n    </tr>\n    <tr>\n      <th>15</th>\n      <td>1965</td>\n      <td>100,267,062</td>\n      <td>19.4</td>\n      <td>5.62</td>\n      <td>15.8 %</td>\n    </tr>\n    <tr>\n      <th>14</th>\n      <td>1970</td>\n      <td>114,793,178</td>\n      <td>18.6</td>\n      <td>5.57</td>\n      <td>17.1 %</td>\n    </tr>\n    <tr>\n      <th>13</th>\n      <td>1975</td>\n      <td>130,680,727</td>\n      <td>18.5</td>\n      <td>5.30</td>\n      <td>19.3 %</td>\n    </tr>\n    <tr>\n      <th>12</th>\n      <td>1980</td>\n      <td>147,447,836</td>\n      <td>19.1</td>\n      <td>4.73</td>\n      <td>22.1 %</td>\n    </tr>\n    <tr>\n      <th>11</th>\n      <td>1985</td>\n      <td>164,982,451</td>\n      <td>19.9</td>\n      <td>4.11</td>\n      <td>26.1 %</td>\n    </tr>\n    <tr>\n      <th>10</th>\n      <td>1990</td>\n      <td>181,413,402</td>\n      <td>21.3</td>\n      <td>3.40</td>\n      <td>30.6 %</td>\n    </tr>\n    <tr>\n      <th>9</th>\n      <td>1995</td>\n      <td>196,934,260</td>\n      <td>22.8</td>\n      <td>2.90</td>\n      <td>36.1 %</td>\n    </tr>\n    <tr>\n      <th>8</th>\n      <td>2000</td>\n      <td>211,513,823</td>\n      <td>24.4</td>\n      <td>2.55</td>\n      <td>42.0 %</td>\n    </tr>\n    <tr>\n      <th>7</th>\n      <td>2005</td>\n      <td>226,289,470</td>\n      <td>25.6</td>\n      <td>2.53</td>\n      <td>46.0 %</td>\n    </tr>\n    <tr>\n      <th>6</th>\n      <td>2010</td>\n      <td>241,834,215</td>\n      <td>27.2</td>\n      <td>2.50</td>\n      <td>50.1 %</td>\n    </tr>\n    <tr>\n      <th>5</th>\n      <td>2015</td>\n      <td>258,383,256</td>\n      <td>28.5</td>\n      <td>2.45</td>\n      <td>53.3 %</td>\n    </tr>\n    <tr>\n      <th>4</th>\n      <td>2016</td>\n      <td>261,556,381</td>\n      <td>28.8</td>\n      <td>2.42</td>\n      <td>53.9 %</td>\n    </tr>\n    <tr>\n      <th>3</th>\n      <td>2017</td>\n      <td>264,650,963</td>\n      <td>28.8</td>\n      <td>2.42</td>\n      <td>54.5 %</td>\n    </tr>\n    <tr>\n      <th>2</th>\n      <td>2018</td>\n      <td>267,670,543</td>\n      <td>28.8</td>\n      <td>2.42</td>\n      <td>55.1 %</td>\n    </tr>\n    <tr>\n      <th>1</th>\n      <td>2019</td>\n      <td>270,625,568</td>\n      <td>28.8</td>\n      <td>2.42</td>\n      <td>55.8 %</td>\n    </tr>\n    <tr>\n      <th>18</th>\n      <td>2020</td>\n      <td>273,523,615</td>\n      <td>29.7</td>\n      <td>2.32</td>\n      <td>56.4 %</td>\n    </tr>\n    <tr>\n      <th>0</th>\n      <td>2020</td>\n      <td>273,523,615</td>\n      <td>29.7</td>\n      <td>2.32</td>\n      <td>56.4 %</td>\n    </tr>\n    <tr>\n      <th>19</th>\n      <td>2025</td>\n      <td>287,089,635</td>\n      <td>31.0</td>\n      <td>2.32</td>\n      <td>59.3 %</td>\n    </tr>\n    <tr>\n      <th>20</th>\n      <td>2030</td>\n      <td>299,198,430</td>\n      <td>32.4</td>\n      <td>2.32</td>\n      <td>62.1 %</td>\n    </tr>\n    <tr>\n      <th>21</th>\n      <td>2035</td>\n      <td>309,764,944</td>\n      <td>33.8</td>\n      <td>2.32</td>\n      <td>64.6 %</td>\n    </tr>\n    <tr>\n      <th>22</th>\n      <td>2040</td>\n      <td>318,637,858</td>\n      <td>35.1</td>\n      <td>2.32</td>\n      <td>66.8 %</td>\n    </tr>\n    <tr>\n      <th>23</th>\n      <td>2045</td>\n      <td>325,705,348</td>\n      <td>36.2</td>\n      <td>2.32</td>\n      <td>68.8 %</td>\n    </tr>\n    <tr>\n      <th>24</th>\n      <td>2050</td>\n      <td>330,904,664</td>\n      <td>37.4</td>\n      <td>2.32</td>\n      <td>70.7 %</td>\n    </tr>\n  </tbody>\n</table>\n</div>"
     },
     "metadata": {},
     "execution_count": 30
    }
   ],
   "source": [
    "df_indo = df_indo.sort_values(by='Year')\n",
    "df_indo = df_indo.loc[:,['Year','Population','Median Age','Fertility Rate','Urban Pop %']]\n",
    "# df_indo = df_indo.drop_duplicates(subset='Year') # ada 2020 double, hapus duplikatnya\n",
    "\n",
    "df_indo"
   ]
  },
  {
   "cell_type": "code",
   "execution_count": 31,
   "metadata": {},
   "outputs": [],
   "source": [
    "#  menghilangkan unsur '%' di kolom Urban Pop %\n",
    "\n",
    "kosong = []\n",
    "for i in range(len(df_indo['Urban Pop %'])):\n",
    "    j = df_indo['Urban Pop %'][i].split() # split jadi (0.39, %)\n",
    "    kosong.append(float(j[0])) # indexing angkanya\n",
    "\n",
    "df_indo['Urban Pop %'] = kosong\n"
   ]
  },
  {
   "cell_type": "code",
   "execution_count": 32,
   "metadata": {},
   "outputs": [
    {
     "output_type": "execute_result",
     "data": {
      "text/plain": [
       "    Year   Population Median Age Fertility Rate  Urban Pop %\n",
       "17  1955   77,273,425       20.4           5.49         56.4\n",
       "16  1960   87,751,068       20.2           5.67         55.8\n",
       "15  1965  100,267,062       19.4           5.62         55.1\n",
       "14  1970  114,793,178       18.6           5.57         54.5\n",
       "13  1975  130,680,727       18.5           5.30         53.9\n",
       "12  1980  147,447,836       19.1           4.73         53.3\n",
       "11  1985  164,982,451       19.9           4.11         50.1\n",
       "10  1990  181,413,402       21.3           3.40         46.0\n",
       "9   1995  196,934,260       22.8           2.90         42.0\n",
       "8   2000  211,513,823       24.4           2.55         36.1\n",
       "7   2005  226,289,470       25.6           2.53         30.6\n",
       "6   2010  241,834,215       27.2           2.50         26.1\n",
       "5   2015  258,383,256       28.5           2.45         22.1\n",
       "4   2016  261,556,381       28.8           2.42         19.3\n",
       "3   2017  264,650,963       28.8           2.42         17.1\n",
       "2   2018  267,670,543       28.8           2.42         15.8\n",
       "1   2019  270,625,568       28.8           2.42         14.6\n",
       "18  2020  273,523,615       29.7           2.32         13.5\n",
       "19  2025  287,089,635       31.0           2.32         59.3\n",
       "20  2030  299,198,430       32.4           2.32         62.1\n",
       "21  2035  309,764,944       33.8           2.32         64.6\n",
       "22  2040  318,637,858       35.1           2.32         66.8\n",
       "23  2045  325,705,348       36.2           2.32         68.8\n",
       "24  2050  330,904,664       37.4           2.32         70.7"
      ],
      "text/html": "<div>\n<style scoped>\n    .dataframe tbody tr th:only-of-type {\n        vertical-align: middle;\n    }\n\n    .dataframe tbody tr th {\n        vertical-align: top;\n    }\n\n    .dataframe thead th {\n        text-align: right;\n    }\n</style>\n<table border=\"1\" class=\"dataframe\">\n  <thead>\n    <tr style=\"text-align: right;\">\n      <th></th>\n      <th>Year</th>\n      <th>Population</th>\n      <th>Median Age</th>\n      <th>Fertility Rate</th>\n      <th>Urban Pop %</th>\n    </tr>\n  </thead>\n  <tbody>\n    <tr>\n      <th>17</th>\n      <td>1955</td>\n      <td>77,273,425</td>\n      <td>20.4</td>\n      <td>5.49</td>\n      <td>56.4</td>\n    </tr>\n    <tr>\n      <th>16</th>\n      <td>1960</td>\n      <td>87,751,068</td>\n      <td>20.2</td>\n      <td>5.67</td>\n      <td>55.8</td>\n    </tr>\n    <tr>\n      <th>15</th>\n      <td>1965</td>\n      <td>100,267,062</td>\n      <td>19.4</td>\n      <td>5.62</td>\n      <td>55.1</td>\n    </tr>\n    <tr>\n      <th>14</th>\n      <td>1970</td>\n      <td>114,793,178</td>\n      <td>18.6</td>\n      <td>5.57</td>\n      <td>54.5</td>\n    </tr>\n    <tr>\n      <th>13</th>\n      <td>1975</td>\n      <td>130,680,727</td>\n      <td>18.5</td>\n      <td>5.30</td>\n      <td>53.9</td>\n    </tr>\n    <tr>\n      <th>12</th>\n      <td>1980</td>\n      <td>147,447,836</td>\n      <td>19.1</td>\n      <td>4.73</td>\n      <td>53.3</td>\n    </tr>\n    <tr>\n      <th>11</th>\n      <td>1985</td>\n      <td>164,982,451</td>\n      <td>19.9</td>\n      <td>4.11</td>\n      <td>50.1</td>\n    </tr>\n    <tr>\n      <th>10</th>\n      <td>1990</td>\n      <td>181,413,402</td>\n      <td>21.3</td>\n      <td>3.40</td>\n      <td>46.0</td>\n    </tr>\n    <tr>\n      <th>9</th>\n      <td>1995</td>\n      <td>196,934,260</td>\n      <td>22.8</td>\n      <td>2.90</td>\n      <td>42.0</td>\n    </tr>\n    <tr>\n      <th>8</th>\n      <td>2000</td>\n      <td>211,513,823</td>\n      <td>24.4</td>\n      <td>2.55</td>\n      <td>36.1</td>\n    </tr>\n    <tr>\n      <th>7</th>\n      <td>2005</td>\n      <td>226,289,470</td>\n      <td>25.6</td>\n      <td>2.53</td>\n      <td>30.6</td>\n    </tr>\n    <tr>\n      <th>6</th>\n      <td>2010</td>\n      <td>241,834,215</td>\n      <td>27.2</td>\n      <td>2.50</td>\n      <td>26.1</td>\n    </tr>\n    <tr>\n      <th>5</th>\n      <td>2015</td>\n      <td>258,383,256</td>\n      <td>28.5</td>\n      <td>2.45</td>\n      <td>22.1</td>\n    </tr>\n    <tr>\n      <th>4</th>\n      <td>2016</td>\n      <td>261,556,381</td>\n      <td>28.8</td>\n      <td>2.42</td>\n      <td>19.3</td>\n    </tr>\n    <tr>\n      <th>3</th>\n      <td>2017</td>\n      <td>264,650,963</td>\n      <td>28.8</td>\n      <td>2.42</td>\n      <td>17.1</td>\n    </tr>\n    <tr>\n      <th>2</th>\n      <td>2018</td>\n      <td>267,670,543</td>\n      <td>28.8</td>\n      <td>2.42</td>\n      <td>15.8</td>\n    </tr>\n    <tr>\n      <th>1</th>\n      <td>2019</td>\n      <td>270,625,568</td>\n      <td>28.8</td>\n      <td>2.42</td>\n      <td>14.6</td>\n    </tr>\n    <tr>\n      <th>18</th>\n      <td>2020</td>\n      <td>273,523,615</td>\n      <td>29.7</td>\n      <td>2.32</td>\n      <td>13.5</td>\n    </tr>\n    <tr>\n      <th>19</th>\n      <td>2025</td>\n      <td>287,089,635</td>\n      <td>31.0</td>\n      <td>2.32</td>\n      <td>59.3</td>\n    </tr>\n    <tr>\n      <th>20</th>\n      <td>2030</td>\n      <td>299,198,430</td>\n      <td>32.4</td>\n      <td>2.32</td>\n      <td>62.1</td>\n    </tr>\n    <tr>\n      <th>21</th>\n      <td>2035</td>\n      <td>309,764,944</td>\n      <td>33.8</td>\n      <td>2.32</td>\n      <td>64.6</td>\n    </tr>\n    <tr>\n      <th>22</th>\n      <td>2040</td>\n      <td>318,637,858</td>\n      <td>35.1</td>\n      <td>2.32</td>\n      <td>66.8</td>\n    </tr>\n    <tr>\n      <th>23</th>\n      <td>2045</td>\n      <td>325,705,348</td>\n      <td>36.2</td>\n      <td>2.32</td>\n      <td>68.8</td>\n    </tr>\n    <tr>\n      <th>24</th>\n      <td>2050</td>\n      <td>330,904,664</td>\n      <td>37.4</td>\n      <td>2.32</td>\n      <td>70.7</td>\n    </tr>\n  </tbody>\n</table>\n</div>"
     },
     "metadata": {},
     "execution_count": 32
    }
   ],
   "source": [
    "df_indo = df_indo.drop_duplicates(subset='Year') # ada 2020 double, hapus duplikatnya\n",
    "df_indo"
   ]
  },
  {
   "cell_type": "code",
   "execution_count": 33,
   "metadata": {},
   "outputs": [
    {
     "output_type": "execute_result",
     "data": {
      "text/plain": [
       "['1960',\n",
       " '1970',\n",
       " '1980',\n",
       " '1990',\n",
       " '2000',\n",
       " '2010',\n",
       " '2020',\n",
       " '2030',\n",
       " '2040',\n",
       " '2050']"
      ]
     },
     "metadata": {},
     "execution_count": 33
    }
   ],
   "source": [
    "# indexing per 10 tahun\n",
    "\n",
    "decade = []\n",
    "\n",
    "for i in df_indo['Year']:\n",
    "    if int(i)%10 == 0:\n",
    "        decade.append(i)\n",
    "\n",
    "decade"
   ]
  },
  {
   "cell_type": "code",
   "execution_count": 34,
   "metadata": {},
   "outputs": [
    {
     "output_type": "execute_result",
     "data": {
      "text/plain": [
       "    Year   Population Median Age Fertility Rate  Urban Pop %\n",
       "17  1955   77,273,425       20.4           5.49         56.4\n",
       "16  1960   87,751,068       20.2           5.67         55.8\n",
       "15  1965  100,267,062       19.4           5.62         55.1\n",
       "14  1970  114,793,178       18.6           5.57         54.5\n",
       "13  1975  130,680,727       18.5           5.30         53.9\n",
       "12  1980  147,447,836       19.1           4.73         53.3\n",
       "11  1985  164,982,451       19.9           4.11         50.1\n",
       "10  1990  181,413,402       21.3           3.40         46.0\n",
       "9   1995  196,934,260       22.8           2.90         42.0\n",
       "8   2000  211,513,823       24.4           2.55         36.1\n",
       "7   2005  226,289,470       25.6           2.53         30.6\n",
       "6   2010  241,834,215       27.2           2.50         26.1\n",
       "5   2015  258,383,256       28.5           2.45         22.1\n",
       "4   2016  261,556,381       28.8           2.42         19.3\n",
       "3   2017  264,650,963       28.8           2.42         17.1\n",
       "2   2018  267,670,543       28.8           2.42         15.8\n",
       "1   2019  270,625,568       28.8           2.42         14.6\n",
       "18  2020  273,523,615       29.7           2.32         13.5\n",
       "19  2025  287,089,635       31.0           2.32         59.3\n",
       "20  2030  299,198,430       32.4           2.32         62.1\n",
       "21  2035  309,764,944       33.8           2.32         64.6\n",
       "22  2040  318,637,858       35.1           2.32         66.8\n",
       "23  2045  325,705,348       36.2           2.32         68.8\n",
       "24  2050  330,904,664       37.4           2.32         70.7"
      ],
      "text/html": "<div>\n<style scoped>\n    .dataframe tbody tr th:only-of-type {\n        vertical-align: middle;\n    }\n\n    .dataframe tbody tr th {\n        vertical-align: top;\n    }\n\n    .dataframe thead th {\n        text-align: right;\n    }\n</style>\n<table border=\"1\" class=\"dataframe\">\n  <thead>\n    <tr style=\"text-align: right;\">\n      <th></th>\n      <th>Year</th>\n      <th>Population</th>\n      <th>Median Age</th>\n      <th>Fertility Rate</th>\n      <th>Urban Pop %</th>\n    </tr>\n  </thead>\n  <tbody>\n    <tr>\n      <th>17</th>\n      <td>1955</td>\n      <td>77,273,425</td>\n      <td>20.4</td>\n      <td>5.49</td>\n      <td>56.4</td>\n    </tr>\n    <tr>\n      <th>16</th>\n      <td>1960</td>\n      <td>87,751,068</td>\n      <td>20.2</td>\n      <td>5.67</td>\n      <td>55.8</td>\n    </tr>\n    <tr>\n      <th>15</th>\n      <td>1965</td>\n      <td>100,267,062</td>\n      <td>19.4</td>\n      <td>5.62</td>\n      <td>55.1</td>\n    </tr>\n    <tr>\n      <th>14</th>\n      <td>1970</td>\n      <td>114,793,178</td>\n      <td>18.6</td>\n      <td>5.57</td>\n      <td>54.5</td>\n    </tr>\n    <tr>\n      <th>13</th>\n      <td>1975</td>\n      <td>130,680,727</td>\n      <td>18.5</td>\n      <td>5.30</td>\n      <td>53.9</td>\n    </tr>\n    <tr>\n      <th>12</th>\n      <td>1980</td>\n      <td>147,447,836</td>\n      <td>19.1</td>\n      <td>4.73</td>\n      <td>53.3</td>\n    </tr>\n    <tr>\n      <th>11</th>\n      <td>1985</td>\n      <td>164,982,451</td>\n      <td>19.9</td>\n      <td>4.11</td>\n      <td>50.1</td>\n    </tr>\n    <tr>\n      <th>10</th>\n      <td>1990</td>\n      <td>181,413,402</td>\n      <td>21.3</td>\n      <td>3.40</td>\n      <td>46.0</td>\n    </tr>\n    <tr>\n      <th>9</th>\n      <td>1995</td>\n      <td>196,934,260</td>\n      <td>22.8</td>\n      <td>2.90</td>\n      <td>42.0</td>\n    </tr>\n    <tr>\n      <th>8</th>\n      <td>2000</td>\n      <td>211,513,823</td>\n      <td>24.4</td>\n      <td>2.55</td>\n      <td>36.1</td>\n    </tr>\n    <tr>\n      <th>7</th>\n      <td>2005</td>\n      <td>226,289,470</td>\n      <td>25.6</td>\n      <td>2.53</td>\n      <td>30.6</td>\n    </tr>\n    <tr>\n      <th>6</th>\n      <td>2010</td>\n      <td>241,834,215</td>\n      <td>27.2</td>\n      <td>2.50</td>\n      <td>26.1</td>\n    </tr>\n    <tr>\n      <th>5</th>\n      <td>2015</td>\n      <td>258,383,256</td>\n      <td>28.5</td>\n      <td>2.45</td>\n      <td>22.1</td>\n    </tr>\n    <tr>\n      <th>4</th>\n      <td>2016</td>\n      <td>261,556,381</td>\n      <td>28.8</td>\n      <td>2.42</td>\n      <td>19.3</td>\n    </tr>\n    <tr>\n      <th>3</th>\n      <td>2017</td>\n      <td>264,650,963</td>\n      <td>28.8</td>\n      <td>2.42</td>\n      <td>17.1</td>\n    </tr>\n    <tr>\n      <th>2</th>\n      <td>2018</td>\n      <td>267,670,543</td>\n      <td>28.8</td>\n      <td>2.42</td>\n      <td>15.8</td>\n    </tr>\n    <tr>\n      <th>1</th>\n      <td>2019</td>\n      <td>270,625,568</td>\n      <td>28.8</td>\n      <td>2.42</td>\n      <td>14.6</td>\n    </tr>\n    <tr>\n      <th>18</th>\n      <td>2020</td>\n      <td>273,523,615</td>\n      <td>29.7</td>\n      <td>2.32</td>\n      <td>13.5</td>\n    </tr>\n    <tr>\n      <th>19</th>\n      <td>2025</td>\n      <td>287,089,635</td>\n      <td>31.0</td>\n      <td>2.32</td>\n      <td>59.3</td>\n    </tr>\n    <tr>\n      <th>20</th>\n      <td>2030</td>\n      <td>299,198,430</td>\n      <td>32.4</td>\n      <td>2.32</td>\n      <td>62.1</td>\n    </tr>\n    <tr>\n      <th>21</th>\n      <td>2035</td>\n      <td>309,764,944</td>\n      <td>33.8</td>\n      <td>2.32</td>\n      <td>64.6</td>\n    </tr>\n    <tr>\n      <th>22</th>\n      <td>2040</td>\n      <td>318,637,858</td>\n      <td>35.1</td>\n      <td>2.32</td>\n      <td>66.8</td>\n    </tr>\n    <tr>\n      <th>23</th>\n      <td>2045</td>\n      <td>325,705,348</td>\n      <td>36.2</td>\n      <td>2.32</td>\n      <td>68.8</td>\n    </tr>\n    <tr>\n      <th>24</th>\n      <td>2050</td>\n      <td>330,904,664</td>\n      <td>37.4</td>\n      <td>2.32</td>\n      <td>70.7</td>\n    </tr>\n  </tbody>\n</table>\n</div>"
     },
     "metadata": {},
     "execution_count": 34
    }
   ],
   "source": [
    "df_indo"
   ]
  },
  {
   "cell_type": "code",
   "execution_count": 35,
   "metadata": {},
   "outputs": [
    {
     "output_type": "execute_result",
     "data": {
      "text/plain": [
       "   Year   Population Median Age Fertility Rate  Urban Pop %\n",
       "0  1960   87,751,068       20.2           5.67         55.8\n",
       "1  1970  114,793,178       18.6           5.57         54.5\n",
       "2  1980  147,447,836       19.1           4.73         53.3\n",
       "3  1990  181,413,402       21.3           3.40         46.0\n",
       "4  2000  211,513,823       24.4           2.55         36.1\n",
       "5  2010  241,834,215       27.2           2.50         26.1\n",
       "6  2020  273,523,615       29.7           2.32         13.5\n",
       "7  2030  299,198,430       32.4           2.32         62.1\n",
       "8  2040  318,637,858       35.1           2.32         66.8\n",
       "9  2050  330,904,664       37.4           2.32         70.7"
      ],
      "text/html": "<div>\n<style scoped>\n    .dataframe tbody tr th:only-of-type {\n        vertical-align: middle;\n    }\n\n    .dataframe tbody tr th {\n        vertical-align: top;\n    }\n\n    .dataframe thead th {\n        text-align: right;\n    }\n</style>\n<table border=\"1\" class=\"dataframe\">\n  <thead>\n    <tr style=\"text-align: right;\">\n      <th></th>\n      <th>Year</th>\n      <th>Population</th>\n      <th>Median Age</th>\n      <th>Fertility Rate</th>\n      <th>Urban Pop %</th>\n    </tr>\n  </thead>\n  <tbody>\n    <tr>\n      <th>0</th>\n      <td>1960</td>\n      <td>87,751,068</td>\n      <td>20.2</td>\n      <td>5.67</td>\n      <td>55.8</td>\n    </tr>\n    <tr>\n      <th>1</th>\n      <td>1970</td>\n      <td>114,793,178</td>\n      <td>18.6</td>\n      <td>5.57</td>\n      <td>54.5</td>\n    </tr>\n    <tr>\n      <th>2</th>\n      <td>1980</td>\n      <td>147,447,836</td>\n      <td>19.1</td>\n      <td>4.73</td>\n      <td>53.3</td>\n    </tr>\n    <tr>\n      <th>3</th>\n      <td>1990</td>\n      <td>181,413,402</td>\n      <td>21.3</td>\n      <td>3.40</td>\n      <td>46.0</td>\n    </tr>\n    <tr>\n      <th>4</th>\n      <td>2000</td>\n      <td>211,513,823</td>\n      <td>24.4</td>\n      <td>2.55</td>\n      <td>36.1</td>\n    </tr>\n    <tr>\n      <th>5</th>\n      <td>2010</td>\n      <td>241,834,215</td>\n      <td>27.2</td>\n      <td>2.50</td>\n      <td>26.1</td>\n    </tr>\n    <tr>\n      <th>6</th>\n      <td>2020</td>\n      <td>273,523,615</td>\n      <td>29.7</td>\n      <td>2.32</td>\n      <td>13.5</td>\n    </tr>\n    <tr>\n      <th>7</th>\n      <td>2030</td>\n      <td>299,198,430</td>\n      <td>32.4</td>\n      <td>2.32</td>\n      <td>62.1</td>\n    </tr>\n    <tr>\n      <th>8</th>\n      <td>2040</td>\n      <td>318,637,858</td>\n      <td>35.1</td>\n      <td>2.32</td>\n      <td>66.8</td>\n    </tr>\n    <tr>\n      <th>9</th>\n      <td>2050</td>\n      <td>330,904,664</td>\n      <td>37.4</td>\n      <td>2.32</td>\n      <td>70.7</td>\n    </tr>\n  </tbody>\n</table>\n</div>"
     },
     "metadata": {},
     "execution_count": 35
    }
   ],
   "source": [
    "df_indo[df_indo['Year'].isin(decade)].reset_index(drop=True)"
   ]
  },
  {
   "cell_type": "code",
   "execution_count": 199,
   "metadata": {},
   "outputs": [],
   "source": []
  },
  {
   "cell_type": "code",
   "execution_count": null,
   "metadata": {},
   "outputs": [],
   "source": []
  },
  {
   "cell_type": "code",
   "execution_count": null,
   "metadata": {},
   "outputs": [],
   "source": []
  },
  {
   "cell_type": "code",
   "execution_count": null,
   "metadata": {},
   "outputs": [],
   "source": []
  }
 ]
}